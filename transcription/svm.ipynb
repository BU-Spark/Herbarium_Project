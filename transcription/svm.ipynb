{
 "cells": [
  {
   "cell_type": "code",
   "execution_count": null,
   "metadata": {},
   "outputs": [],
   "source": [
    "import pandas as pd\n",
    "import numpy as np\n",
    "from numpy import log, dot, e\n",
    "from numpy.random import rand\n",
    "import matplotlib.pyplot as plt\n",
    "from sklearn.metrics import confusion_matrix, classification_report\n",
    "from sklearn.datasets import load_breast_cancer\n",
    "\n",
    "from sklearn.model_selection import train_test_split\n",
    "from sklearn.datasets import load_breast_cancer\n",
    "\n",
    "# start default svm classifier\n",
    "\n",
    "data = load_breast_cancer()\n",
    "\n",
    "X = data['data']\n",
    "Y = data['target']\n",
    "#Y[Y == 0] = -1\n",
    "\n",
    "print(\"X shape\", X.shape, sep='\\t')\n",
    "\n",
    "print(\"Y shape\", Y.shape, sep='\\t')"
   ]
  },
  {
   "cell_type": "code",
   "execution_count": null,
   "metadata": {},
   "outputs": [],
   "source": [
    "from sklearn.preprocessing import MinMaxScaler\n",
    "\n",
    "scaler = MinMaxScaler(feature_range=(-1, 1))\n",
    "X = scaler.fit_transform(X)"
   ]
  },
  {
   "cell_type": "code",
   "execution_count": null,
   "metadata": {},
   "outputs": [],
   "source": [
    "from sklearn.model_selection import train_test_split\n",
    "\n",
    "xtrain, xtest, ytrain, ytest = train_test_split(X, Y, test_size=0.2, random_state=42, shuffle=True)# -- Code Required --\n",
    "\n",
    "print(\"xtrain shape:\", xtrain.shape, sep='\\t')\n",
    "print(\"xtest shape:\", xtest.shape, '\\n', sep='\\t')\n",
    "\n",
    "print(\"ytrain shape:\", ytrain.shape, sep='\\t')\n",
    "print(\"ytest shape:\", ytest.shape, sep='\\t')"
   ]
  },
  {
   "cell_type": "code",
   "execution_count": null,
   "metadata": {},
   "outputs": [],
   "source": [
    "def sigmoid(z): \n",
    "    sig = 1/(1+np.exp(-z))\n",
    "    return sig"
   ]
  },
  {
   "cell_type": "code",
   "execution_count": null,
   "metadata": {},
   "outputs": [],
   "source": [
    "from numpy import linalg as LA\n",
    "def loss(X, y, w, lmda=0.001):\n",
    "    n = X.shape[0]\n",
    "    hx = sigmoid(np.dot(X,w))\n",
    "    neghx = 1- sigmoid(np.dot(X,w))\n",
    "    nll = (-1/n) *np.sum(np.matmul(y,np.log(hx)) + np.matmul((1-y), np.log(neghx)))\n",
    "    reg = lmda/2 * LA.norm(w,2)\n",
    "\n",
    "    return nll + reg\n",
    "\n",
    "w = rand(xtrain.shape[1], 1)\n",
    "#print(xtrain.shape, w.shape)\n",
    "temp = loss(xtrain, ytrain, w)\n",
    "\n",
    "print(temp)"
   ]
  },
  {
   "cell_type": "code",
   "execution_count": null,
   "metadata": {},
   "outputs": [],
   "source": [
    "def predict(X, w): \n",
    "    sig = sigmoid(np.dot(X,w))     \n",
    "    predictions = [x >= 1/2 for x in sig]\n",
    "    return predictions"
   ]
  },
  {
   "cell_type": "code",
   "execution_count": null,
   "metadata": {},
   "outputs": [],
   "source": [
    "def gradient(X, y, w, lmda=0.001):\n",
    "    n, d = X.shape\n",
    "    y = np.expand_dims(y, axis=1)\n",
    "    y_hat = sigmoid(np.dot(X,w))\n",
    "    grad = (-1/n) * (np.matmul(np.transpose(X),(y-y_hat))) + np.dot(lmda,w)\n",
    "    return grad\n",
    "\n",
    "w = rand(xtrain.shape[1], 1)\n",
    "print(xtrain.shape, w.shape)\n",
    "temp = gradient(xtrain, ytrain, w)\n",
    "print(temp.shape)"
   ]
  },
  {
   "cell_type": "code",
   "execution_count": null,
   "metadata": {},
   "outputs": [],
   "source": [
    "def fit(X, y, epochs=200, lr=0.001, lmda=0.001): # default arguments     \n",
    "    loss_arr = []\n",
    "    w = rand(X.shape[1], 1)\n",
    "    #print(w.shape, \"W\")\n",
    "                \n",
    "    for _ in range(epochs):        \n",
    "        # Gradient Descent!\n",
    "        curr_loss = loss(X,y,w)\n",
    "        loss_arr.append(curr_loss) \n",
    "\n",
    "        grad = gradient(X,y,w,lmda)\n",
    "        w = w - lr * grad\n",
    "    \n",
    "    return w, loss_arr"
   ]
  },
  {
   "cell_type": "code",
   "execution_count": null,
   "metadata": {},
   "outputs": [],
   "source": [
    "w, loss_arr = fit(xtrain,ytrain,500, 0.1, 0.01)\n",
    "plt.figure()\n",
    "plt.plot(range(1,501), loss_arr)\n",
    "plt.title(\"Loss over epochs\")\n",
    "plt.ylim(bottom = -0.1)\n",
    "plt.show()"
   ]
  },
  {
   "cell_type": "code",
   "execution_count": null,
   "metadata": {},
   "outputs": [],
   "source": [
    "# percentage of cases correctly classified\n",
    "CCR = predict(xtest,w)\n",
    "count = 0\n",
    "for i in range(sum(sum(CCR))):\n",
    "  if sum(CCR[i]) == ytest[i]:\n",
    "    count += 1\n",
    "print(count / sum(sum(CCR)))"
   ]
  }
 ],
 "metadata": {
  "language_info": {
   "name": "python"
  },
  "orig_nbformat": 4
 },
 "nbformat": 4,
 "nbformat_minor": 2
}
