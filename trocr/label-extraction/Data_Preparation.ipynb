{
 "cells": [
  {
   "cell_type": "markdown",
   "id": "60eb82af",
   "metadata": {},
   "source": [
    "## Import Modules"
   ]
  },
  {
   "cell_type": "code",
   "execution_count": null,
   "id": "fc4b7df2",
   "metadata": {},
   "outputs": [],
   "source": [
    "# ! pip install -U albumentations opencv-python\n",
    "# ! pip install datasets\n",
    "from datasets import load_dataset\n",
    "\n",
    "import json"
   ]
  },
  {
   "cell_type": "markdown",
   "id": "bc40e8c6",
   "metadata": {},
   "source": [
    "## Data Labeling"
   ]
  },
  {
   "cell_type": "code",
   "execution_count": null,
   "id": "bb1419e9",
   "metadata": {},
   "outputs": [],
   "source": [
    "# Data labelling\n",
    "# https://labelstud.io/guide/get_started.html#Quick-start\n",
    "# https://labelstud.io/guide/storage.html#Local-storage"
   ]
  },
  {
   "cell_type": "markdown",
   "id": "8ba27833",
   "metadata": {},
   "source": [
    "## COCO format to JSONL conversion\n",
    "\n",
    "We perform this conversion for convenience. If COCO format annotations are used, please note that changes to the Hugging Face dataset builder has to be made accordingly."
   ]
  },
  {
   "cell_type": "code",
   "execution_count": 25,
   "id": "9b45bdc1",
   "metadata": {},
   "outputs": [],
   "source": [
    "# Load the MS COCO JSON file\n",
    "coco_file_path = 'data/plant-sample-segmentation-dataset/metadata.json'\n",
    "with open(coco_file_path, 'r') as file:\n",
    "    coco_data = json.load(file)\n",
    "\n",
    "# Extracting image file names and their corresponding IDs\n",
    "image_info = {image['id']: \"data/\"+image['file_name'].split(\"/\")[-1] for image in coco_data['images']}\n",
    "\n",
    "# Initialize a dictionary to hold the objects for each image\n",
    "image_objects = {image_id: {'bbox': [], 'categories': []} for image_id in image_info.keys()}\n",
    "\n",
    "# Populate the image_objects dictionary with bounding boxes and categories\n",
    "for annotation in coco_data['annotations']:\n",
    "    image_id = annotation['image_id']\n",
    "    bbox = annotation['bbox']\n",
    "    category_id = annotation['category_id']\n",
    "    image_objects[image_id]['bbox'].append(bbox)\n",
    "    image_objects[image_id]['categories'].append(category_id)\n",
    "\n",
    "# Convert to our desired JSONL format and write to a file\n",
    "output_file_path = 'data/plant-sample-segmentation-dataset/metadata.jsonl'\n",
    "with open(output_file_path, 'w') as file:\n",
    "    for image_id, objects in image_objects.items():\n",
    "        file_name = image_info[image_id]\n",
    "        line = {'file_name': file_name, 'objects': objects}\n",
    "        file.write(json.dumps(line) + '\\n')"
   ]
  },
  {
   "cell_type": "markdown",
   "id": "e9aca929",
   "metadata": {},
   "source": [
    "**Sample JSONL output:**\n",
    "\n",
    "{\"file_name\": \"data/1318182025.jpg\", \"objects\": {\"bbox\": [[3743.3308550185875, 7655.788104089219, 2469.2453531598517, 1251.5353159851297], [2390.31970260223, 8084.241635687732, 1262.8104089219332, 417.1784386617103]\n",
    ", [3608.0297397769523, 259.3271375464684, 2390.31970260223, 575.0297397769516], [3596.7546468401483, 868.1821561338289, 2063.3420074349438, 541.2044609665426]], \"categories\": [1, 0, 0, 0]}}\n",
    "\n",
    "{\"file_name\": \"data/1318212360.jpg\", \"objects\": {\"bbox\": [[1576.1598513011154, 8037.2973977695165, 2246.8661710037177, 558.9219330855032], [3890.0966542750934, 7511.9107806691445, 2347.4721189591082, 1442.0185873605\n",
    "942]], \"categories\": [0, 1]}}"
   ]
  },
  {
   "cell_type": "markdown",
   "id": "b1c9be3e",
   "metadata": {},
   "source": [
    "## Hugging Face (HF) Dataset Creation\n",
    "\n",
    "Please feel free to use on of the methods below to load your dataset. The HF loading script offers great flexibility. \n",
    "\n",
    "REFERENCES: \n",
    "1. https://huggingface.co/docs/datasets/image_dataset\n",
    "2. https://huggingface.co/datasets/cppe-5/blob/main/cppe-5.py"
   ]
  },
  {
   "cell_type": "markdown",
   "id": "be3e3186",
   "metadata": {},
   "source": [
    "### Dataset loaded using HF loading script"
   ]
  },
  {
   "cell_type": "code",
   "execution_count": 58,
   "id": "82efd8b9",
   "metadata": {
    "scrolled": false
   },
   "outputs": [
    {
     "data": {
      "text/plain": [
       "DatasetDict({\n",
       "    train: Dataset({\n",
       "        features: ['image', 'objects'],\n",
       "        num_rows: 15\n",
       "    })\n",
       "})"
      ]
     },
     "execution_count": 58,
     "metadata": {},
     "output_type": "execute_result"
    }
   ],
   "source": [
    "dataset = load_dataset(\"data/plant-sample-segmentation-dataset/\")\n",
    "dataset"
   ]
  },
  {
   "cell_type": "code",
   "execution_count": 59,
   "id": "f2cbd882",
   "metadata": {},
   "outputs": [
    {
     "data": {
      "text/plain": [
       "{'bbox': [[3743.330810546875,\n",
       "   7655.7880859375,\n",
       "   2469.245361328125,\n",
       "   1251.5352783203125],\n",
       "  [2390.31982421875, 8084.24169921875, 1262.8104248046875, 417.1784362792969],\n",
       "  [3608.02978515625, 259.3271484375, 2390.31982421875, 575.0297241210938],\n",
       "  [3596.754638671875, 868.18212890625, 2063.342041015625, 541.2044677734375]],\n",
       " 'categories': [1, 0, 0, 0]}"
      ]
     },
     "execution_count": 59,
     "metadata": {},
     "output_type": "execute_result"
    }
   ],
   "source": [
    "dataset[\"train\"][0][\"objects\"]"
   ]
  },
  {
   "cell_type": "markdown",
   "id": "d0fb17e4",
   "metadata": {},
   "source": [
    "### Dataset loaded using HF image folder based loader"
   ]
  },
  {
   "cell_type": "code",
   "execution_count": 50,
   "id": "bcba8494",
   "metadata": {},
   "outputs": [
    {
     "data": {
      "application/vnd.jupyter.widget-view+json": {
       "model_id": "b14969a56bd340de8820b9d99134e338",
       "version_major": 2,
       "version_minor": 0
      },
      "text/plain": [
       "Resolving data files:   0%|          | 0/18 [00:00<?, ?it/s]"
      ]
     },
     "metadata": {},
     "output_type": "display_data"
    },
    {
     "data": {
      "application/vnd.jupyter.widget-view+json": {
       "model_id": "75ba1c3059dc47a1b7c5d8bfd82448a5",
       "version_major": 2,
       "version_minor": 0
      },
      "text/plain": [
       "Downloading data files:   0%|          | 0/16 [00:00<?, ?it/s]"
      ]
     },
     "metadata": {},
     "output_type": "display_data"
    },
    {
     "data": {
      "application/vnd.jupyter.widget-view+json": {
       "model_id": "2c8cc3dba14c4e8ab28972c29e5d8732",
       "version_major": 2,
       "version_minor": 0
      },
      "text/plain": [
       "Downloading data files:   0%|          | 0/2 [00:00<?, ?it/s]"
      ]
     },
     "metadata": {},
     "output_type": "display_data"
    },
    {
     "data": {
      "application/vnd.jupyter.widget-view+json": {
       "model_id": "d88df70ea3c6452b8732314ce511d11a",
       "version_major": 2,
       "version_minor": 0
      },
      "text/plain": [
       "Extracting data files:   0%|          | 0/2 [00:00<?, ?it/s]"
      ]
     },
     "metadata": {},
     "output_type": "display_data"
    },
    {
     "data": {
      "application/vnd.jupyter.widget-view+json": {
       "model_id": "55b036331fb8454498bb7ad0645a1954",
       "version_major": 2,
       "version_minor": 0
      },
      "text/plain": [
       "Generating train split: 0 examples [00:00, ? examples/s]"
      ]
     },
     "metadata": {},
     "output_type": "display_data"
    },
    {
     "data": {
      "text/plain": [
       "Dataset({\n",
       "    features: ['image', 'objects'],\n",
       "    num_rows: 15\n",
       "})"
      ]
     },
     "execution_count": 50,
     "metadata": {},
     "output_type": "execute_result"
    }
   ],
   "source": [
    "# ImageFolder based data loader ()\n",
    "dataset = load_dataset(\"imagefolder\", data_dir=\"data/plant-sample-segmentation-dataset/\", split=\"train\")\n",
    "dataset"
   ]
  },
  {
   "cell_type": "code",
   "execution_count": 51,
   "id": "b154cffe",
   "metadata": {},
   "outputs": [
    {
     "data": {
      "text/plain": [
       "{'bbox': [[3743.3308550185875,\n",
       "   7655.788104089219,\n",
       "   2469.2453531598517,\n",
       "   1251.5353159851297],\n",
       "  [2390.31970260223, 8084.241635687732, 1262.8104089219332, 417.1784386617103],\n",
       "  [3608.0297397769523, 259.3271375464684, 2390.31970260223, 575.0297397769516],\n",
       "  [3596.7546468401483,\n",
       "   868.1821561338289,\n",
       "   2063.3420074349438,\n",
       "   541.2044609665426]],\n",
       " 'categories': [1, 0, 0, 0]}"
      ]
     },
     "execution_count": 51,
     "metadata": {},
     "output_type": "execute_result"
    }
   ],
   "source": [
    "dataset[0][\"objects\"]"
   ]
  },
  {
   "cell_type": "code",
   "execution_count": 61,
   "id": "7f484d63",
   "metadata": {},
   "outputs": [],
   "source": [
    "# This step is necessary to push the dataset we created above, to HF Datasets\n",
    "# ! huggingface-cli login"
   ]
  },
  {
   "cell_type": "code",
   "execution_count": 60,
   "id": "1f2e74a5",
   "metadata": {},
   "outputs": [
    {
     "data": {
      "application/vnd.jupyter.widget-view+json": {
       "model_id": "e6d9063c1ee042f8adc41c49666d275d",
       "version_major": 2,
       "version_minor": 0
      },
      "text/plain": [
       "Map:   0%|          | 0/8 [00:00<?, ? examples/s]"
      ]
     },
     "metadata": {},
     "output_type": "display_data"
    },
    {
     "data": {
      "application/vnd.jupyter.widget-view+json": {
       "model_id": "2f9d22c76d804a07bebecc4fc9ed9217",
       "version_major": 2,
       "version_minor": 0
      },
      "text/plain": [
       "Pushing dataset shards to the dataset hub:   0%|          | 0/2 [00:00<?, ?it/s]"
      ]
     },
     "metadata": {},
     "output_type": "display_data"
    },
    {
     "data": {
      "application/vnd.jupyter.widget-view+json": {
       "model_id": "9fc4cc912eda4a7a939a20952ae61e97",
       "version_major": 2,
       "version_minor": 0
      },
      "text/plain": [
       "Creating parquet from Arrow format:   0%|          | 0/1 [00:00<?, ?ba/s]"
      ]
     },
     "metadata": {},
     "output_type": "display_data"
    },
    {
     "data": {
      "application/vnd.jupyter.widget-view+json": {
       "model_id": "9fb2d946626d4b949837310513a279ca",
       "version_major": 2,
       "version_minor": 0
      },
      "text/plain": [
       "Map:   0%|          | 0/7 [00:00<?, ? examples/s]"
      ]
     },
     "metadata": {},
     "output_type": "display_data"
    },
    {
     "data": {
      "application/vnd.jupyter.widget-view+json": {
       "model_id": "dd31035a22d54338ae02fe661719cba3",
       "version_major": 2,
       "version_minor": 0
      },
      "text/plain": [
       "Creating parquet from Arrow format:   0%|          | 0/1 [00:00<?, ?ba/s]"
      ]
     },
     "metadata": {},
     "output_type": "display_data"
    },
    {
     "data": {
      "application/vnd.jupyter.widget-view+json": {
       "model_id": "4433fee67a7c4ce589cf148ddc7c94f0",
       "version_major": 2,
       "version_minor": 0
      },
      "text/plain": [
       "Downloading metadata:   0%|          | 0.00/596 [00:00<?, ?B/s]"
      ]
     },
     "metadata": {},
     "output_type": "display_data"
    }
   ],
   "source": [
    "dataset.push_to_hub(\"KabilanM/plant-label-classification\")"
   ]
  },
  {
   "cell_type": "markdown",
   "id": "eae45f0f",
   "metadata": {},
   "source": [
    "### Now our dataset has been pushed to the HF hub, which we will access from our training notebook/script."
   ]
  },
  {
   "cell_type": "code",
   "execution_count": null,
   "id": "5e7a46d1",
   "metadata": {},
   "outputs": [],
   "source": []
  }
 ],
 "metadata": {
  "kernelspec": {
   "display_name": "Python 3 (ipykernel)",
   "language": "python",
   "name": "python3"
  },
  "language_info": {
   "codemirror_mode": {
    "name": "ipython",
    "version": 3
   },
   "file_extension": ".py",
   "mimetype": "text/x-python",
   "name": "python",
   "nbconvert_exporter": "python",
   "pygments_lexer": "ipython3",
   "version": "3.9.16"
  }
 },
 "nbformat": 4,
 "nbformat_minor": 5
}
