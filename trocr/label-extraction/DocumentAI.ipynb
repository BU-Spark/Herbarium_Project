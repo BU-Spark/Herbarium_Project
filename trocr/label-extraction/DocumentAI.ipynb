{
 "cells": [
  {
   "cell_type": "markdown",
   "id": "7dcb2052",
   "metadata": {},
   "source": [
    "## LayoutLM"
   ]
  },
  {
   "cell_type": "code",
   "execution_count": null,
   "id": "3adea13a",
   "metadata": {},
   "outputs": [],
   "source": [
    "# Data labelling\n",
    "# https://labelstud.io/guide/get_started.html#Quick-start"
   ]
  }
 ],
 "metadata": {
  "kernelspec": {
   "display_name": "Python 3 (ipykernel)",
   "language": "python",
   "name": "python3"
  },
  "language_info": {
   "codemirror_mode": {
    "name": "ipython",
    "version": 3
   },
   "file_extension": ".py",
   "mimetype": "text/x-python",
   "name": "python",
   "nbconvert_exporter": "python",
   "pygments_lexer": "ipython3",
   "version": "3.9.16"
  }
 },
 "nbformat": 4,
 "nbformat_minor": 5
}
