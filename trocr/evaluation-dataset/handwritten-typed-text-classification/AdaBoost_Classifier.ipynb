{
 "cells": [
  {
   "cell_type": "code",
   "execution_count": null,
   "id": "10ae3ccf",
   "metadata": {},
   "outputs": [],
   "source": [
    "import torch\n",
    "import torch.nn as nn\n",
    "import torch.optim as optim\n",
    "from sklearn.ensemble import AdaBoostClassifier"
   ]
  },
  {
   "cell_type": "code",
   "execution_count": null,
   "id": "ea50f012",
   "metadata": {},
   "outputs": [],
   "source": [
    "# Define your base neural network model\n",
    "class NeuralNetwork(nn.Module):\n",
    "    def __init__(self):\n",
    "        super(NeuralNetwork, self).__init__()\n",
    "        # Define your model architecture here\n",
    "\n",
    "    def forward(self, x):\n",
    "        # Define the forward pass of your model here\n",
    "        pass"
   ]
  },
  {
   "cell_type": "code",
   "execution_count": null,
   "id": "5ccff481",
   "metadata": {},
   "outputs": [],
   "source": [
    "# Create a list to store the base models\n",
    "base_models = []\n",
    "\n",
    "# Create a list to store the weights of each base model\n",
    "base_model_weights = []\n",
    "\n",
    "# Create a list to store the training data weights\n",
    "data_weights = []\n",
    "\n",
    "# Initialize the training data weights with equal weights\n",
    "# You can modify this based on your specific dataset\n",
    "num_samples = len(train_data)\n",
    "initial_weight = 1 / num_samples\n",
    "data_weights = [initial_weight] * num_samples\n",
    "\n",
    "# Define the number of base models\n",
    "num_base_models = 10"
   ]
  },
  {
   "cell_type": "code",
   "execution_count": null,
   "id": "5f8451d2",
   "metadata": {},
   "outputs": [],
   "source": [
    "for i in range(num_base_models):\n",
    "    # Create a new instance of the base neural network model\n",
    "    model = NeuralNetwork()\n",
    "\n",
    "    # Define your loss function and optimizer\n",
    "    criterion = nn.CrossEntropyLoss()\n",
    "    optimizer = optim.SGD(model.parameters(), lr=0.001)\n",
    "\n",
    "    # Train the base model with weighted data\n",
    "    for epoch in range(num_epochs):\n",
    "        # Sample the training data based on the data weights\n",
    "        indices = torch.multinomial(torch.tensor(data_weights), num_samples, replacement=True)\n",
    "        sampled_data = train_data[indices]\n",
    "        sampled_labels = train_labels[indices]\n",
    "\n",
    "        # Perform a forward pass, calculate the loss, and update the weights\n",
    "        optimizer.zero_grad()\n",
    "        outputs = model(sampled_data)\n",
    "        loss = criterion(outputs, sampled_labels)\n",
    "        loss.backward()\n",
    "        optimizer.step()\n",
    "\n",
    "    # Calculate the model's accuracy on the training data\n",
    "    predicted_labels = model(train_data)\n",
    "    accuracy = (predicted_labels == train_labels).sum().item() / len(train_data)\n",
    "\n",
    "    # Calculate the model's weighted error\n",
    "    misclassified_indices = (predicted_labels != train_labels).nonzero().squeeze()\n",
    "    error = torch.sum(data_weights[misclassified_indices])\n",
    "\n",
    "    # Calculate the model's weight\n",
    "    model_weight = 0.5 * torch.log((1 - error) / error)\n",
    "\n",
    "    # Update the data weights\n",
    "    data_weights[misclassified_indices] *= torch.exp(model_weight)\n",
    "    data_weights /= torch.sum(data_weights)\n",
    "\n",
    "    # Store the base model and its weight\n",
    "    base_models.append(model)\n",
    "    base_model_weights.append(model_weight)"
   ]
  },
  {
   "cell_type": "code",
   "execution_count": null,
   "id": "b60c3f31",
   "metadata": {},
   "outputs": [],
   "source": [
    "# Create an ensemble classifier using AdaBoost\n",
    "ada_boost_classifier = AdaBoostClassifier(base_estimators=base_models, base_weights=base_model_weights)\n",
    "\n",
    "# Evaluate the ensemble classifier\n",
    "predictions = ada_boost_classifier(test_data)\n",
    "\n",
    "# Calculate the accuracy of the ensemble classifier\n",
    "accuracy = (predictions == test_labels).sum().item() / len(test_data)"
   ]
  }
 ],
 "metadata": {
  "kernelspec": {
   "display_name": "Python 3 (ipykernel)",
   "language": "python",
   "name": "python3"
  },
  "language_info": {
   "codemirror_mode": {
    "name": "ipython",
    "version": 3
   },
   "file_extension": ".py",
   "mimetype": "text/x-python",
   "name": "python",
   "nbconvert_exporter": "python",
   "pygments_lexer": "ipython3",
   "version": "3.9.16"
  }
 },
 "nbformat": 4,
 "nbformat_minor": 5
}
