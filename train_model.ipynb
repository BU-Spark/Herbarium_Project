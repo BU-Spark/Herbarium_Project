{
 "cells": [
  {
   "cell_type": "code",
   "execution_count": 1,
   "metadata": {
    "scrolled": true
   },
   "outputs": [],
   "source": [
    "#%pip install python-Levenshtein\n",
    "import Levenshtein as levenshtein"
   ]
  },
  {
   "cell_type": "code",
   "execution_count": 2,
   "metadata": {},
   "outputs": [],
   "source": [
    "import math\n",
    "import os\n",
    "import time\n",
    "import wget\n",
    "import random\n",
    "import numpy as np\n",
    "import mxnet as mx\n",
    "from mxnet import gluon, autograd, nd\n",
    "from mxnet.gluon import nn, rnn\n",
    "from mxnet.gluon.data import ArrayDataset, DataLoader\n",
    "import string\n",
    "import tarfile\n",
    "import urllib\n",
    "import xml.etree.ElementTree as ET\n",
    "from PIL import Image, ImageOps\n",
    "import cv2\n",
    "import numpy as np\n",
    "import _pickle as cPickle\n",
    "import re\n",
    "import pandas as pd\n",
    "from IPython import display\n",
    "import matplotlib.pyplot as plt\n",
    "import pickle\n",
    "import glob\n",
    "import matplotlib.gridspec as gridspec\n",
    "%matplotlib inline\n",
    "from skimage import transform as skimage_tf\n",
    "from skimage import exposure\n",
    "np.seterr(all='raise')\n",
    "\n",
    "import multiprocessing\n",
    "mx.random.seed(1)\n",
    "from mxboard import SummaryWriter\n"
   ]
  },
  {
   "cell_type": "markdown",
   "metadata": {},
   "source": [
    "<h3>Pre Processing</h3>"
   ]
  },
  {
   "cell_type": "code",
   "execution_count": 3,
   "metadata": {},
   "outputs": [
    {
     "name": "stdout",
     "output_type": "stream",
     "text": [
      "Total number of images =  791\n"
     ]
    }
   ],
   "source": [
    "import matplotlib as plt\n",
    "import os\n",
    "import PIL\n",
    "import pathlib\n",
    "\n",
    "image_dir = \"/restricted/projectnb/cs501t2/minglan/words/\"\n",
    "\n",
    "image_dir = pathlib.Path(image_dir) \n",
    "image_count = len(list(image_dir.glob('*.png')))\n",
    "print(\"Total number of images = \", image_count)"
   ]
  },
  {
   "cell_type": "code",
   "execution_count": 4,
   "metadata": {},
   "outputs": [],
   "source": [
    "MAX_IMAGE_SIZE_WORD = (60, 800)\n",
    "def resize_image(image, desired_size):\n",
    "    ''' Helper function to resize an image while keeping the aspect ratio.\n",
    "    Parameter\n",
    "    ---------\n",
    "    \n",
    "    image: np.array\n",
    "        The image to be resized.\n",
    "    desired_size: (int, int)\n",
    "        The (height, width) of the resized image\n",
    "    Return\n",
    "    ------\n",
    "    image: np.array\n",
    "        The image of size = desired_size\n",
    "    bounding box: (int, int, int, int)\n",
    "        (x, y, w, h) in percentages of the resized image of the original\n",
    "    '''\n",
    "    size = image.shape[:2]\n",
    "    if size[0] > desired_size[0] or size[1] > desired_size[1]:\n",
    "        ratio_w = float(desired_size[0])/size[0]\n",
    "        ratio_h = float(desired_size[1])/size[1]\n",
    "        ratio = min(ratio_w, ratio_h)\n",
    "        new_size = tuple([int(x*ratio) for x in size])\n",
    "        image = cv2.resize(image, (new_size[1], new_size[0]))\n",
    "        size = image.shape\n",
    "            \n",
    "    delta_w = max(0, desired_size[1] - size[1])\n",
    "    delta_h = max(0, desired_size[0] - size[0])\n",
    "    top, bottom = delta_h//2, delta_h-(delta_h//2)\n",
    "    left, right = delta_w//2, delta_w-(delta_w//2)\n",
    "            \n",
    "    color = image[0][0]\n",
    "    if color < 230:\n",
    "        color = 230\n",
    "    image = cv2.copyMakeBorder(image, top, bottom, left, right, cv2.BORDER_CONSTANT, value=float(color))\n",
    "    crop_bb = (left/image.shape[1], top/image.shape[0], (image.shape[1] - right - left)/image.shape[1],\n",
    "               (image.shape[0] - bottom - top)/image.shape[0])\n",
    "    return image, crop_bb\n",
    "\n",
    "def _pre_process_image(img_in):\n",
    "    im = cv2.imread(img_in, cv2.IMREAD_GRAYSCALE)\n",
    "    if np.size(im) == 1: # skip if the image data is corrupt.\n",
    "        return None\n",
    "    # reduce the size of form images so that it can fit in memory.\n",
    "    im, _ = resize_image(im, MAX_IMAGE_SIZE_WORD)\n",
    "    img_arr = np.asarray(im)\n",
    "    return img_arr "
   ]
  },
  {
   "cell_type": "markdown",
   "metadata": {},
   "source": [
    "<h3> Load Data </h3>"
   ]
  },
  {
   "cell_type": "code",
   "execution_count": 5,
   "metadata": {},
   "outputs": [],
   "source": [
    "from mxnet.gluon.data import dataset\n",
    "\n",
    "image_data_file_name = \"image_data-word-text-word.plk\"\n",
    "DATA_FOLDER = \"/restricted/projectnb/cs501t2/minglan/words/\"\n",
    "images_names = []\n",
    "error_count = 0\n",
    "#     image_files = glob.glob(DATA_FOLDER + '/**/*.png', recursive=True)\n",
    "image_files = glob.glob(DATA_FOLDER + '*.png')\n",
    "for filepath in image_files:\n",
    "    try:\n",
    "        images_names.append(filepath.split('/')[-1].split('.')[0])\n",
    "    except:\n",
    "        error_count += 1\n",
    "random.shuffle(images_names)\n",
    "split = 0.8\n",
    "train_subjects = images_names[:int(split*len(images_names))]\n",
    "test_subjects = images_names[int(split*len(images_names)):]"
   ]
  },
  {
   "cell_type": "code",
   "execution_count": 6,
   "metadata": {},
   "outputs": [],
   "source": [
    "class IAMDataSet(dataset.ArrayDataset):\n",
    "    def __init__(self, train=True): \n",
    "        images_data = []\n",
    "        f = open('/restricted/projectnb/cs501t2/minglan/words.txt')\n",
    "        for line in f:\n",
    "            if not line or line[0] == '#':\n",
    "                continue\n",
    "            lineSplit = line.strip().split(' ')\n",
    "            assert len(lineSplit) >= 9\n",
    "            tmp_id = lineSplit[0]\n",
    "            image_filename = os.path.join(DATA_FOLDER, tmp_id + \".png\")\n",
    "#             print(\"image_filename: \" + image_filename)\n",
    "            image_arr = _pre_process_image(image_filename)\n",
    "            output_data = []\n",
    "            output_data.append(' '.join(lineSplit[8:]))\n",
    "            if image_arr is None:\n",
    "                continue\n",
    "            images_data.append([tmp_id, image_arr, output_data])\n",
    "        \n",
    "        #images_data[lineSplit[0]].append(' '.join(lineSplit[8:]))\n",
    "        images_data = pd.DataFrame(images_data, columns=[\"subject\", \"image\", \"output\"])\n",
    "        images_data.to_pickle(image_data_file_name, protocol=2)\n",
    "        train_data = images_data[np.in1d(images_data[\"subject\"], train_subjects)]\n",
    "        test_data = images_data[np.in1d(images_data[\"subject\"], test_subjects)]\n",
    "        if train: \n",
    "#             print(train_data.shape)\n",
    "            super(IAMDataSet, self).__init__(train_data)\n",
    "        else: \n",
    "            super(IAMDataSet, self).__init__(test_data)\n",
    "\n",
    "    def __getitem__(self, idx):\n",
    "        return (self._data[0].iloc[idx].image, self._data[0].iloc[idx].output)"
   ]
  },
  {
   "cell_type": "markdown",
   "metadata": {},
   "source": [
    "<h3> Create Dataset </h3>"
   ]
  },
  {
   "cell_type": "code",
   "execution_count": 7,
   "metadata": {},
   "outputs": [],
   "source": [
    "SEQ_LEN = 32\n",
    "BATCH_SIZE = 64"
   ]
  },
  {
   "cell_type": "code",
   "execution_count": 8,
   "metadata": {},
   "outputs": [],
   "source": [
    "# def transform(image, label):\n",
    "#     image = np.expand_dims(image, axis=0).astype(np.float32)/255.\n",
    "#     label_encoded = np.zeros(SEQ_LEN, dtype=np.float32)-1\n",
    "#     for i, letter in enumerate(label[0]):\n",
    "#         if i >= SEQ_LEN:\n",
    "#             break\n",
    "#         label_encoded[i] = alphabet_dict[letter]\n",
    "    \n",
    "#     return image, label_encoded\n",
    "def transform(image, label):\n",
    "    '''\n",
    "    This function resizes the input image and converts so that it could be fed into the network.\n",
    "    Furthermore, the label (text) is one-hot encoded.\n",
    "    '''\n",
    "    image = np.expand_dims(image, axis=0).astype(np.float32)\n",
    "    if image[0, 0, 0] > 1:\n",
    "        image = image/255.\n",
    "    image = (image - 0.942532484060557) / 0.15926149044640417\n",
    "    label_encoded = np.zeros(max_seq_len, dtype=np.float32)-1\n",
    "    i = 0\n",
    "    for word in label:\n",
    "        word = word.replace(\"&quot\", r'\"')\n",
    "        word = word.replace(\"&amp\", r'&')\n",
    "        for letter in word:\n",
    "            label_encoded[i] = alphabet_dict[letter]\n",
    "            i += 1\n",
    "    return image, label_encoded"
   ]
  },
  {
   "cell_type": "markdown",
   "metadata": {},
   "source": [
    "<h1> Model </h1> "
   ]
  },
  {
   "cell_type": "code",
   "execution_count": 9,
   "metadata": {},
   "outputs": [],
   "source": [
    "ctx = mx.gpu(0) if mx.context.num_gpus() > 0 else mx.cpu()"
   ]
  },
  {
   "cell_type": "code",
   "execution_count": 10,
   "metadata": {},
   "outputs": [
    {
     "name": "stdout",
     "output_type": "stream",
     "text": [
      "Defaulting to user installation because normal site-packages is not writeable\n",
      "Requirement already satisfied: mxboard in /usr4/cs542/mzheng27/.local/lib/python3.7/site-packages (0.1.0)\n",
      "Requirement already satisfied: protobuf>=3.0.0 in /share/pkg.7/python3/3.7.9/install/lib/python3.7/site-packages (from mxboard) (3.13.0)\n",
      "Requirement already satisfied: six in /share/pkg.7/python3/3.7.9/install/lib/python3.7/site-packages (from mxboard) (1.15.0)\n",
      "Requirement already satisfied: numpy in /share/pkg.7/python3/3.7.9/install/lib/python3.7/site-packages/numpy-1.19.2-py3.7-linux-x86_64.egg (from mxboard) (1.19.2)\n",
      "Requirement already satisfied: Pillow in /share/pkg.7/python3/3.7.9/install/lib/python3.7/site-packages (from mxboard) (8.0.1)\n",
      "Requirement already satisfied: setuptools in /share/pkg.7/python3/3.7.9/install/lib/python3.7/site-packages (from protobuf>=3.0.0->mxboard) (50.3.2)\n",
      "\u001b[33mWARNING: You are using pip version 20.2.4; however, version 21.0.1 is available.\n",
      "You should consider upgrading via the '/share/pkg.7/python3/3.7.9/install/bin/python3.7 -m pip install --upgrade pip' command.\u001b[0m\n"
     ]
    }
   ],
   "source": [
    "!pip install mxboard"
   ]
  },
  {
   "cell_type": "code",
   "execution_count": 11,
   "metadata": {},
   "outputs": [],
   "source": [
    "from ocr.handwriting_line_recognition import Network as HandwritingRecognitionNet, handwriting_recognition_transform\n",
    "from ocr.handwriting_line_recognition import decode "
   ]
  },
  {
   "cell_type": "code",
   "execution_count": 12,
   "metadata": {},
   "outputs": [],
   "source": [
    "alphabet_encoding = r' !\"#&\\'()*+,-./0123456789:;?ABCDEFGHIJKLMNOPQRSTUVWXYZabcdefghijklmnopqrstuvwxyz'\n",
    "alphabet_dict = {alphabet_encoding[i]:i for i in range(len(alphabet_encoding))}"
   ]
  },
  {
   "cell_type": "code",
   "execution_count": 13,
   "metadata": {},
   "outputs": [],
   "source": [
    "checkpoint_dir = \"/restricted/projectnb/cs501t2/minglan/models/\""
   ]
  },
  {
   "cell_type": "markdown",
   "metadata": {},
   "source": [
    "<h1>Train</h1>"
   ]
  },
  {
   "cell_type": "code",
   "execution_count": 14,
   "metadata": {},
   "outputs": [],
   "source": [
    "learning_rate = 0.0001\n",
    "lr_period = 30\n",
    "lr_scale  = 1\n",
    "print_every_n = 5\n",
    "save_every_n = 10\n",
    "send_image_every_n = 20"
   ]
  },
  {
   "cell_type": "code",
   "execution_count": 15,
   "metadata": {},
   "outputs": [],
   "source": [
    "def run_epoch(e, network, dataloader, trainer, log_dir, print_name, update_network, save_network):\n",
    "    total_loss = nd.zeros(1, ctx)\n",
    "    for i, (x, y) in enumerate(dataloader):\n",
    "        x = x.as_in_context(ctx)\n",
    "#         print(x)\n",
    "        y = y.as_in_context(ctx)\n",
    "#         print(y)\n",
    "        with autograd.record():\n",
    "            output = network(x)\n",
    "            loss_ctc = ctc_loss(output, y)\n",
    "\n",
    "        if update_network:\n",
    "            loss_ctc.backward()\n",
    "            trainer.step(x.shape[0])\n",
    "        \n",
    "        if i == 0 and e % send_image_every_n == 0 and e > 0:\n",
    "            predictions = output.softmax().topk(axis=2).asnumpy()\n",
    "            decoded_text = decode(predictions)\n",
    "            image = x.asnumpy()\n",
    "            image = image * 0.15926149044640417 + 0.942532484060557            \n",
    "            output_image = draw_text_on_image(image, decoded_text)\n",
    "            print(\"{} first decoded text = {}\".format(print_name, decoded_text[0]))\n",
    "            with SummaryWriter(logdir=log_dir, verbose=False, flush_secs=5) as sw:\n",
    "                sw.add_image('bb_{}_image'.format(print_name), output_image, global_step=e)\n",
    "        nd.waitall()\n",
    "\n",
    "        total_loss += loss_ctc.mean()\n",
    "\n",
    "    epoch_loss = float(total_loss.asscalar())/len(dataloader)\n",
    "\n",
    "    with SummaryWriter(logdir=log_dir, verbose=False, flush_secs=5) as sw:\n",
    "        sw.add_scalar('loss', {print_name: epoch_loss}, global_step=e)\n",
    "\n",
    "    if save_network and e % save_every_n == 0 and e > 0:\n",
    "        network.save_params(\"{}/{}\".format(checkpoint_dir, checkpoint_name))\n",
    "\n",
    "    return epoch_loss"
   ]
  },
  {
   "cell_type": "code",
   "execution_count": 16,
   "metadata": {},
   "outputs": [],
   "source": [
    "def augment_transform(image, label):\n",
    "    '''\n",
    "    This function randomly:\n",
    "        - translates the input image by +-width_range and +-height_range (percentage).\n",
    "        - scales the image by y_scaling and x_scaling (percentage)\n",
    "        - shears the image by shearing_factor (radians)\n",
    "    '''\n",
    "\n",
    "    ty = random.uniform(-random_y_translation, random_y_translation)\n",
    "    tx = random.uniform(-random_x_translation, random_x_translation)\n",
    "\n",
    "    sx = random.uniform(1. - random_y_scaling, 1. + random_y_scaling)\n",
    "    sy = random.uniform(1. - random_x_scaling, 1. + random_x_scaling)\n",
    "\n",
    "    s = random.uniform(-random_shearing, random_shearing)\n",
    "\n",
    "    st = skimage_tf.AffineTransform(scale=(sx, sy),\n",
    "                                    shear=s,\n",
    "                                    translation=(tx*image.shape[1], ty*image.shape[0]))\n",
    "    augmented_image = skimage_tf.warp(image, st, cval=1.0)\n",
    "    return transform(augmented_image*255., label)"
   ]
  },
  {
   "cell_type": "code",
   "execution_count": 17,
   "metadata": {},
   "outputs": [],
   "source": [
    "def draw_text_on_image(images, text):\n",
    "    output_image_shape = (images.shape[0], images.shape[1], images.shape[2] * 2, images.shape[3])  # Double the output_image_shape to print the text in the bottom\n",
    "    \n",
    "    output_images = np.zeros(shape=output_image_shape)\n",
    "    for i in range(images.shape[0]):\n",
    "        white_image_shape = (images.shape[2], images.shape[3])\n",
    "        white_image = np.ones(shape=white_image_shape)*1.0\n",
    "        text_image = cv2.putText(white_image, text[i], org=(5, 30), fontFace=cv2.FONT_HERSHEY_SIMPLEX, fontScale=1, color=0.0, thickness=1)\n",
    "        output_images[i, :, :images.shape[2], :] = images[i]\n",
    "        output_images[i, :, images.shape[2]:, :] = text_image\n",
    "    return output_images"
   ]
  },
  {
   "cell_type": "code",
   "execution_count": 18,
   "metadata": {},
   "outputs": [
    {
     "name": "stdout",
     "output_type": "stream",
     "text": [
      "Number of training samples: 632\n",
      "Number of testing samples: 159\n"
     ]
    }
   ],
   "source": [
    "train_ds = IAMDataSet(train=True)\n",
    "print(\"Number of training samples: {}\".format(len(train_ds)))\n",
    "test_ds = IAMDataSet(train=False)\n",
    "print(\"Number of testing samples: {}\".format(len(test_ds)))"
   ]
  },
  {
   "cell_type": "code",
   "execution_count": 19,
   "metadata": {},
   "outputs": [
    {
     "data": {
      "text/plain": [
       "(array([[234, 234, 234, ..., 234, 234, 234],\n",
       "        [234, 234, 234, ..., 234, 234, 234],\n",
       "        [234, 234, 234, ..., 234, 234, 234],\n",
       "        ...,\n",
       "        [234, 234, 234, ..., 234, 234, 234],\n",
       "        [234, 234, 234, ..., 234, 234, 234],\n",
       "        [234, 234, 234, ..., 234, 234, 234]], dtype=uint8),\n",
       " ['Actinidia arguta'])"
      ]
     },
     "execution_count": 19,
     "metadata": {},
     "output_type": "execute_result"
    }
   ],
   "source": [
    "train_ds[0]"
   ]
  },
  {
   "cell_type": "code",
   "execution_count": 21,
   "metadata": {},
   "outputs": [],
   "source": [
    "train_data = gluon.data.DataLoader(train_ds.transform(augment_transform), BATCH_SIZE, shuffle=True, last_batch=\"discard\")\n",
    "test_data = gluon.data.DataLoader(test_ds.transform(transform), BATCH_SIZE, shuffle=False, last_batch=\"discard\")#, num_workers=4)\n",
    "\n",
    "random_x_translation = 0.03\n",
    "random_y_translation = 0.03\n",
    "random_x_scaling = 0.10\n",
    "random_y_scaling = 0.1\n",
    "random_shearing = 0.5\n",
    "max_seq_len = 32"
   ]
  },
  {
   "cell_type": "code",
   "execution_count": 22,
   "metadata": {},
   "outputs": [],
   "source": [
    "# for x,y in train_data:\n",
    "#     print(x)\n",
    "#     print(y)\n",
    "#     break"
   ]
  },
  {
   "cell_type": "code",
   "execution_count": 23,
   "metadata": {},
   "outputs": [],
   "source": [
    "net = HandwritingRecognitionNet(rnn_hidden_states=512,rnn_layers=2, ctx=ctx, max_seq_len=160)\n",
    "net.load_parameters(\"models/handwriting_line8.params\", ctx=ctx)\n",
    "net.hybridize()"
   ]
  },
  {
   "cell_type": "code",
   "execution_count": 24,
   "metadata": {},
   "outputs": [],
   "source": [
    "checkpoint_name = \"handwriting_line.params\"\n",
    "schedule = mx.lr_scheduler.FactorScheduler(step=lr_period, factor=lr_scale)\n",
    "schedule.base_lr = learning_rate\n",
    "ctc_loss = gluon.loss.CTCLoss()\n",
    "\n",
    "trainer = gluon.Trainer(net.collect_params(), 'adam', {'learning_rate': learning_rate, \"lr_scheduler\": schedule, 'clip_gradient': 2})\n",
    "log_dir = \"/restricted/projectnb/cs501t2/minglan/logs\"\n"
   ]
  },
  {
   "cell_type": "code",
   "execution_count": 25,
   "metadata": {},
   "outputs": [
    {
     "name": "stdout",
     "output_type": "stream",
     "text": [
      "Epoch 5, train_loss 25.722319, test_loss 28.950094\n"
     ]
    },
    {
     "name": "stderr",
     "output_type": "stream",
     "text": [
      "/share/pkg.7/mxnet/1.7.0/install/lib/SCC/../python3.7-gpu/site-packages/mxnet/gluon/block.py:462: UserWarning: save_params is deprecated. Please use save_parameters. Note that if you want load from SymbolBlock later, please use export instead. For details, see https://mxnet.apache.org/tutorials/gluon/save_load_params.html\n",
      "  warnings.warn(\"save_params is deprecated. Please use save_parameters. \"\n"
     ]
    },
    {
     "name": "stdout",
     "output_type": "stream",
     "text": [
      "Epoch 10, train_loss 19.672482, test_loss 23.387917\n",
      "Epoch 15, train_loss 16.453188, test_loss 20.461409\n",
      "train first decoded text = Alllim schoenoprasu\n",
      "test first decoded text = Sambucus canadensis\n",
      "Epoch 20, train_loss 13.743091, test_loss 18.498945\n",
      "Epoch 25, train_loss 12.061693, test_loss 17.425346\n",
      "Epoch 30, train_loss 10.484405, test_loss 16.719978\n",
      "Epoch 35, train_loss 9.373567, test_loss 16.035009\n",
      "train first decoded text = solidags\n",
      "test first decoded text = Sambucus Canadensis\n",
      "Epoch 40, train_loss 8.192978, test_loss 15.498623\n",
      "Epoch 45, train_loss 7.541565, test_loss 14.908926\n",
      "Epoch 50, train_loss 6.673493, test_loss 14.948702\n",
      "Epoch 55, train_loss 6.249042, test_loss 14.783789\n",
      "train first decoded text = Ace\n",
      "test first decoded text = Sambucus canadensis\n",
      "Epoch 60, train_loss 5.515146, test_loss 14.644998\n",
      "Epoch 65, train_loss 4.871694, test_loss 14.868935\n",
      "Epoch 70, train_loss 3.992592, test_loss 14.576623\n",
      "Epoch 75, train_loss 3.951075, test_loss 14.516824\n",
      "train first decoded text = ambrosia\n",
      "test first decoded text = Sambucus canadensis\n",
      "Epoch 80, train_loss 3.451101, test_loss 14.402529\n",
      "Epoch 85, train_loss 3.163371, test_loss 14.301523\n",
      "Epoch 90, train_loss 2.862275, test_loss 14.527157\n",
      "Epoch 95, train_loss 2.487466, test_loss 14.649778\n"
     ]
    }
   ],
   "source": [
    "epochs = 100\n",
    "loss_train = []\n",
    "loss_test = []\n",
    "for e in range(epochs):\n",
    "    train_loss = run_epoch(e, net, train_data, trainer, log_dir, print_name=\"train\", update_network=True, save_network=True)\n",
    "    test_loss = run_epoch(e, net, test_data, trainer, log_dir, print_name=\"test\", \\\n",
    "                          update_network=False, save_network=False)\n",
    "    loss_train.append(train_loss)\n",
    "    loss_test.append(test_loss)\n",
    "    if e % print_every_n == 0 and e > 0:\n",
    "        print(\"Epoch {0}, train_loss {1:.6f}, test_loss {2:.6f}\".format(e, train_loss, test_loss))"
   ]
  },
  {
   "cell_type": "code",
   "execution_count": 28,
   "metadata": {},
   "outputs": [
    {
     "data": {
      "text/plain": [
       "[<matplotlib.lines.Line2D at 0x2ad6ebc6ae10>]"
      ]
     },
     "execution_count": 28,
     "metadata": {},
     "output_type": "execute_result"
    },
    {
     "data": {
      "image/png": "[encoded data removed]",
      "text/plain": [
       "<Figure size 432x288 with 1 Axes>"
      ]
     },
     "metadata": {
      "needs_background": "light"
     },
     "output_type": "display_data"
    }
   ],
   "source": [
    "import matplotlib.pyplot as plt\n",
    "plt.plot(loss_train)\n",
    "plt.plot(loss_test)"
   ]
  },
  {
   "cell_type": "code",
   "execution_count": null,
   "metadata": {},
   "outputs": [],
   "source": []
  }
 ],
 "metadata": {
  "kernelspec": {
   "display_name": "Python 3",
   "language": "python",
   "name": "python3"
  },
  "language_info": {
   "codemirror_mode": {
    "name": "ipython",
    "version": 3
   },
   "file_extension": ".py",
   "mimetype": "text/x-python",
   "name": "python",
   "nbconvert_exporter": "python",
   "pygments_lexer": "ipython3",
   "version": "3.7.9"
  }
 },
 "nbformat": 4,
 "nbformat_minor": 5
}
