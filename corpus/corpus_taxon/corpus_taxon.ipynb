{
 "cells": [
  {
   "cell_type": "code",
   "execution_count": 1,
   "id": "7554d953",
   "metadata": {},
   "outputs": [],
   "source": [
    "# imports\n",
    "import wget\n",
    "import zipfile\n",
    "import os\n",
    "import pandas as pd\n",
    "import shutil\n",
    "import collections\n",
    "import pickle "
   ]
  },
  {
   "cell_type": "code",
   "execution_count": 2,
   "id": "183c952c",
   "metadata": {},
   "outputs": [],
   "source": [
    "# globals\n",
    "dataset_url = 'https://hosted-datasets.gbif.org/datasets/ipni.zip'\n",
    "dataset_dir = '/projectnb/sparkgrp/ml-herbarium-grp/ml-herbarium-data/corpus_taxon/'\n",
    "output_dir = '/projectnb/sparkgrp/ml-herbarium-grp/ml-herbarium-angeline1/ml-herbarium/corpus/corpus_taxon/'\n",
    "csv_dir = 'ipni2/ipni.csv'\n",
    "csv = 'ipni.csv'\n",
    "zip_file = 'ipni.zip'\n",
    "corpus_taxon = 'corpus_taxon.txt'\n",
    "duplicates = 'duplicates_taxon.txt'"
   ]
  },
  {
   "cell_type": "markdown",
   "id": "0feffd63",
   "metadata": {},
   "source": [
    "# Download Dataset"
   ]
  },
  {
   "cell_type": "code",
   "execution_count": 3,
   "id": "8c94c165",
   "metadata": {},
   "outputs": [],
   "source": [
    "# FIXME: need to update the new zip file\n",
    "# if os.path.exists(dataset_dir + zip_file):\n",
    "#     os.remove(dataset_dir + zip_file)\n",
    "# wget.download(dataset_url, out=dataset_dir + zip_file)"
   ]
  },
  {
   "cell_type": "markdown",
   "id": "29e86bd1",
   "metadata": {},
   "source": [
    "# Extract .csv from .zip"
   ]
  },
  {
   "cell_type": "code",
   "execution_count": 3,
   "id": "bc222eac",
   "metadata": {},
   "outputs": [],
   "source": [
    "if os.path.exists(dataset_dir + 'ipni2'):\n",
    "    shutil.rmtree(dataset_dir + 'ipni2')\n",
    "with zipfile.ZipFile(dataset_dir + zip_file,'r') as zip_ref:\n",
    "    zip_ref.extract(member=csv_dir, path=dataset_dir)\n",
    "zf = zipfile.ZipFile(dataset_dir + zip_file)\n",
    "df = pd.read_csv(csv_dir, header=None)"
   ]
  },
  {
   "cell_type": "code",
   "execution_count": 4,
   "id": "3a22d702",
   "metadata": {},
   "outputs": [],
   "source": [
    "# zf.infolist()"
   ]
  },
  {
   "cell_type": "code",
   "execution_count": 5,
   "id": "5f120fbe",
   "metadata": {},
   "outputs": [
    {
     "name": "stdout",
     "output_type": "stream",
     "text": [
      "[0, 1, 2, 3, 4, 5, 6, 7, 8, 9, 10, 11]\n"
     ]
    },
    {
     "data": {
      "text/html": [
       "<div>\n",
       "<style scoped>\n",
       "    .dataframe tbody tr th:only-of-type {\n",
       "        vertical-align: middle;\n",
       "    }\n",
       "\n",
       "    .dataframe tbody tr th {\n",
       "        vertical-align: top;\n",
       "    }\n",
       "\n",
       "    .dataframe thead th {\n",
       "        text-align: right;\n",
       "    }\n",
       "</style>\n",
       "<table border=\"1\" class=\"dataframe\">\n",
       "  <thead>\n",
       "    <tr style=\"text-align: right;\">\n",
       "      <th></th>\n",
       "      <th>0</th>\n",
       "      <th>1</th>\n",
       "      <th>2</th>\n",
       "      <th>3</th>\n",
       "      <th>4</th>\n",
       "      <th>5</th>\n",
       "      <th>6</th>\n",
       "      <th>7</th>\n",
       "      <th>8</th>\n",
       "      <th>9</th>\n",
       "      <th>10</th>\n",
       "      <th>11</th>\n",
       "    </tr>\n",
       "  </thead>\n",
       "  <tbody>\n",
       "    <tr>\n",
       "      <th>0</th>\n",
       "      <td>urn:lsid:ipni.org:names:327752-1</td>\n",
       "      <td>Desmia conferta</td>\n",
       "      <td>D.Don</td>\n",
       "      <td>spec.</td>\n",
       "      <td>Ericaceae</td>\n",
       "      <td>NaN</td>\n",
       "      <td>urn:lsid:ipni.org:names:14701-1</td>\n",
       "      <td>NaN</td>\n",
       "      <td>1834.0</td>\n",
       "      <td>Edinburgh  New Philos. J. 17: 153. 1834 [Jul 1...</td>\n",
       "      <td>unknown</td>\n",
       "      <td>https://www.ipni.org/n/urn:lsid:ipni.org:names...</td>\n",
       "    </tr>\n",
       "    <tr>\n",
       "      <th>1</th>\n",
       "      <td>urn:lsid:ipni.org:names:327752-2</td>\n",
       "      <td>trib. Paniceae</td>\n",
       "      <td>R.Br. in Flinders</td>\n",
       "      <td>trib.</td>\n",
       "      <td>Poaceae</td>\n",
       "      <td>urn:lsid:ipni.org:names:321663-2</td>\n",
       "      <td>urn:lsid:ipni.org:names:30000032-2</td>\n",
       "      <td>urn:lsid:ipni.org:publications:9050-2</td>\n",
       "      <td>1814.0</td>\n",
       "      <td>Voy. Terra Austral. 2: 582. 1814 [19 Jul 1814]</td>\n",
       "      <td>tax. nov.</td>\n",
       "      <td>https://www.ipni.org/n/urn:lsid:ipni.org:names...</td>\n",
       "    </tr>\n",
       "    <tr>\n",
       "      <th>2</th>\n",
       "      <td>urn:lsid:ipni.org:names:327753-1</td>\n",
       "      <td>Desmia polifolia</td>\n",
       "      <td>D.Don</td>\n",
       "      <td>spec.</td>\n",
       "      <td>Ericaceae</td>\n",
       "      <td>NaN</td>\n",
       "      <td>urn:lsid:ipni.org:names:14701-1</td>\n",
       "      <td>NaN</td>\n",
       "      <td>1834.0</td>\n",
       "      <td>Edinburgh  New Philos. J. 17: 153. 1834 [Jul 1...</td>\n",
       "      <td>unknown</td>\n",
       "      <td>https://www.ipni.org/n/urn:lsid:ipni.org:names...</td>\n",
       "    </tr>\n",
       "    <tr>\n",
       "      <th>3</th>\n",
       "      <td>urn:lsid:ipni.org:names:327753-2</td>\n",
       "      <td>Chamaesyce</td>\n",
       "      <td>Gray</td>\n",
       "      <td>gen.</td>\n",
       "      <td>Euphorbiaceae</td>\n",
       "      <td>NaN</td>\n",
       "      <td>urn:lsid:ipni.org:names:30000064-2</td>\n",
       "      <td>urn:lsid:ipni.org:publications:4868-2</td>\n",
       "      <td>1821.0</td>\n",
       "      <td>Nat. Arr. Brit. Pl. 2: 260. 1821 [1 Nov 1821]</td>\n",
       "      <td>tax. nov.</td>\n",
       "      <td>https://www.ipni.org/n/urn:lsid:ipni.org:names...</td>\n",
       "    </tr>\n",
       "    <tr>\n",
       "      <th>4</th>\n",
       "      <td>urn:lsid:ipni.org:names:327754-1</td>\n",
       "      <td>Desmogyne angustifolia</td>\n",
       "      <td>Knagg</td>\n",
       "      <td>spec.</td>\n",
       "      <td>Ericaceae</td>\n",
       "      <td>NaN</td>\n",
       "      <td>urn:lsid:ipni.org:names:50325670-1</td>\n",
       "      <td>urn:lsid:ipni.org:publications:758-2</td>\n",
       "      <td>1923.0</td>\n",
       "      <td>Notes Roy. Bot. Gard. Edinburgh 14: 73. 1923</td>\n",
       "      <td>unknown</td>\n",
       "      <td>https://www.ipni.org/n/urn:lsid:ipni.org:names...</td>\n",
       "    </tr>\n",
       "  </tbody>\n",
       "</table>\n",
       "</div>"
      ],
      "text/plain": [
       "                                 0                       1   \\\n",
       "0  urn:lsid:ipni.org:names:327752-1         Desmia conferta   \n",
       "1  urn:lsid:ipni.org:names:327752-2          trib. Paniceae   \n",
       "2  urn:lsid:ipni.org:names:327753-1        Desmia polifolia   \n",
       "3  urn:lsid:ipni.org:names:327753-2              Chamaesyce   \n",
       "4  urn:lsid:ipni.org:names:327754-1  Desmogyne angustifolia   \n",
       "\n",
       "                  2      3              4                                 5   \\\n",
       "0              D.Don  spec.      Ericaceae                               NaN   \n",
       "1  R.Br. in Flinders  trib.        Poaceae  urn:lsid:ipni.org:names:321663-2   \n",
       "2              D.Don  spec.      Ericaceae                               NaN   \n",
       "3               Gray   gen.  Euphorbiaceae                               NaN   \n",
       "4              Knagg  spec.      Ericaceae                               NaN   \n",
       "\n",
       "                                   6                                      7   \\\n",
       "0     urn:lsid:ipni.org:names:14701-1                                    NaN   \n",
       "1  urn:lsid:ipni.org:names:30000032-2  urn:lsid:ipni.org:publications:9050-2   \n",
       "2     urn:lsid:ipni.org:names:14701-1                                    NaN   \n",
       "3  urn:lsid:ipni.org:names:30000064-2  urn:lsid:ipni.org:publications:4868-2   \n",
       "4  urn:lsid:ipni.org:names:50325670-1   urn:lsid:ipni.org:publications:758-2   \n",
       "\n",
       "       8                                                  9          10  \\\n",
       "0  1834.0  Edinburgh  New Philos. J. 17: 153. 1834 [Jul 1...    unknown   \n",
       "1  1814.0    Voy. Terra Austral. 2: 582. 1814 [19 Jul 1814]   tax. nov.   \n",
       "2  1834.0  Edinburgh  New Philos. J. 17: 153. 1834 [Jul 1...    unknown   \n",
       "3  1821.0     Nat. Arr. Brit. Pl. 2: 260. 1821 [1 Nov 1821]   tax. nov.   \n",
       "4  1923.0      Notes Roy. Bot. Gard. Edinburgh 14: 73. 1923     unknown   \n",
       "\n",
       "                                                  11  \n",
       "0  https://www.ipni.org/n/urn:lsid:ipni.org:names...  \n",
       "1  https://www.ipni.org/n/urn:lsid:ipni.org:names...  \n",
       "2  https://www.ipni.org/n/urn:lsid:ipni.org:names...  \n",
       "3  https://www.ipni.org/n/urn:lsid:ipni.org:names...  \n",
       "4  https://www.ipni.org/n/urn:lsid:ipni.org:names...  "
      ]
     },
     "execution_count": 5,
     "metadata": {},
     "output_type": "execute_result"
    }
   ],
   "source": [
    "# print out all the columns of first row to identify which column taxon is located\n",
    "colnames = []\n",
    "for col in df.columns:\n",
    "    colnames.append(col)\n",
    "print(colnames)\n",
    "df.head()"
   ]
  },
  {
   "cell_type": "markdown",
   "id": "155411db",
   "metadata": {},
   "source": [
    "# Export Taxon Name to corpus-taxon.txt"
   ]
  },
  {
   "cell_type": "code",
   "execution_count": 6,
   "id": "187afa02",
   "metadata": {},
   "outputs": [
    {
     "name": "stdout",
     "output_type": "stream",
     "text": [
      "0                 Desmia conferta\n",
      "1                  trib. Paniceae\n",
      "2                Desmia polifolia\n",
      "3                      Chamaesyce\n",
      "4          Desmogyne angustifolia\n",
      "                    ...          \n",
      "1352345                Cyclaminos\n",
      "1352346       Bigelowia nuttallii\n",
      "1352347        subtrib. Zoysiinae\n",
      "1352348           Desmia aequalis\n",
      "1352349             trib. Oryzeae\n",
      "Name: 1, Length: 1352350, dtype: object\n"
     ]
    }
   ],
   "source": [
    "# taxon is located in the second column \n",
    "print (df[1]) "
   ]
  },
  {
   "cell_type": "code",
   "execution_count": 7,
   "id": "d081a849",
   "metadata": {},
   "outputs": [
    {
     "name": "stdout",
     "output_type": "stream",
     "text": [
      "['Desmia conferta', 'trib. Paniceae', 'Desmia polifolia', 'Chamaesyce', 'Desmogyne angustifolia', 'Synadenium', 'Blakea subpanduriformis', 'Utricularia racemosa', 'Topobea adscendens', 'Topobea bullata']\n",
      "1352350\n",
      "1222306\n"
     ]
    }
   ],
   "source": [
    "# we need to take care of the duplicates in the dataset \n",
    "list_taxon = df[1].to_list()\n",
    "list_taxon_no_dup = list(set(list_taxon))\n",
    "\n",
    "print(list_taxon[:10])\n",
    "print(len(list_taxon))\n",
    "print(len(list_taxon_no_dup))"
   ]
  },
  {
   "cell_type": "code",
   "execution_count": 8,
   "id": "e07eaf7e",
   "metadata": {},
   "outputs": [
    {
     "name": "stdout",
     "output_type": "stream",
     "text": [
      "105129\n",
      "105129\n"
     ]
    }
   ],
   "source": [
    "dup = [item for item, count in collections.Counter(list_taxon).items() if count > 1]\n",
    "print(len(dup))\n",
    "print(len(set(dup)))\n",
    "# print(dup)"
   ]
  },
  {
   "cell_type": "code",
   "execution_count": 9,
   "id": "a023b22a",
   "metadata": {},
   "outputs": [],
   "source": [
    "# print out the duplicates on duplicates_taxon.txt\n",
    "dup = [item for item, count in collections.Counter(list_taxon).items() if count > 1]\n",
    "with open(output_dir + duplicates, \"w\") as output_file:\n",
    "    for i in range(len(dup)):\n",
    "        output_file.write(dup[i] + '\\n')\n",
    "    output_file.close()"
   ]
  },
  {
   "cell_type": "code",
   "execution_count": 10,
   "id": "0ad461e0",
   "metadata": {},
   "outputs": [
    {
     "name": "stdout",
     "output_type": "stream",
     "text": [
      "Total lines: 105129\n"
     ]
    }
   ],
   "source": [
    "with open(output_dir + duplicates, 'r') as fp:\n",
    "    x = len(fp.readlines())\n",
    "    print('Total lines:', x) "
   ]
  },
  {
   "cell_type": "code",
   "execution_count": 11,
   "id": "c77d4711",
   "metadata": {},
   "outputs": [],
   "source": [
    "# print out the taxon names without duplicates \n",
    "with open(output_dir + corpus_taxon, \"w\") as output_file:\n",
    "    with open(output_dir + \"single.txt\", \"w\") as file:\n",
    "        dict_possible_species = {}\n",
    "        dict_possible_genus = {}\n",
    "        for i in range(len(list_taxon_no_dup)):\n",
    "            # get rid of single-word taxons\n",
    "            if ' ' in list_taxon_no_dup[i]:\n",
    "                output_file.write(list_taxon_no_dup[i] + '\\n')\n",
    "                genus = list_taxon_no_dup[i].split()[0].lower()\n",
    "                # FIXME: just take the first word of the whole species name for easier match \n",
    "                species = \"\".join(list_taxon_no_dup[i].split()[1:]).lower()\n",
    "                # FIXME: need to account for the remaining species [2:]\n",
    "                # generate a dictionary of possible species for each genus\n",
    "                if genus not in dict_possible_species:\n",
    "                    dict_possible_species[genus] = [species]\n",
    "                else:\n",
    "                    # do not include duplicated species \n",
    "                    if species not in dict_possible_species[genus]:\n",
    "                        dict_possible_species[genus] += [species]\n",
    "                # generate a dictionary of possible genera for each species\n",
    "                if species not in dict_possible_genus:\n",
    "                    dict_possible_genus[species] = [genus]\n",
    "                else:\n",
    "                    # do not include duplicated geneus\n",
    "                    if genus not in dict_possible_genus[species]:\n",
    "                        dict_possible_genus[species] += [genus]\n",
    "            else:\n",
    "                file.write(list_taxon_no_dup[i] + '\\n')\n",
    "        with open(dataset_dir + 'output/possible_species.pkl', 'wb') as f:\n",
    "            pickle.dump(dict_possible_species, f) \n",
    "        with open(dataset_dir + 'output/possible_genus.pkl', 'wb') as filee:\n",
    "            pickle.dump(dict_possible_genus, filee) \n",
    "            \n",
    "file.close()\n",
    "output_file.close()"
   ]
  },
  {
   "cell_type": "code",
   "execution_count": 12,
   "id": "06b8dcf1",
   "metadata": {},
   "outputs": [
    {
     "name": "stdout",
     "output_type": "stream",
     "text": [
      "Total lines: 1181366\n"
     ]
    }
   ],
   "source": [
    "with open(output_dir + corpus_taxon, 'r') as fp:\n",
    "    x = len(fp.readlines())\n",
    "    print('Total lines:', x)"
   ]
  },
  {
   "cell_type": "code",
   "execution_count": 13,
   "id": "20bf9d33",
   "metadata": {},
   "outputs": [],
   "source": [
    "with open(dataset_dir + 'output/possible_species.pkl', 'rb') as f:\n",
    "    dict = pickle.load(f)\n",
    "with open(dataset_dir + 'output/possible_genus.pkl', 'rb') as ff:\n",
    "    dictt = pickle.load(ff)"
   ]
  },
  {
   "cell_type": "code",
   "execution_count": 14,
   "id": "292e72fc",
   "metadata": {},
   "outputs": [
    {
     "name": "stdout",
     "output_type": "stream",
     "text": [
      "34829\n",
      "381368\n"
     ]
    }
   ],
   "source": [
    "print(len(dict))\n",
    "print(len(dictt))"
   ]
  },
  {
   "cell_type": "code",
   "execution_count": 15,
   "id": "98c041bf",
   "metadata": {},
   "outputs": [
    {
     "data": {
      "text/plain": [
       "['diospyros']"
      ]
     },
     "execution_count": 15,
     "metadata": {},
     "output_type": "execute_result"
    }
   ],
   "source": [
    "dictt[\"boala\"]"
   ]
  },
  {
   "cell_type": "code",
   "execution_count": 16,
   "id": "a2581aaa",
   "metadata": {},
   "outputs": [
    {
     "data": {
      "text/plain": [
       "['pinnata',\n",
       " 'micrantha',\n",
       " 'macrantha',\n",
       " 'marginata',\n",
       " 'berteroana',\n",
       " 'longifolia',\n",
       " 'lacerata',\n",
       " 'neriifolia',\n",
       " 'pruinata',\n",
       " 'leucantha',\n",
       " 'pinnatavar.insignis',\n",
       " 'mollis']"
      ]
     },
     "execution_count": 16,
     "metadata": {},
     "output_type": "execute_result"
    }
   ],
   "source": [
    "dict['rea']"
   ]
  },
  {
   "cell_type": "code",
   "execution_count": 17,
   "id": "f3aa614c",
   "metadata": {},
   "outputs": [
    {
     "data": {
      "text/plain": [
       "['longicaudatus']"
      ]
     },
     "execution_count": 17,
     "metadata": {},
     "output_type": "execute_result"
    }
   ],
   "source": [
    "from difflib import get_close_matches\n",
    "test = get_close_matches(\"lungicadatus\", dictt, n=1, cutoff=0.8)\n",
    "test"
   ]
  },
  {
   "cell_type": "code",
   "execution_count": 18,
   "id": "45b433d5",
   "metadata": {},
   "outputs": [
    {
     "name": "stdout",
     "output_type": "stream",
     "text": [
      "total number of species: 1181365\n",
      "total number of genus: 1181365\n"
     ]
    }
   ],
   "source": [
    "summ1 = 0\n",
    "summ2 = 0\n",
    "for key, value in dict.items():\n",
    "    va = sum(1 for v in value if v)\n",
    "    summ1 += va\n",
    "print(\"total number of species:\", summ1)\n",
    "for key, value in dictt.items():\n",
    "    va = sum(1 for v in value if v)\n",
    "    summ2 += va\n",
    "print(\"total number of genus:\", summ2)\n"
   ]
  }
 ],
 "metadata": {
  "kernelspec": {
   "display_name": "Python 3.8.10 ('.env': venv)",
   "language": "python",
   "name": "python3"
  },
  "language_info": {
   "codemirror_mode": {
    "name": "ipython",
    "version": 3
   },
   "file_extension": ".py",
   "mimetype": "text/x-python",
   "name": "python",
   "nbconvert_exporter": "python",
   "pygments_lexer": "ipython3",
   "version": "3.8.10"
  },
  "varInspector": {
   "cols": {
    "lenName": 16,
    "lenType": 16,
    "lenVar": 40
   },
   "kernels_config": {
    "python": {
     "delete_cmd_postfix": "",
     "delete_cmd_prefix": "del ",
     "library": "var_list.py",
     "varRefreshCmd": "print(var_dic_list())"
    },
    "r": {
     "delete_cmd_postfix": ") ",
     "delete_cmd_prefix": "rm(",
     "library": "var_list.r",
     "varRefreshCmd": "cat(var_dic_list()) "
    }
   },
   "types_to_exclude": [
    "module",
    "function",
    "builtin_function_or_method",
    "instance",
    "_Feature"
   ],
   "window_display": false
  },
  "vscode": {
   "interpreter": {
    "hash": "14769a81ec23306709d2228f2f537195f973344c7e4c559f0a95ff45ddbc8f21"
   }
  }
 },
 "nbformat": 4,
 "nbformat_minor": 5
}
