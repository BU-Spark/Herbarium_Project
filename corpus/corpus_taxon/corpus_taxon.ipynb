{
 "cells": [
  {
   "cell_type": "code",
   "execution_count": 8,
   "id": "7554d953",
   "metadata": {},
   "outputs": [],
   "source": [
    "# imports\n",
    "import wget\n",
    "import zipfile\n",
    "import os\n",
    "import pandas as pd\n",
    "import collections\n",
    "import pickle "
   ]
  },
  {
   "cell_type": "code",
   "execution_count": 9,
   "id": "183c952c",
   "metadata": {},
   "outputs": [],
   "source": [
    "# globals\n",
    "dataset_url = 'https://hosted-datasets.gbif.org/datasets/ipni.zip'\n",
    "dataset_dir = '/projectnb/sparkgrp/ml-herbarium-grp/ml-herbarium-data/corpus_taxon/'\n",
    "output_dir = '/projectnb/sparkgrp/ml-herbarium-grp/ml-herbarium-angeline1/ml-herbarium/corpus/corpus_taxon/'\n",
    "tsv = \"Name.tsv\"\n",
    "zip_file = 'ipni.zip'\n",
    "corpus_taxon = 'corpus_taxon.txt'\n",
    "duplicates = 'duplicates_taxon.txt'"
   ]
  },
  {
   "cell_type": "markdown",
   "id": "0feffd63",
   "metadata": {},
   "source": [
    "# Download Dataset"
   ]
  },
  {
   "cell_type": "code",
   "execution_count": 10,
   "id": "8c94c165",
   "metadata": {},
   "outputs": [],
   "source": [
    "# if os.path.exists(dataset_dir + zip_file):\n",
    "#     os.remove(dataset_dir + zip_file)\n",
    "# wget.download(dataset_url, out=dataset_dir + zip_file)"
   ]
  },
  {
   "cell_type": "markdown",
   "id": "29e86bd1",
   "metadata": {},
   "source": [
    "# Extract .tsv from .zip"
   ]
  },
  {
   "cell_type": "code",
   "execution_count": 11,
   "id": "bc222eac",
   "metadata": {},
   "outputs": [],
   "source": [
    "if os.path.exists(dataset_dir + tsv):\n",
    "    os.remove(dataset_dir + tsv)\n",
    "with zipfile.ZipFile(dataset_dir + zip_file,'r') as zip_ref:\n",
    "    zip_ref.extract(member=tsv, path=dataset_dir)\n",
    "df = pd.read_csv(dataset_dir + tsv, sep=\"\\t\", dtype=\"object\")"
   ]
  },
  {
   "cell_type": "code",
   "execution_count": 12,
   "id": "df550b98",
   "metadata": {},
   "outputs": [
    {
     "data": {
      "text/html": [
       "<div>\n",
       "<style scoped>\n",
       "    .dataframe tbody tr th:only-of-type {\n",
       "        vertical-align: middle;\n",
       "    }\n",
       "\n",
       "    .dataframe tbody tr th {\n",
       "        vertical-align: top;\n",
       "    }\n",
       "\n",
       "    .dataframe thead th {\n",
       "        text-align: right;\n",
       "    }\n",
       "</style>\n",
       "<table border=\"1\" class=\"dataframe\">\n",
       "  <thead>\n",
       "    <tr style=\"text-align: right;\">\n",
       "      <th></th>\n",
       "      <th>col:ID</th>\n",
       "      <th>col:basionymID</th>\n",
       "      <th>col:rank</th>\n",
       "      <th>col:scientificName</th>\n",
       "      <th>col:authorship</th>\n",
       "      <th>col:status</th>\n",
       "      <th>col:referenceID</th>\n",
       "      <th>col:publishedInYear</th>\n",
       "      <th>col:publishedInPage</th>\n",
       "      <th>col:publishedInPageLink</th>\n",
       "      <th>col:link</th>\n",
       "      <th>col:remarks</th>\n",
       "    </tr>\n",
       "  </thead>\n",
       "  <tbody>\n",
       "    <tr>\n",
       "      <th>0</th>\n",
       "      <td>77296112-1</td>\n",
       "      <td>NaN</td>\n",
       "      <td>spec.</td>\n",
       "      <td>Acalypha amithii</td>\n",
       "      <td>Mart.Gord., Fragoso &amp; K.Velasco</td>\n",
       "      <td>NaN</td>\n",
       "      <td>10.11646/phytotaxa.539.3.1</td>\n",
       "      <td>NaN</td>\n",
       "      <td>224</td>\n",
       "      <td>NaN</td>\n",
       "      <td>https://www.ipni.org/n/77296112-1</td>\n",
       "      <td>doi:10.11646/phytotaxa.539.3.1 Etymology: 'The...</td>\n",
       "    </tr>\n",
       "    <tr>\n",
       "      <th>1</th>\n",
       "      <td>77297487-1</td>\n",
       "      <td>NaN</td>\n",
       "      <td>subtrib.</td>\n",
       "      <td>subtrib. Lankesteriinae</td>\n",
       "      <td>I.Darbysh. &amp; E.A.Tripp</td>\n",
       "      <td>NaN</td>\n",
       "      <td>10.1002/tax.12600</td>\n",
       "      <td>NaN</td>\n",
       "      <td>140</td>\n",
       "      <td>NaN</td>\n",
       "      <td>https://www.ipni.org/n/77297487-1</td>\n",
       "      <td>doi:10.1002/tax.12600; Type: Lankesteria Lindl.</td>\n",
       "    </tr>\n",
       "    <tr>\n",
       "      <th>2</th>\n",
       "      <td>77297486-1</td>\n",
       "      <td>NaN</td>\n",
       "      <td>trib.</td>\n",
       "      <td>trib. Physacantheae</td>\n",
       "      <td>E.A.Tripp &amp; I.Darbysh.</td>\n",
       "      <td>NaN</td>\n",
       "      <td>10.1002/tax.12600</td>\n",
       "      <td>NaN</td>\n",
       "      <td>140</td>\n",
       "      <td>NaN</td>\n",
       "      <td>https://www.ipni.org/n/77297486-1</td>\n",
       "      <td>doi:10.1002/tax.12600; Type: Physacanthus Benth.</td>\n",
       "    </tr>\n",
       "    <tr>\n",
       "      <th>3</th>\n",
       "      <td>77297489-1</td>\n",
       "      <td>NaN</td>\n",
       "      <td>subtrib.</td>\n",
       "      <td>subtrib. Tetrameriinae</td>\n",
       "      <td>T.F.Daniel, Kiel &amp; McDade</td>\n",
       "      <td>NaN</td>\n",
       "      <td>10.1002/tax.12600</td>\n",
       "      <td>NaN</td>\n",
       "      <td>141</td>\n",
       "      <td>NaN</td>\n",
       "      <td>https://www.ipni.org/n/77297489-1</td>\n",
       "      <td>doi:10.1002/tax.12600; Type: Tetramerium Nees.</td>\n",
       "    </tr>\n",
       "    <tr>\n",
       "      <th>4</th>\n",
       "      <td>77297488-1</td>\n",
       "      <td>NaN</td>\n",
       "      <td>subtrib.</td>\n",
       "      <td>subtrib. Whitfieldiinae</td>\n",
       "      <td>I.Darbysh. &amp; E.A.Tripp</td>\n",
       "      <td>NaN</td>\n",
       "      <td>10.1002/tax.12600</td>\n",
       "      <td>NaN</td>\n",
       "      <td>140</td>\n",
       "      <td>NaN</td>\n",
       "      <td>https://www.ipni.org/n/77297488-1</td>\n",
       "      <td>doi:10.1002/tax.12600; Type: Whitfieldia Hook.</td>\n",
       "    </tr>\n",
       "  </tbody>\n",
       "</table>\n",
       "</div>"
      ],
      "text/plain": [
       "       col:ID col:basionymID  col:rank       col:scientificName  \\\n",
       "0  77296112-1            NaN     spec.         Acalypha amithii   \n",
       "1  77297487-1            NaN  subtrib.  subtrib. Lankesteriinae   \n",
       "2  77297486-1            NaN     trib.      trib. Physacantheae   \n",
       "3  77297489-1            NaN  subtrib.   subtrib. Tetrameriinae   \n",
       "4  77297488-1            NaN  subtrib.  subtrib. Whitfieldiinae   \n",
       "\n",
       "                    col:authorship col:status             col:referenceID  \\\n",
       "0  Mart.Gord., Fragoso & K.Velasco        NaN  10.11646/phytotaxa.539.3.1   \n",
       "1           I.Darbysh. & E.A.Tripp        NaN           10.1002/tax.12600   \n",
       "2           E.A.Tripp & I.Darbysh.        NaN           10.1002/tax.12600   \n",
       "3        T.F.Daniel, Kiel & McDade        NaN           10.1002/tax.12600   \n",
       "4           I.Darbysh. & E.A.Tripp        NaN           10.1002/tax.12600   \n",
       "\n",
       "  col:publishedInYear col:publishedInPage col:publishedInPageLink  \\\n",
       "0                 NaN                 224                     NaN   \n",
       "1                 NaN                 140                     NaN   \n",
       "2                 NaN                 140                     NaN   \n",
       "3                 NaN                 141                     NaN   \n",
       "4                 NaN                 140                     NaN   \n",
       "\n",
       "                            col:link  \\\n",
       "0  https://www.ipni.org/n/77296112-1   \n",
       "1  https://www.ipni.org/n/77297487-1   \n",
       "2  https://www.ipni.org/n/77297486-1   \n",
       "3  https://www.ipni.org/n/77297489-1   \n",
       "4  https://www.ipni.org/n/77297488-1   \n",
       "\n",
       "                                         col:remarks  \n",
       "0  doi:10.11646/phytotaxa.539.3.1 Etymology: 'The...  \n",
       "1    doi:10.1002/tax.12600; Type: Lankesteria Lindl.  \n",
       "2   doi:10.1002/tax.12600; Type: Physacanthus Benth.  \n",
       "3     doi:10.1002/tax.12600; Type: Tetramerium Nees.  \n",
       "4     doi:10.1002/tax.12600; Type: Whitfieldia Hook.  "
      ]
     },
     "execution_count": 12,
     "metadata": {},
     "output_type": "execute_result"
    }
   ],
   "source": [
    "df.head()"
   ]
  },
  {
   "cell_type": "code",
   "execution_count": 13,
   "id": "54a45b9a",
   "metadata": {},
   "outputs": [
    {
     "name": "stdout",
     "output_type": "stream",
     "text": [
      "spec.\n",
      "Acalypha amithii\n"
     ]
    }
   ],
   "source": [
    "print(df[\"col:rank\"][0])\n",
    "print(df[\"col:scientificName\"][0])"
   ]
  },
  {
   "cell_type": "markdown",
   "id": "155411db",
   "metadata": {},
   "source": [
    "# Export Taxon Name to corpus-taxon.txt"
   ]
  },
  {
   "cell_type": "code",
   "execution_count": 14,
   "id": "e498c26d",
   "metadata": {},
   "outputs": [],
   "source": [
    "list_taxon = []\n",
    "for i in range(len(df)):\n",
    "    if df[\"col:rank\"][i] == \"spec.\":\n",
    "        list_taxon.append(df[\"col:scientificName\"][i])"
   ]
  },
  {
   "cell_type": "code",
   "execution_count": 15,
   "id": "d081a849",
   "metadata": {},
   "outputs": [
    {
     "name": "stdout",
     "output_type": "stream",
     "text": [
      "['Acalypha amithii', 'Acantholimon akaydinii', 'Actinostephanus enpingensis', 'Aethionema gypsicola', 'Agapetes huangiana', 'Agave rosalesii', 'Allium ducissae', 'Allium elaounii', 'Allium heterophyllum', 'Allium parhamii']\n",
      "954030\n",
      "870757\n"
     ]
    }
   ],
   "source": [
    "# we need to take care of the duplicates in the dataset \n",
    "list_taxon_no_dup = list(set(list_taxon))\n",
    "\n",
    "print(list_taxon[:10])\n",
    "print(len(list_taxon))\n",
    "print(len(list_taxon_no_dup))"
   ]
  },
  {
   "cell_type": "code",
   "execution_count": 16,
   "id": "e07eaf7e",
   "metadata": {},
   "outputs": [
    {
     "name": "stdout",
     "output_type": "stream",
     "text": [
      "67669\n",
      "67669\n"
     ]
    }
   ],
   "source": [
    "dup = [item for item, count in collections.Counter(list_taxon).items() if count > 1]\n",
    "# print(collections.Counter(list_taxon).items())\n",
    "print(len(dup))\n",
    "print(len(set(dup)))\n",
    "# print(dup)"
   ]
  },
  {
   "cell_type": "code",
   "execution_count": 17,
   "id": "a023b22a",
   "metadata": {},
   "outputs": [],
   "source": [
    "# print out the duplicates on duplicates_taxon.txt\n",
    "# dup = [item for item, count in collections.Counter(list_taxon).items() if count > 1]\n",
    "with open(output_dir + duplicates, \"w\") as output_file:\n",
    "    for i in range(len(dup)):\n",
    "        output_file.write(dup[i] + '\\n')\n",
    "    output_file.close()"
   ]
  },
  {
   "cell_type": "code",
   "execution_count": 18,
   "id": "0ad461e0",
   "metadata": {},
   "outputs": [
    {
     "name": "stdout",
     "output_type": "stream",
     "text": [
      "Total lines: 67669\n"
     ]
    }
   ],
   "source": [
    "with open(output_dir + duplicates, 'r') as fp:\n",
    "    x = len(fp.readlines())\n",
    "    print('Total lines:', x) "
   ]
  },
  {
   "cell_type": "code",
   "execution_count": 19,
   "id": "c77d4711",
   "metadata": {},
   "outputs": [],
   "source": [
    "# print out the taxon names without duplicates \n",
    "with open(output_dir + corpus_taxon, \"w\") as output_file:\n",
    "    dict_possible_species = {}\n",
    "    dict_possible_genus = {}\n",
    "    for i in range(len(list_taxon_no_dup)):\n",
    "        output_file.write(list_taxon_no_dup[i] + '\\n')\n",
    "        genus = list_taxon_no_dup[i].split()[0].lower()\n",
    "        species = \"\".join(list_taxon_no_dup[i].split()[1:]).lower()\n",
    "\n",
    "        # generate a dictionary of possible species for each genus\n",
    "        if genus not in dict_possible_species:\n",
    "            dict_possible_species[genus] = [species]\n",
    "        else:\n",
    "            # do not include duplicated species \n",
    "            if species not in dict_possible_species[genus]:\n",
    "                dict_possible_species[genus] += [species]\n",
    "\n",
    "        # generate a dictionary of possible genera for each species\n",
    "        if species not in dict_possible_genus:\n",
    "            dict_possible_genus[species] = [genus]\n",
    "        else:\n",
    "            # do not include duplicated geneus\n",
    "            if genus not in dict_possible_genus[species]:\n",
    "                dict_possible_genus[species] += [genus]\n",
    "        \n",
    "    with open(dataset_dir + 'output/possible_species.pkl', 'wb') as f:\n",
    "        pickle.dump(dict_possible_species, f) \n",
    "    with open(dataset_dir + 'output/possible_genus.pkl', 'wb') as filee:\n",
    "        pickle.dump(dict_possible_genus, filee) \n",
    "output_file.close()"
   ]
  },
  {
   "cell_type": "code",
   "execution_count": 20,
   "id": "06b8dcf1",
   "metadata": {},
   "outputs": [
    {
     "name": "stdout",
     "output_type": "stream",
     "text": [
      "Total lines: 870757\n"
     ]
    }
   ],
   "source": [
    "with open(output_dir + corpus_taxon, 'r') as fp:\n",
    "    x = len(fp.readlines())\n",
    "    print('Total lines:', x)"
   ]
  },
  {
   "cell_type": "code",
   "execution_count": 21,
   "id": "20bf9d33",
   "metadata": {},
   "outputs": [],
   "source": [
    "with open(dataset_dir + 'output/possible_species.pkl', 'rb') as f:\n",
    "    dict = pickle.load(f)\n",
    "with open(dataset_dir + 'output/possible_genus.pkl', 'rb') as ff:\n",
    "    dictt = pickle.load(ff)"
   ]
  },
  {
   "cell_type": "code",
   "execution_count": 22,
   "id": "292e72fc",
   "metadata": {},
   "outputs": [
    {
     "name": "stdout",
     "output_type": "stream",
     "text": [
      "32602\n",
      "176682\n"
     ]
    }
   ],
   "source": [
    "print(len(dict))\n",
    "print(len(dictt))"
   ]
  },
  {
   "cell_type": "code",
   "execution_count": 27,
   "id": "98c041bf",
   "metadata": {},
   "outputs": [
    {
     "data": {
      "text/plain": [
       "['diospyros']"
      ]
     },
     "execution_count": 27,
     "metadata": {},
     "output_type": "execute_result"
    }
   ],
   "source": [
    "dictt[\"boala\"]"
   ]
  },
  {
   "cell_type": "code",
   "execution_count": 28,
   "id": "a2581aaa",
   "metadata": {},
   "outputs": [
    {
     "data": {
      "text/plain": [
       "['marginata',\n",
       " 'macrantha',\n",
       " 'neriifolia',\n",
       " 'pinnata',\n",
       " 'berteroana',\n",
       " 'pruinata',\n",
       " 'micrantha',\n",
       " 'lacerata',\n",
       " 'longifolia',\n",
       " 'mollis',\n",
       " 'leucantha']"
      ]
     },
     "execution_count": 28,
     "metadata": {},
     "output_type": "execute_result"
    }
   ],
   "source": [
    "dict['rea']"
   ]
  }
 ],
 "metadata": {
  "kernelspec": {
   "display_name": "Python 3.8.10 ('.env': venv)",
   "language": "python",
   "name": "python3"
  },
  "language_info": {
   "codemirror_mode": {
    "name": "ipython",
    "version": 3
   },
   "file_extension": ".py",
   "mimetype": "text/x-python",
   "name": "python",
   "nbconvert_exporter": "python",
   "pygments_lexer": "ipython3",
   "version": "3.8.10"
  },
  "varInspector": {
   "cols": {
    "lenName": 16,
    "lenType": 16,
    "lenVar": 40
   },
   "kernels_config": {
    "python": {
     "delete_cmd_postfix": "",
     "delete_cmd_prefix": "del ",
     "library": "var_list.py",
     "varRefreshCmd": "print(var_dic_list())"
    },
    "r": {
     "delete_cmd_postfix": ") ",
     "delete_cmd_prefix": "rm(",
     "library": "var_list.r",
     "varRefreshCmd": "cat(var_dic_list()) "
    }
   },
   "types_to_exclude": [
    "module",
    "function",
    "builtin_function_or_method",
    "instance",
    "_Feature"
   ],
   "window_display": false
  },
  "vscode": {
   "interpreter": {
    "hash": "14769a81ec23306709d2228f2f537195f973344c7e4c559f0a95ff45ddbc8f21"
   }
  }
 },
 "nbformat": 4,
 "nbformat_minor": 5
}
