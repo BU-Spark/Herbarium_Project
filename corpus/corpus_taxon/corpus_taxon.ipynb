{
 "cells": [
  {
   "cell_type": "code",
   "execution_count": 59,
   "id": "7554d953",
   "metadata": {},
   "outputs": [],
   "source": [
    "# imports\n",
    "import wget\n",
    "import zipfile\n",
    "import os\n",
    "import pandas as pd\n",
    "import shutil\n",
    "import collections"
   ]
  },
  {
   "cell_type": "code",
   "execution_count": 60,
   "id": "183c952c",
   "metadata": {},
   "outputs": [],
   "source": [
    "# globals\n",
    "dataset_url = 'https://hosted-datasets.gbif.org/datasets/ipni.zip'\n",
    "output_dir = '/projectnb/sparkgrp/ml-herbarium-grp/ml-herbarium-angeline1/ml-herbarium/corpus/corpus_taxon/'\n",
    "csv_dir = 'ipni2/ipni.csv'\n",
    "csv = 'ipni.csv'\n",
    "zip_file = 'ipni.zip'\n",
    "corpus_taxon = 'corpus_taxon.txt'\n",
    "duplicates = 'duplicates_taxon.txt'"
   ]
  },
  {
   "cell_type": "markdown",
   "id": "0feffd63",
   "metadata": {},
   "source": [
    "# Download Dataset"
   ]
  },
  {
   "cell_type": "code",
   "execution_count": 61,
   "id": "8c94c165",
   "metadata": {},
   "outputs": [
    {
     "name": "stdout",
     "output_type": "stream",
     "text": [
      "100% [....................................................] 52224379 / 52224379"
     ]
    },
    {
     "data": {
      "text/plain": [
       "'/Users/angelinetseng/Desktop/BU_Spark_ML/corpus/ipni.zip'"
      ]
     },
     "execution_count": 61,
     "metadata": {},
     "output_type": "execute_result"
    }
   ],
   "source": [
    "if os.path.exists(output_dir + zip_file):\n",
    "    os.remove(output_dir + zip_file)\n",
    "wget.download(dataset_url, out=output_dir + zip_file)"
   ]
  },
  {
   "cell_type": "markdown",
   "id": "29e86bd1",
   "metadata": {},
   "source": [
    "# Extract .csv from .zip"
   ]
  },
  {
   "cell_type": "code",
   "execution_count": 62,
   "id": "bc222eac",
   "metadata": {},
   "outputs": [],
   "source": [
    "if os.path.exists(output_dir + 'ipni2'):\n",
    "    shutil.rmtree(output_dir + 'ipni2')\n",
    "with zipfile.ZipFile(output_dir + zip_file,'r') as zip_ref:\n",
    "    zip_ref.extract(member=csv_dir, path=output_dir)\n",
    "\n",
    "zf = zipfile.ZipFile(output_dir + zip_file)\n",
    "# df = pd.read_csv(zf.open(csv), header=None)\n",
    "df = pd.read_csv(csv_dir, header=None)"
   ]
  },
  {
   "cell_type": "code",
   "execution_count": 63,
   "id": "3a22d702",
   "metadata": {},
   "outputs": [],
   "source": [
    "# zf.infolist()"
   ]
  },
  {
   "cell_type": "code",
   "execution_count": 64,
   "id": "5f120fbe",
   "metadata": {},
   "outputs": [
    {
     "name": "stdout",
     "output_type": "stream",
     "text": [
      "[0, 1, 2, 3, 4, 5, 6, 7, 8, 9, 10, 11]\n"
     ]
    }
   ],
   "source": [
    "# print out all the columns of first row to identify which column taxon is located\n",
    "colnames = []\n",
    "for col in df.columns:\n",
    "    colnames.append(col)\n",
    "print(colnames)\n",
    "#print(df)"
   ]
  },
  {
   "cell_type": "markdown",
   "id": "155411db",
   "metadata": {},
   "source": [
    "# Export Taxon Name to corpus-taxon.txt"
   ]
  },
  {
   "cell_type": "code",
   "execution_count": 65,
   "id": "187afa02",
   "metadata": {},
   "outputs": [
    {
     "name": "stdout",
     "output_type": "stream",
     "text": [
      "0                 Desmia conferta\n",
      "1                  trib. Paniceae\n",
      "2                Desmia polifolia\n",
      "3                      Chamaesyce\n",
      "4          Desmogyne angustifolia\n",
      "                    ...          \n",
      "1352345                Cyclaminos\n",
      "1352346       Bigelowia nuttallii\n",
      "1352347        subtrib. Zoysiinae\n",
      "1352348           Desmia aequalis\n",
      "1352349             trib. Oryzeae\n",
      "Name: 1, Length: 1352350, dtype: object\n"
     ]
    }
   ],
   "source": [
    "# taxon is located in the second column \n",
    "print (df[1]) "
   ]
  },
  {
   "cell_type": "code",
   "execution_count": 75,
   "id": "d081a849",
   "metadata": {},
   "outputs": [
    {
     "name": "stdout",
     "output_type": "stream",
     "text": [
      "['Desmia conferta', 'trib. Paniceae', 'Desmia polifolia', 'Chamaesyce', 'Desmogyne angustifolia', 'Synadenium', 'Blakea subpanduriformis', 'Utricularia racemosa', 'Topobea adscendens', 'Topobea bullata']\n",
      "1352350\n",
      "1222306\n"
     ]
    }
   ],
   "source": [
    "# we need to take care of the duplicates in the dataset \n",
    "list_taxon = df[1].to_list()\n",
    "list_taxon_no_dup = list(set(list_taxon))\n",
    "\n",
    "print(list_taxon[:10])\n",
    "print(len(list_taxon))\n",
    "print(len(list_taxon_no_dup))"
   ]
  },
  {
   "cell_type": "code",
   "execution_count": 67,
   "id": "e07eaf7e",
   "metadata": {},
   "outputs": [
    {
     "name": "stdout",
     "output_type": "stream",
     "text": [
      "105129\n",
      "105129\n"
     ]
    }
   ],
   "source": [
    "dup = [item for item, count in collections.Counter(list_taxon).items() if count > 1]\n",
    "print(len(dup))\n",
    "print(len(set(dup)))\n",
    "# print(dup)"
   ]
  },
  {
   "cell_type": "code",
   "execution_count": 68,
   "id": "a023b22a",
   "metadata": {},
   "outputs": [],
   "source": [
    "# print out the duplicates on duplicates_taxon.txt\n",
    "dup = [item for item, count in collections.Counter(list_taxon).items() if count > 1]\n",
    "with open(output_dir + duplicates, \"w\") as output_file:\n",
    "    for i in range(len(dup)):\n",
    "        output_file.write(dup[i] + '\\n')\n",
    "    output_file.close()"
   ]
  },
  {
   "cell_type": "code",
   "execution_count": 69,
   "id": "0ad461e0",
   "metadata": {},
   "outputs": [
    {
     "name": "stdout",
     "output_type": "stream",
     "text": [
      "Total lines: 105129\n"
     ]
    }
   ],
   "source": [
    "with open(output_dir + duplicates, 'r') as fp:\n",
    "    x = len(fp.readlines())\n",
    "    print('Total lines:', x) "
   ]
  },
  {
   "cell_type": "code",
   "execution_count": 76,
   "id": "c77d4711",
   "metadata": {},
   "outputs": [],
   "source": [
    "# print out the taxon names without duplicates \n",
    "with open(output_dir + corpus_taxon, \"w\") as output_file:\n",
    "    for i in range(len(list_taxon_no_dup)):\n",
    "        output_file.write(list_taxon_no_dup[i] + '\\n')\n",
    "    output_file.close()"
   ]
  },
  {
   "cell_type": "code",
   "execution_count": 77,
   "id": "06b8dcf1",
   "metadata": {},
   "outputs": [
    {
     "name": "stdout",
     "output_type": "stream",
     "text": [
      "Total lines: 1222306\n"
     ]
    }
   ],
   "source": [
    "with open(output_dir + corpus_taxon, 'r') as fp:\n",
    "    x = len(fp.readlines())\n",
    "    print('Total lines:', x)"
   ]
  },
  {
   "cell_type": "code",
   "execution_count": null,
   "id": "20bf9d33",
   "metadata": {},
   "outputs": [],
   "source": []
  }
 ],
 "metadata": {
  "kernelspec": {
   "display_name": "Python 3 (ipykernel)",
   "language": "python",
   "name": "python3"
  },
  "language_info": {
   "codemirror_mode": {
    "name": "ipython",
    "version": 3
   },
   "file_extension": ".py",
   "mimetype": "text/x-python",
   "name": "python",
   "nbconvert_exporter": "python",
   "pygments_lexer": "ipython3",
   "version": "3.9.7"
  },
  "varInspector": {
   "cols": {
    "lenName": 16,
    "lenType": 16,
    "lenVar": 40
   },
   "kernels_config": {
    "python": {
     "delete_cmd_postfix": "",
     "delete_cmd_prefix": "del ",
     "library": "var_list.py",
     "varRefreshCmd": "print(var_dic_list())"
    },
    "r": {
     "delete_cmd_postfix": ") ",
     "delete_cmd_prefix": "rm(",
     "library": "var_list.r",
     "varRefreshCmd": "cat(var_dic_list()) "
    }
   },
   "types_to_exclude": [
    "module",
    "function",
    "builtin_function_or_method",
    "instance",
    "_Feature"
   ],
   "window_display": false
  }
 },
 "nbformat": 4,
 "nbformat_minor": 5
}
