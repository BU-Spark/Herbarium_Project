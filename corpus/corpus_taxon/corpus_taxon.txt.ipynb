{
 "cells": [
  {
   "cell_type": "code",
   "execution_count": 97,
   "id": "7554d953",
   "metadata": {},
   "outputs": [],
   "source": [
    "# imports\n",
    "import wget\n",
    "import zipfile\n",
    "import os\n",
    "import pandas as pd\n",
    "import shutil"
   ]
  },
  {
   "cell_type": "code",
   "execution_count": 75,
   "id": "183c952c",
   "metadata": {},
   "outputs": [],
   "source": [
    "# globals\n",
    "dataset_url = 'https://hosted-datasets.gbif.org/datasets/ipni.zip'\n",
    "output_dir = '/projectnb/sparkgrp/ml-herbarium-grp/ml-herbarium-angeline1/ml-herbarium/corpus/corpus_taxon/'\n",
    "csv_dir = 'ipni2/ipni.csv'\n",
    "csv = 'ipni.csv'\n",
    "zip_file = 'ipni.zip'\n",
    "corpus_taxon = 'corpus_taxon.txt'"
   ]
  },
  {
   "cell_type": "markdown",
   "id": "0feffd63",
   "metadata": {},
   "source": [
    "# Download Dataset"
   ]
  },
  {
   "cell_type": "code",
   "execution_count": 76,
   "id": "8c94c165",
   "metadata": {},
   "outputs": [
    {
     "name": "stdout",
     "output_type": "stream",
     "text": [
      "100% [....................................................] 52224379 / 52224379"
     ]
    },
    {
     "data": {
      "text/plain": [
       "'/Users/angelinetseng/Desktop/BU_Spark_ML/corpus/ipni.zip'"
      ]
     },
     "execution_count": 76,
     "metadata": {},
     "output_type": "execute_result"
    }
   ],
   "source": [
    "if os.path.exists(output_dir + zip_file):\n",
    "    os.remove(output_dir + zip_file)\n",
    "wget.download(dataset_url, out=output_dir + zip_file)"
   ]
  },
  {
   "cell_type": "markdown",
   "id": "29e86bd1",
   "metadata": {},
   "source": [
    "# Extract .csv from .zip"
   ]
  },
  {
   "cell_type": "code",
   "execution_count": 106,
   "id": "bc222eac",
   "metadata": {},
   "outputs": [],
   "source": [
    "if os.path.exists(output_dir + 'ipni2'):\n",
    "    shutil.rmtree(output_dir + 'ipni2')\n",
    "with zipfile.ZipFile(output_dir + zip_file,'r') as zip_ref:\n",
    "    zip_ref.extract(member=csv_dir, path='/Users/angelinetseng/Desktop/BU_Spark_ML/corpus')\n",
    "\n",
    "zf = zipfile.ZipFile(output_dir + zip_file)\n",
    "# df = pd.read_csv(zf.open(csv), header=None)\n",
    "df = pd.read_csv(csv_dir, header=None)"
   ]
  },
  {
   "cell_type": "code",
   "execution_count": 107,
   "id": "3a22d702",
   "metadata": {},
   "outputs": [
    {
     "data": {
      "text/plain": [
       "[<ZipInfo filename='ipni2/' filemode='drwxr-xr-x'>,\n",
       " <ZipInfo filename='ipni2/ipni.csv' compress_type=deflate filemode='-rw-r--r--' file_size=367731930 compress_size=52144521>,\n",
       " <ZipInfo filename='ipni2/.DS_Store' compress_type=deflate filemode='-rw-r--r--' file_size=6148 compress_size=178>,\n",
       " <ZipInfo filename='__MACOSX/ipni2/._.DS_Store' compress_type=deflate filemode='-rw-r--r--' file_size=120 compress_size=53>,\n",
       " <ZipInfo filename='ipni2/eml.xml' compress_type=deflate filemode='-rwxr-xr-x' file_size=2923 compress_size=1176>,\n",
       " <ZipInfo filename='__MACOSX/ipni2/._eml.xml' compress_type=deflate filemode='-rwxr-xr-x' file_size=733 compress_size=453>,\n",
       " <ZipInfo filename='ipni2/meta.xml' compress_type=deflate filemode='-rwxr-xr-x' file_size=1404 compress_size=425>,\n",
       " <ZipInfo filename='__MACOSX/ipni2/._meta.xml' compress_type=deflate filemode='-rwxr-xr-x' file_size=431 compress_size=241>,\n",
       " <ZipInfo filename='ipni2/.git/' filemode='drwxr-xr-x'>,\n",
       " <ZipInfo filename='ipni2/.git/config' compress_type=deflate filemode='-rw-r--r--' file_size=302 compress_size=190>,\n",
       " <ZipInfo filename='ipni2/.git/objects/' filemode='drwxr-xr-x'>,\n",
       " <ZipInfo filename='ipni2/.git/HEAD' compress_type=deflate filemode='-rw-r--r--' file_size=23 compress_size=25>,\n",
       " <ZipInfo filename='ipni2/.git/info/' filemode='drwxr-xr-x'>,\n",
       " <ZipInfo filename='ipni2/.git/logs/' filemode='drwxr-xr-x'>,\n",
       " <ZipInfo filename='ipni2/.git/description' compress_type=deflate filemode='-rw-r--r--' file_size=73 compress_size=63>,\n",
       " <ZipInfo filename='ipni2/.git/hooks/' filemode='drwxr-xr-x'>,\n",
       " <ZipInfo filename='ipni2/.git/refs/' filemode='drwxr-xr-x'>,\n",
       " <ZipInfo filename='ipni2/.git/index' compress_type=deflate filemode='-rw-r--r--' file_size=425 compress_size=348>,\n",
       " <ZipInfo filename='ipni2/.git/packed-refs' compress_type=deflate filemode='-rw-r--r--' file_size=114 compress_size=103>,\n",
       " <ZipInfo filename='ipni2/.git/COMMIT_EDITMSG' compress_type=deflate filemode='-rw-r--r--' file_size=20 compress_size=22>,\n",
       " <ZipInfo filename='ipni2/.git/objects/a4/' filemode='drwxr-xr-x'>,\n",
       " <ZipInfo filename='ipni2/.git/objects/pack/' filemode='drwxr-xr-x'>,\n",
       " <ZipInfo filename='ipni2/.git/objects/86/' filemode='drwxr-xr-x'>,\n",
       " <ZipInfo filename='ipni2/.git/objects/2f/' filemode='drwxr-xr-x'>,\n",
       " <ZipInfo filename='ipni2/.git/objects/info/' filemode='drwxr-xr-x'>,\n",
       " <ZipInfo filename='ipni2/.git/objects/37/' filemode='drwxr-xr-x'>,\n",
       " <ZipInfo filename='ipni2/.git/objects/dd/' filemode='drwxr-xr-x'>,\n",
       " <ZipInfo filename='ipni2/.git/objects/78/' filemode='drwxr-xr-x'>,\n",
       " <ZipInfo filename='ipni2/.git/info/exclude' compress_type=deflate filemode='-rw-r--r--' file_size=240 compress_size=173>,\n",
       " <ZipInfo filename='ipni2/.git/logs/HEAD' compress_type=deflate filemode='-rw-r--r--' file_size=343 compress_size=191>,\n",
       " <ZipInfo filename='ipni2/.git/logs/refs/' filemode='drwxr-xr-x'>,\n",
       " <ZipInfo filename='ipni2/.git/hooks/commit-msg.sample' compress_type=deflate filemode='-rwxr-xr-x' file_size=896 compress_size=503>,\n",
       " <ZipInfo filename='ipni2/.git/hooks/pre-rebase.sample' compress_type=deflate filemode='-rwxr-xr-x' file_size=4898 compress_size=2015>,\n",
       " <ZipInfo filename='ipni2/.git/hooks/pre-commit.sample' compress_type=deflate filemode='-rwxr-xr-x' file_size=1638 compress_size=905>,\n",
       " <ZipInfo filename='ipni2/.git/hooks/applypatch-msg.sample' compress_type=deflate filemode='-rwxr-xr-x' file_size=478 compress_size=279>,\n",
       " <ZipInfo filename='ipni2/.git/hooks/fsmonitor-watchman.sample' compress_type=deflate filemode='-rwxr-xr-x' file_size=3327 compress_size=1567>,\n",
       " <ZipInfo filename='ipni2/.git/hooks/pre-receive.sample' compress_type=deflate filemode='-rwxr-xr-x' file_size=544 compress_size=329>,\n",
       " <ZipInfo filename='ipni2/.git/hooks/prepare-commit-msg.sample' compress_type=deflate filemode='-rwxr-xr-x' file_size=1492 compress_size=744>,\n",
       " <ZipInfo filename='ipni2/.git/hooks/post-update.sample' compress_type=deflate filemode='-rwxr-xr-x' file_size=189 compress_size=138>,\n",
       " <ZipInfo filename='ipni2/.git/hooks/pre-applypatch.sample' compress_type=deflate filemode='-rwxr-xr-x' file_size=424 compress_size=265>,\n",
       " <ZipInfo filename='ipni2/.git/hooks/pre-push.sample' compress_type=deflate filemode='-rwxr-xr-x' file_size=1348 compress_size=669>,\n",
       " <ZipInfo filename='ipni2/.git/hooks/update.sample' compress_type=deflate filemode='-rwxr-xr-x' file_size=3610 compress_size=1141>,\n",
       " <ZipInfo filename='ipni2/.git/refs/heads/' filemode='drwxr-xr-x'>,\n",
       " <ZipInfo filename='ipni2/.git/refs/tags/' filemode='drwxr-xr-x'>,\n",
       " <ZipInfo filename='ipni2/.git/refs/remotes/' filemode='drwxr-xr-x'>,\n",
       " <ZipInfo filename='ipni2/.git/objects/a4/3d7adcad5bdc4d133acb3380f1e85dd5bd12ea' compress_type=deflate filemode='-r--r--r--' file_size=1247 compress_size=1252>,\n",
       " <ZipInfo filename='ipni2/.git/objects/pack/pack-b29d2cf8c8182d660d7c0ecfbaf7850b243b150d.idx' compress_type=deflate filemode='-r--r--r--' file_size=1156 compress_size=152>,\n",
       " <ZipInfo filename='ipni2/.git/objects/pack/pack-b29d2cf8c8182d660d7c0ecfbaf7850b243b150d.pack' compress_type=deflate filemode='-r--r--r--' file_size=608 compress_size=613>,\n",
       " <ZipInfo filename='ipni2/.git/objects/86/4c6305f7d1af1445ad4589272b9f9004c78051' compress_type=deflate filemode='-r--r--r--' file_size=177 compress_size=182>,\n",
       " <ZipInfo filename='ipni2/.git/objects/2f/e8fd29c94b312f4c4e45bf60ee2c23d6f3f9c7' compress_type=deflate filemode='-r--r--r--' file_size=49956 compress_size=49976>,\n",
       " <ZipInfo filename='ipni2/.git/objects/37/9573542057c96a32e20bc3672b8adafb781015' compress_type=deflate filemode='-r--r--r--' file_size=179 compress_size=184>,\n",
       " <ZipInfo filename='ipni2/.git/objects/dd/02890b5fef5996928718f60147aa3b61902b9d' compress_type=deflate filemode='-r--r--r--' file_size=978 compress_size=983>,\n",
       " <ZipInfo filename='ipni2/.git/objects/78/9d8b4bc9b2b9b59846643b99a9bc57ce6c870a' compress_type=deflate filemode='-r--r--r--' file_size=462 compress_size=467>,\n",
       " <ZipInfo filename='ipni2/.git/logs/refs/heads/' filemode='drwxr-xr-x'>,\n",
       " <ZipInfo filename='ipni2/.git/logs/refs/remotes/' filemode='drwxr-xr-x'>,\n",
       " <ZipInfo filename='ipni2/.git/refs/heads/master' compress_type=deflate filemode='-rw-r--r--' file_size=41 compress_size=42>,\n",
       " <ZipInfo filename='ipni2/.git/refs/remotes/origin/' filemode='drwxr-xr-x'>,\n",
       " <ZipInfo filename='ipni2/.git/logs/refs/heads/master' compress_type=deflate filemode='-rw-r--r--' file_size=343 compress_size=191>,\n",
       " <ZipInfo filename='ipni2/.git/logs/refs/remotes/origin/' filemode='drwxr-xr-x'>,\n",
       " <ZipInfo filename='ipni2/.git/refs/remotes/origin/HEAD' compress_type=deflate filemode='-rw-r--r--' file_size=32 compress_size=34>,\n",
       " <ZipInfo filename='ipni2/.git/refs/remotes/origin/master' compress_type=deflate filemode='-rw-r--r--' file_size=41 compress_size=42>,\n",
       " <ZipInfo filename='ipni2/.git/logs/refs/remotes/origin/HEAD' compress_type=deflate filemode='-rw-r--r--' file_size=180 compress_size=132>,\n",
       " <ZipInfo filename='ipni2/.git/logs/refs/remotes/origin/master' compress_type=deflate filemode='-rw-r--r--' file_size=150 compress_size=132>]"
      ]
     },
     "execution_count": 107,
     "metadata": {},
     "output_type": "execute_result"
    }
   ],
   "source": [
    "zf.infolist()"
   ]
  },
  {
   "cell_type": "code",
   "execution_count": 105,
   "id": "5f120fbe",
   "metadata": {},
   "outputs": [
    {
     "name": "stdout",
     "output_type": "stream",
     "text": [
      "[0, 1, 2, 3, 4, 5, 6, 7, 8, 9, 10, 11]\n",
      "                                       0                       1   \\\n",
      "0        urn:lsid:ipni.org:names:327752-1         Desmia conferta   \n",
      "1        urn:lsid:ipni.org:names:327752-2          trib. Paniceae   \n",
      "2        urn:lsid:ipni.org:names:327753-1        Desmia polifolia   \n",
      "3        urn:lsid:ipni.org:names:327753-2              Chamaesyce   \n",
      "4        urn:lsid:ipni.org:names:327754-1  Desmogyne angustifolia   \n",
      "...                                   ...                     ...   \n",
      "1352345   urn:lsid:ipni.org:names:32775-1              Cyclaminos   \n",
      "1352346   urn:lsid:ipni.org:names:32775-2     Bigelowia nuttallii   \n",
      "1352347  urn:lsid:ipni.org:names:327750-2      subtrib. Zoysiinae   \n",
      "1352348  urn:lsid:ipni.org:names:327751-1         Desmia aequalis   \n",
      "1352349  urn:lsid:ipni.org:names:327751-2           trib. Oryzeae   \n",
      "\n",
      "                        2         3              4   \\\n",
      "0                    D.Don     spec.      Ericaceae   \n",
      "1        R.Br. in Flinders     trib.        Poaceae   \n",
      "2                    D.Don     spec.      Ericaceae   \n",
      "3                     Gray      gen.  Euphorbiaceae   \n",
      "4                    Knagg     spec.      Ericaceae   \n",
      "...                    ...       ...            ...   \n",
      "1352345             Heldr.      gen.    Primulaceae   \n",
      "1352346       L.C.Anderson     spec.     Asteraceae   \n",
      "1352347             Benth.  subtrib.        Poaceae   \n",
      "1352348              D.Don     spec.      Ericaceae   \n",
      "1352349            Dumort.     trib.        Poaceae   \n",
      "\n",
      "                                       5                                   6   \\\n",
      "0                                     NaN     urn:lsid:ipni.org:names:14701-1   \n",
      "1        urn:lsid:ipni.org:names:321663-2  urn:lsid:ipni.org:names:30000032-2   \n",
      "2                                     NaN     urn:lsid:ipni.org:names:14701-1   \n",
      "3                                     NaN  urn:lsid:ipni.org:names:30000064-2   \n",
      "4                                     NaN  urn:lsid:ipni.org:names:50325670-1   \n",
      "...                                   ...                                 ...   \n",
      "1352345                               NaN  urn:lsid:ipni.org:names:50032665-1   \n",
      "1352346                               NaN    urn:lsid:ipni.org:names:331402-2   \n",
      "1352347                               NaN  urn:lsid:ipni.org:names:30000032-2   \n",
      "1352348                               NaN     urn:lsid:ipni.org:names:14701-1   \n",
      "1352349                               NaN  urn:lsid:ipni.org:names:30000032-2   \n",
      "\n",
      "                                            7       8   \\\n",
      "0                                          NaN  1834.0   \n",
      "1        urn:lsid:ipni.org:publications:9050-2  1814.0   \n",
      "2                                          NaN  1834.0   \n",
      "3        urn:lsid:ipni.org:publications:4868-2  1821.0   \n",
      "4         urn:lsid:ipni.org:publications:758-2  1923.0   \n",
      "...                                        ...     ...   \n",
      "1352345   urn:lsid:ipni.org:publications:573-2     NaN   \n",
      "1352346  urn:lsid:ipni.org:publications:1068-2  1970.0   \n",
      "1352347   urn:lsid:ipni.org:publications:921-2  1878.0   \n",
      "1352348                                    NaN  1834.0   \n",
      "1352349  urn:lsid:ipni.org:publications:9110-2  1824.0   \n",
      "\n",
      "                                                        9          10  \\\n",
      "0        Edinburgh  New Philos. J. 17: 153. 1834 [Jul 1...    unknown   \n",
      "1          Voy. Terra Austral. 2: 582. 1814 [19 Jul 1814]   tax. nov.   \n",
      "2        Edinburgh  New Philos. J. 17: 153. 1834 [Jul 1...    unknown   \n",
      "3           Nat. Arr. Brit. Pl. 2: 260. 1821 [1 Nov 1821]   tax. nov.   \n",
      "4            Notes Roy. Bot. Gard. Edinburgh 14: 73. 1923     unknown   \n",
      "...                                                    ...        ...   \n",
      "1352345              Bull. Herb. Boissier vi. (1898) 386.     unknown   \n",
      "1352346                              Sida 3(7): 460. 1970   tax. nov.   \n",
      "1352347         Fl. Austral. 7: 453, 505. 1878 [Mar 1878]   tax. nov.   \n",
      "1352348  Edinburgh  New Philos. J. 17: 153. 1834 [Jul 1...    unknown   \n",
      "1352349     Observ. Gramin. Belg. 83. 1824 [Jul-Sep 1824]   tax. nov.   \n",
      "\n",
      "                                                        11  \n",
      "0        https://www.ipni.org/n/urn:lsid:ipni.org:names...  \n",
      "1        https://www.ipni.org/n/urn:lsid:ipni.org:names...  \n",
      "2        https://www.ipni.org/n/urn:lsid:ipni.org:names...  \n",
      "3        https://www.ipni.org/n/urn:lsid:ipni.org:names...  \n",
      "4        https://www.ipni.org/n/urn:lsid:ipni.org:names...  \n",
      "...                                                    ...  \n",
      "1352345  https://www.ipni.org/n/urn:lsid:ipni.org:names...  \n",
      "1352346  https://www.ipni.org/n/urn:lsid:ipni.org:names...  \n",
      "1352347  https://www.ipni.org/n/urn:lsid:ipni.org:names...  \n",
      "1352348  https://www.ipni.org/n/urn:lsid:ipni.org:names...  \n",
      "1352349  https://www.ipni.org/n/urn:lsid:ipni.org:names...  \n",
      "\n",
      "[1352350 rows x 12 columns]\n"
     ]
    }
   ],
   "source": [
    "# print out all the columns of first row to identify which column taxon is located\n",
    "colnames = []\n",
    "for col in df.columns:\n",
    "    colnames.append(col)\n",
    "print(colnames)\n",
    "print(df)"
   ]
  },
  {
   "cell_type": "markdown",
   "id": "155411db",
   "metadata": {},
   "source": [
    "# Export Taxon Name to corpus-taxon.txt"
   ]
  },
  {
   "cell_type": "code",
   "execution_count": 100,
   "id": "187afa02",
   "metadata": {},
   "outputs": [
    {
     "name": "stdout",
     "output_type": "stream",
     "text": [
      "0                 Desmia conferta\n",
      "1                  trib. Paniceae\n",
      "2                Desmia polifolia\n",
      "3                      Chamaesyce\n",
      "4          Desmogyne angustifolia\n",
      "                    ...          \n",
      "1352345                Cyclaminos\n",
      "1352346       Bigelowia nuttallii\n",
      "1352347        subtrib. Zoysiinae\n",
      "1352348           Desmia aequalis\n",
      "1352349             trib. Oryzeae\n",
      "Name: 1, Length: 1352350, dtype: object\n"
     ]
    }
   ],
   "source": [
    "# taxon is located in the second column \n",
    "print (df[1]) "
   ]
  },
  {
   "cell_type": "code",
   "execution_count": 103,
   "id": "56e4905c",
   "metadata": {},
   "outputs": [],
   "source": [
    "with open(output_dir + corpus_taxon, \"w\") as output_file:\n",
    "    [output_file.write(row + '\\n') for row in df[1]]\n",
    "    output_file.close()"
   ]
  },
  {
   "cell_type": "code",
   "execution_count": 102,
   "id": "3c26dae2",
   "metadata": {},
   "outputs": [
    {
     "name": "stdout",
     "output_type": "stream",
     "text": [
      "Total lines: 1352350\n"
     ]
    }
   ],
   "source": [
    "with open(output_dir + corpus_taxon, 'r') as fp:\n",
    "    x = len(fp.readlines())\n",
    "    print('Total lines:', x) "
   ]
  }
 ],
 "metadata": {
  "kernelspec": {
   "display_name": "Python 3 (ipykernel)",
   "language": "python",
   "name": "python3"
  },
  "language_info": {
   "codemirror_mode": {
    "name": "ipython",
    "version": 3
   },
   "file_extension": ".py",
   "mimetype": "text/x-python",
   "name": "python",
   "nbconvert_exporter": "python",
   "pygments_lexer": "ipython3",
   "version": "3.9.7"
  },
  "varInspector": {
   "cols": {
    "lenName": 16,
    "lenType": 16,
    "lenVar": 40
   },
   "kernels_config": {
    "python": {
     "delete_cmd_postfix": "",
     "delete_cmd_prefix": "del ",
     "library": "var_list.py",
     "varRefreshCmd": "print(var_dic_list())"
    },
    "r": {
     "delete_cmd_postfix": ") ",
     "delete_cmd_prefix": "rm(",
     "library": "var_list.r",
     "varRefreshCmd": "cat(var_dic_list()) "
    }
   },
   "types_to_exclude": [
    "module",
    "function",
    "builtin_function_or_method",
    "instance",
    "_Feature"
   ],
   "window_display": false
  }
 },
 "nbformat": 4,
 "nbformat_minor": 5
}
