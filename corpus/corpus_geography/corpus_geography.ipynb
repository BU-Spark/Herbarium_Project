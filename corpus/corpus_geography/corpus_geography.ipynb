{
 "cells": [
  {
   "cell_type": "code",
   "execution_count": 11,
   "id": "680def2e",
   "metadata": {},
   "outputs": [],
   "source": [
    "# imports\n",
    "import wget\n",
    "import zipfile\n",
    "import os\n",
    "import pandas as pd\n",
    "import shutil"
   ]
  },
  {
   "cell_type": "code",
   "execution_count": 25,
   "id": "1f70eaf9",
   "metadata": {},
   "outputs": [],
   "source": [
    "# globals\n",
    "dataset_url = 'https://api.gbif.org/v1/occurrence/download/request/0230970-210914110416597.zip'\n",
    "output_dir = '/projectnb/sparkgrp/ml-herbarium-grp/ml-herbarium-angeline1/ml-herbarium/corpus/corpus_geography/'\n",
    "zip_file = 'asia_and_oceania.zip'\n",
    "txt = 'occurrence.txt'\n",
    "txt_dir = 'asia_and_oceania/occurrence.txt'\n",
    "csv = 'occurrence.csv'\n",
    "corpus_geography = 'corpus_geography.txt'"
   ]
  },
  {
   "cell_type": "markdown",
   "id": "12f56873",
   "metadata": {},
   "source": [
    "# Download Dataset"
   ]
  },
  {
   "cell_type": "code",
   "execution_count": null,
   "id": "5b4f2f30",
   "metadata": {},
   "outputs": [],
   "source": [
    "# if os.path.exists(output_dir + zip_file):\n",
    "#     os.remove(output_dir + zip_file)\n",
    "# wget.download(dataset_url, out=output_dir + zip_file)"
   ]
  },
  {
   "cell_type": "markdown",
   "id": "d89ebfb2",
   "metadata": {},
   "source": [
    "# Extract files from .zip"
   ]
  },
  {
   "cell_type": "code",
   "execution_count": 52,
   "id": "34e22372",
   "metadata": {},
   "outputs": [],
   "source": [
    "if os.path.exists(output_dir + 'asia_and_oceania'):\n",
    "    shutil.rmtree(output_dir + 'asia_and_oceania')\n",
    "with zipfile.ZipFile(output_dir + zip_file,'r') as zip_ref:\n",
    "    zip_ref.extractall(output_dir + 'asia_and_oceania') "
   ]
  },
  {
   "cell_type": "markdown",
   "id": "68540a69",
   "metadata": {},
   "source": [
    "# Convert .txt to .csv"
   ]
  },
  {
   "cell_type": "code",
   "execution_count": 55,
   "id": "5c7d19e3",
   "metadata": {},
   "outputs": [
    {
     "name": "stderr",
     "output_type": "stream",
     "text": [
      "/Users/angelinetseng/opt/anaconda3/lib/python3.9/site-packages/IPython/core/interactiveshell.py:3444: DtypeWarning: Columns (75,91,136,172,175,187,195,201,205,208,212,215,224,228,238,242) have mixed types.Specify dtype option on import or set low_memory=False.\n",
      "  exec(code_obj, self.user_global_ns, self.user_ns)\n"
     ]
    },
    {
     "name": "stdout",
     "output_type": "stream",
     "text": [
      "0                           Asia;China;Xizang (Tibet);\n",
      "1                          Asia;China;Yunnan;Pingbian;\n",
      "2                                          Asia;Japan;\n",
      "3         Oceania;Australia (Country);New South Wales;\n",
      "4                            Asia;Philippines;Palawan;\n",
      "                              ...                     \n",
      "163504                            Oceania;New Zealand;\n",
      "163505                              Asia;China;Yunnan;\n",
      "163506                       Asia;Philippines;Palawan;\n",
      "163507                       Asia;China;Yunnan;Lushui;\n",
      "163508               Oceania;Papua New Guinea;Western;\n",
      "Name: higherGeography, Length: 163509, dtype: object\n"
     ]
    }
   ],
   "source": [
    "read_file = pd.read_csv(output_dir + txt_dir, sep='\\t')\n",
    "read_file.to_csv(output_dir + csv)\n",
    "df = pd.read_csv(csv, low_memory=False)\n",
    "print(df['higherGeography'])"
   ]
  },
  {
   "cell_type": "code",
   "execution_count": 56,
   "id": "5f000a2c",
   "metadata": {},
   "outputs": [
    {
     "name": "stdout",
     "output_type": "stream",
     "text": [
      "['Asia;China;Xizang (Tibet);', 'Asia;China;Yunnan;Pingbian;', 'Asia;Japan;', 'Oceania;Australia (Country);New South Wales;', 'Asia;Philippines;Palawan;']\n",
      "1467\n"
     ]
    }
   ],
   "source": [
    "higherGeography = df['higherGeography'] #you can also use df['column_name']\n",
    "higherGeography = higherGeography.unique().tolist()\n",
    "print(higherGeography[:5])\n",
    "print(len(higherGeography))"
   ]
  },
  {
   "cell_type": "code",
   "execution_count": 57,
   "id": "ee609a21",
   "metadata": {},
   "outputs": [
    {
     "name": "stdout",
     "output_type": "stream",
     "text": [
      "[['Asia', 'China', 'Xizang (Tibet)'], ['Asia', 'China', 'Yunnan', 'Pingbian'], ['Asia', 'Japan'], ['Oceania', 'Australia (Country)', 'New South Wales'], ['Asia', 'Philippines', 'Palawan']]\n"
     ]
    }
   ],
   "source": [
    "geo_no_semi = []\n",
    "for i in range(len(higherGeography)): \n",
    "    geo_no_semi.append(higherGeography[i].split(';')[:-1])\n",
    "print(geo_no_semi[:5])"
   ]
  },
  {
   "cell_type": "code",
   "execution_count": 58,
   "id": "781eedec",
   "metadata": {},
   "outputs": [
    {
     "name": "stdout",
     "output_type": "stream",
     "text": [
      "Philippines, Benguet\n"
     ]
    }
   ],
   "source": [
    "string = ', '.join([str(item) for item in geo_no_semi[18][1:]])\n",
    "print(string)"
   ]
  },
  {
   "cell_type": "code",
   "execution_count": 59,
   "id": "b7ff3f09",
   "metadata": {},
   "outputs": [],
   "source": [
    "textfile = open(output_dir + corpus_geography, 'w')\n",
    "for i in range(len(geo_no_semi)):\n",
    "    textfile.write(', '.join([str(item) for item in geo_no_semi[i][1:]]) + '\\n')\n",
    "textfile.close()"
   ]
  }
 ],
 "metadata": {
  "kernelspec": {
   "display_name": "Python 3 (ipykernel)",
   "language": "python",
   "name": "python3"
  },
  "language_info": {
   "codemirror_mode": {
    "name": "ipython",
    "version": 3
   },
   "file_extension": ".py",
   "mimetype": "text/x-python",
   "name": "python",
   "nbconvert_exporter": "python",
   "pygments_lexer": "ipython3",
   "version": "3.9.7"
  },
  "varInspector": {
   "cols": {
    "lenName": 16,
    "lenType": 16,
    "lenVar": 40
   },
   "kernels_config": {
    "python": {
     "delete_cmd_postfix": "",
     "delete_cmd_prefix": "del ",
     "library": "var_list.py",
     "varRefreshCmd": "print(var_dic_list())"
    },
    "r": {
     "delete_cmd_postfix": ") ",
     "delete_cmd_prefix": "rm(",
     "library": "var_list.r",
     "varRefreshCmd": "cat(var_dic_list()) "
    }
   },
   "types_to_exclude": [
    "module",
    "function",
    "builtin_function_or_method",
    "instance",
    "_Feature"
   ],
   "window_display": false
  }
 },
 "nbformat": 4,
 "nbformat_minor": 5
}
