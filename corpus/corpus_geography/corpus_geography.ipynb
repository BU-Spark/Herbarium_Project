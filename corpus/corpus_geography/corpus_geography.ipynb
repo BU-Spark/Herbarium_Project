{
 "cells": [
  {
   "cell_type": "code",
   "execution_count": 71,
   "id": "680def2e",
   "metadata": {},
   "outputs": [],
   "source": [
    "### imports\n",
    "import wget\n",
    "import zipfile\n",
    "import os\n",
    "import pandas as pd\n",
    "import shutil\n",
    "from unidecode import unidecode"
   ]
  },
  {
   "cell_type": "code",
   "execution_count": 72,
   "id": "1f70eaf9",
   "metadata": {},
   "outputs": [],
   "source": [
    "### globals\n",
    "dataset_asia_url = 'https://api.gbif.org/v1/occurrence/download/request/0230970-210914110416597.zip'\n",
    "dataset_northamerica_url = 'https://api.gbif.org/v1/occurrence/download/request/0232563-210914110416597.zip'\n",
    "# else: europe, south america, antarctica and africa\n",
    "dataset_else_url = 'https://api.gbif.org/v1/occurrence/download/request/0232644-210914110416597.zip'\n",
    "\n",
    "output_dir = '/projectnb/sparkgrp/ml-herbarium-grp/ml-herbarium-angeline1/ml-herbarium/corpus/corpus_geography/'\n",
    "\n",
    "zip_file_asia = 'asia_and_oceania.zip'\n",
    "zip_file_northamerica = 'north_america.zip'\n",
    "zip_file_else = 'else.zip'\n",
    "\n",
    "txt_asia_dir = 'asia_and_oceania/occurrence.txt'\n",
    "txt_northamerica_dir = 'north_america/occurrence.txt'\n",
    "txt_else_dir = 'else/occurrence.txt'\n",
    "\n",
    "csv_asia = 'occurrence_asia.csv'\n",
    "csv_northamerica = 'occurrence_north_america.csv'\n",
    "csv_else = 'occurrence_else.csv'\n",
    "\n",
    "corpus_geography = 'corpus_geography.txt'"
   ]
  },
  {
   "cell_type": "markdown",
   "id": "1a6b5914",
   "metadata": {},
   "source": [
    "----------------"
   ]
  },
  {
   "cell_type": "code",
   "execution_count": 73,
   "id": "8a1c39e5",
   "metadata": {},
   "outputs": [],
   "source": [
    "def download_dataset(dataset_url, zip_file):\n",
    "    if os.path.exists(output_dir + zip_file):\n",
    "        os.remove(output_dir + zip_file)\n",
    "    wget.download(dataset_url, out=output_dir + zip_file)"
   ]
  },
  {
   "cell_type": "code",
   "execution_count": 74,
   "id": "559bc479",
   "metadata": {},
   "outputs": [],
   "source": [
    "def process_geo(zip_file, txt_dir, csv):\n",
    "    # Extract files from .zip¶\n",
    "    if os.path.exists(output_dir + zip_file[:-4]):\n",
    "        shutil.rmtree(output_dir + zip_file[:-4])\n",
    "    with zipfile.ZipFile(output_dir + zip_file,'r') as zip_ref:\n",
    "        zip_ref.extractall(output_dir + zip_file[:-4])\n",
    "        \n",
    "    # convert text file to csv format \n",
    "    read_file = pd.read_csv(output_dir + txt_dir, sep='\\\\t', engine='python')\n",
    "    read_file.to_csv(output_dir + csv)\n",
    "    df = pd.read_csv(csv, low_memory=False)\n",
    "    \n",
    "    # take higher geography column from the csv file \n",
    "    higherGeography = df['higherGeography'] \n",
    "    higherGeography = higherGeography.unique().tolist() # avoid duplicates\n",
    "    geo_no_semi = []\n",
    "    for i in range(len(higherGeography)): \n",
    "        geo_no_semi.append(unidecode(higherGeography[i]).split(';')[:-1])\n",
    "    total_cities.append(geo_no_semi)"
   ]
  },
  {
   "cell_type": "code",
   "execution_count": 75,
   "id": "235ad0c8",
   "metadata": {},
   "outputs": [],
   "source": [
    "def write_geo(total_cities):\n",
    "     # write them to a text file\n",
    "    textfile = open(output_dir + corpus_geography, 'w')\n",
    "    for i in range(len(total_cities)):\n",
    "        for j in range(len(total_cities[i])):\n",
    "            textfile.write(', '.join([str(item) for item in total_cities[i][j][1:]]) + '\\n')\n",
    "    textfile.close()"
   ]
  },
  {
   "cell_type": "code",
   "execution_count": 76,
   "id": "e8844606",
   "metadata": {},
   "outputs": [
    {
     "name": "stdout",
     "output_type": "stream",
     "text": [
      "done 0\n",
      "done 1\n",
      "done 2\n"
     ]
    }
   ],
   "source": [
    "total = [[dataset_asia_url, zip_file_asia, txt_asia_dir, csv_asia], [dataset_northamerica_url, zip_file_northamerica,\\\n",
    "txt_northamerica_dir, csv_northamerica], [dataset_else_url, zip_file_else, txt_else_dir, csv_else]]\n",
    "total_cities = []\n",
    "for i in range(len(total)):\n",
    "    dataset_url = total[i][0]\n",
    "    zip_file = total[i][1]\n",
    "    txt_dir = total[i][2]\n",
    "    csv = total[i][3]\n",
    "#     download_dataset(dataset_url, zip_file)\n",
    "    process_geo(zip_file, txt_dir, csv)\n",
    "    print('done' , i)"
   ]
  },
  {
   "cell_type": "code",
   "execution_count": 80,
   "id": "fee83075",
   "metadata": {},
   "outputs": [],
   "source": [
    "write_geo(total_cities)"
   ]
  },
  {
   "cell_type": "code",
   "execution_count": 81,
   "id": "4b8da081",
   "metadata": {},
   "outputs": [
    {
     "name": "stdout",
     "output_type": "stream",
     "text": [
      "Total lines: 6543\n"
     ]
    }
   ],
   "source": [
    "with open(output_dir + corpus_geography, 'r') as fp:\n",
    "    x = len(fp.readlines())\n",
    "    print('Total lines:', x)"
   ]
  }
 ],
 "metadata": {
  "kernelspec": {
   "display_name": "Python 3 (ipykernel)",
   "language": "python",
   "name": "python3"
  },
  "language_info": {
   "codemirror_mode": {
    "name": "ipython",
    "version": 3
   },
   "file_extension": ".py",
   "mimetype": "text/x-python",
   "name": "python",
   "nbconvert_exporter": "python",
   "pygments_lexer": "ipython3",
   "version": "3.9.7"
  },
  "varInspector": {
   "cols": {
    "lenName": 16,
    "lenType": 16,
    "lenVar": 40
   },
   "kernels_config": {
    "python": {
     "delete_cmd_postfix": "",
     "delete_cmd_prefix": "del ",
     "library": "var_list.py",
     "varRefreshCmd": "print(var_dic_list())"
    },
    "r": {
     "delete_cmd_postfix": ") ",
     "delete_cmd_prefix": "rm(",
     "library": "var_list.r",
     "varRefreshCmd": "cat(var_dic_list()) "
    }
   },
   "types_to_exclude": [
    "module",
    "function",
    "builtin_function_or_method",
    "instance",
    "_Feature"
   ],
   "window_display": false
  }
 },
 "nbformat": 4,
 "nbformat_minor": 5
}
