{
 "cells": [
  {
   "cell_type": "code",
   "execution_count": 8,
   "metadata": {},
   "outputs": [],
   "source": [
    "path = \"/projectnb/sparkgrp/ml-herbarium-grp/ml-herbarium-data/scraped-data/20220621-052943/\"\n",
    "goal = \"/projectnb/sparkgrp/ml-herbarium-grp/ml-herbarium-data/CRAFT-results/20220621-052943\""
   ]
  },
  {
   "cell_type": "code",
   "execution_count": 9,
   "metadata": {},
   "outputs": [
    {
     "data": {
      "text/plain": [
       "['',\n",
       " 'projectnb',\n",
       " 'sparkgrp',\n",
       " 'ml-herbarium-grp',\n",
       " 'ml-herbarium-data',\n",
       " 'scraped-data',\n",
       " '20220621-052943',\n",
       " '']"
      ]
     },
     "execution_count": 9,
     "metadata": {},
     "output_type": "execute_result"
    }
   ],
   "source": [
    "a = path.split(\"/\")\n",
    "a"
   ]
  },
  {
   "cell_type": "code",
   "execution_count": 11,
   "metadata": {},
   "outputs": [
    {
     "data": {
      "text/plain": [
       "'/projectnb/sparkgrp/ml-herbarium-grp/ml-herbarium-data/CRAFT-results/20220621-052943'"
      ]
     },
     "execution_count": 11,
     "metadata": {},
     "output_type": "execute_result"
    }
   ],
   "source": [
    "\"/\".join(path.split(\"/\")[:-3]) + \"/CRAFT-results/\" + path.split(\"/\")[-2]"
   ]
  },
  {
   "cell_type": "code",
   "execution_count": null,
   "metadata": {},
   "outputs": [],
   "source": [
    "def run_handwritten_recog(line_images, handwriting_line_recognition_net):\n",
    "\tdef operation(line_image):\n",
    "\t\tline_image_size = (60, 800)\n",
    "\t\tline_image = handwriting_recognition_transform(line_image, line_image_size)\n",
    "\t\tline_character_prob = handwriting_line_recognition_net(line_image.as_in_context(ctx))\n",
    "\t\treturn line_character_prob\n",
    "\tform_character_prob = []\n",
    "\tform_character_prob.append(map(operation(line_images)))\n",
    "\treturn form_character_prob\n",
    "\n",
    "def handwriting_recog(lines, num_threads):\n",
    "\tprint(lines)\n",
    "\thandwriting_line_recognition_net = HandwritingRecognitionNet(rnn_hidden_states=512,\n",
    "\t\t\t\t\t\t\t\t\t\t\t\t\t\t\t\trnn_layers=2, ctx=ctx, max_seq_len=160)\n",
    "\tpretrained_params = \"models/herb_line_trained_on_all.params\"\n",
    "\thandwriting_line_recognition_net.load_parameters(pretrained_params, ctx=ctx) # \"models/handwriting_line8.params\"\n",
    "\thandwriting_line_recognition_net.hybridize()\n",
    "\t\n",
    "\tprint(\"Starting multiprocessing...\")\n",
    "\tcharacter_probs = []\n",
    "\tpool = mp.Pool(min(num_threads, len(lines)))\n",
    "\t# func = partial(run_handwritten_recog, line_images=inputs)\n",
    "\tfor output in tqdm(pool.imap(run_handwritten_recog, lines), total=len(lines)):\n",
    "\t\tcharacter_probs.append(output)\n",
    "\tpool.close()\n",
    "\tpool.join()\n",
    "\tprint(\"Done.\\n\")\n",
    "\treturn character_probs"
   ]
  }
 ],
 "metadata": {
  "kernelspec": {
   "display_name": "Python 3.8.10 ('.env': venv)",
   "language": "python",
   "name": "python3"
  },
  "language_info": {
   "codemirror_mode": {
    "name": "ipython",
    "version": 3
   },
   "file_extension": ".py",
   "mimetype": "text/x-python",
   "name": "python",
   "nbconvert_exporter": "python",
   "pygments_lexer": "ipython3",
   "version": "3.8.10"
  },
  "orig_nbformat": 4,
  "vscode": {
   "interpreter": {
    "hash": "14769a81ec23306709d2228f2f537195f973344c7e4c559f0a95ff45ddbc8f21"
   }
  }
 },
 "nbformat": 4,
 "nbformat_minor": 2
}
