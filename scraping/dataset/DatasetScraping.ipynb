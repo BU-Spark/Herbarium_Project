{
  "cells": [
    {
      "cell_type": "markdown",
      "metadata": {
        "id": "OZTvvxKTKvFx"
      },
      "source": [
        "# Dataset Scraping"
      ]
    },
    {
      "cell_type": "markdown",
      "metadata": {
        "id": "hCLIuKlvMZEF"
      },
      "source": [
        "## Imports"
      ]
    },
    {
      "cell_type": "code",
      "execution_count": 1,
      "metadata": {
        "id": "AsJd5HlHNRUH"
      },
      "outputs": [],
      "source": [
        "from dwca.read import DwCAReader\n",
        "from dwca.darwincore.utils import qualname as qn\n",
        "import requests\n",
        "import shutil\n",
        "import os\n",
        "import time\n",
        "import math\n",
        "import pandas\n",
        "import json\n",
        "import zipfile\n",
        "from tqdm import tqdm\n",
        "from glob import glob\n",
        "import multiprocessing as mp\n"
      ]
    },
    {
      "cell_type": "markdown",
      "metadata": {
        "id": "PUl1OcBR3Kfu"
      },
      "source": [
        "## Globals"
      ]
    },
    {
      "cell_type": "code",
      "execution_count": 4,
      "metadata": {
        "id": "VULrSpbU3PZX"
      },
      "outputs": [],
      "source": [
        "timestr = time.strftime(\"%Y%m%d-%H%M%S\")\n",
        "\n",
        "PERCENT_TO_SCRAPE = 0.00015\n",
        "NUMBER_TO_SKIP = 40000\n",
        "DATASET_PATH = \"/projectnb/sparkgrp/ml-herbarium-grp/ml-herbarium-data/\"\n",
        "DATASET_ARCHIVE = \"data.zip\"\n",
        "DATASET_CSV = \"data.csv\"\n",
        "OUTPUT_PATH = \"/projectnb/sparkgrp/ml-herbarium-grp/ml-herbarium-data/scraped-data/\" + \"drago_testdata\" + \"/\"\n",
        "DATASET_URL = \"https://occurrence-download.gbif.org/occurrence/download/request/0196625-210914110416597.zip\"\n",
        "DATASET_TYPE = \"\"\n",
        "NUM_CORES = 50\n",
        "\n",
        "\n"
      ]
    },
    {
      "cell_type": "markdown",
      "metadata": {},
      "source": [
        "## Download Dataset\n",
        "#### Only run this if the dataset needs to be redownladed"
      ]
    },
    {
      "cell_type": "code",
      "execution_count": 209,
      "metadata": {},
      "outputs": [
        {
          "name": "stderr",
          "output_type": "stream",
          "text": [
            " 10%|▉         | 113M/1.16G [00:20<03:10, 5.52MiB/s]\n",
            "100%|██████████| 1.16G/1.16G [01:48<00:00, 10.7MiB/s]\n"
          ]
        }
      ],
      "source": [
        "if os.path.exists(DATASET_PATH + DATASET_ARCHIVE):\n",
        "    os.remove(DATASET_PATH + DATASET_ARCHIVE)\n",
        "ds = requests.get(DATASET_URL, stream=True)\n",
        "total_size_in_bytes = int(ds.headers.get(\"content-length\", 0))\n",
        "block_size = 1024  # 1 Kibibyte\n",
        "progress_bar = tqdm(total=total_size_in_bytes, unit=\"iB\", unit_scale=True)\n",
        "with open(DATASET_PATH + DATASET_ARCHIVE, \"wb\") as f:\n",
        "    for data in ds.iter_content(block_size):\n",
        "        progress_bar.update(len(data))\n",
        "        f.write(data)\n",
        "progress_bar.close()\n",
        "if total_size_in_bytes != 0 and progress_bar.n != total_size_in_bytes:\n",
        "    print(\"ERROR, something went wrong\")\n"
      ]
    },
    {
      "cell_type": "markdown",
      "metadata": {},
      "source": [
        "## For DWCA files"
      ]
    },
    {
      "cell_type": "markdown",
      "metadata": {
        "id": "zM3ZY6mUK1fG"
      },
      "source": [
        "### Open DWCA File"
      ]
    },
    {
      "cell_type": "code",
      "execution_count": 21,
      "metadata": {
        "id": "mUo2pWfBMUCq"
      },
      "outputs": [],
      "source": [
        "dwca = DwCAReader(DATASET_PATH + DATASET_ARCHIVE)\n",
        "DATASET_TYPE = \"dwca\"\n"
      ]
    },
    {
      "cell_type": "markdown",
      "metadata": {
        "id": "c-0PwbMjWVR8"
      },
      "source": [
        "### Test DWCA\n",
        "Will throw an error if the file is not opened correctly."
      ]
    },
    {
      "cell_type": "code",
      "execution_count": 22,
      "metadata": {
        "colab": {
          "base_uri": "https://localhost:8080/"
        },
        "id": "AI63ypo6WUgd",
        "outputId": "a8d75915-f9b7-4166-afe7-2c46873e54f0"
      },
      "outputs": [
        {
          "data": {
            "text/plain": [
              "<dwca.rows.CoreRow at 0x7f9d5b41efa0>"
            ]
          },
          "execution_count": 22,
          "metadata": {},
          "output_type": "execute_result"
        }
      ],
      "source": [
        "dwca.get_corerow_by_position(0)\n"
      ]
    },
    {
      "cell_type": "markdown",
      "metadata": {
        "id": "f_fmenuIx0_I"
      },
      "source": [
        "### Save DWCA Rows to Pandas Dataframe"
      ]
    },
    {
      "cell_type": "code",
      "execution_count": null,
      "metadata": {},
      "outputs": [],
      "source": []
    },
    {
      "cell_type": "code",
      "execution_count": 23,
      "metadata": {
        "id": "J4XGVmeRx0_K"
      },
      "outputs": [],
      "source": [
        "# df = dwca.pd_read('occurrence.txt')\n",
        "df = dwca.pd_read(\"occurrence.txt\", low_memory=False)\n"
      ]
    },
    {
      "cell_type": "code",
      "execution_count": null,
      "metadata": {},
      "outputs": [],
      "source": [
        "def print_pandas_column_names(df):\n",
        "    colnames = []\n",
        "    for col in df.columns:\n",
        "        colnames.append(col)\n",
        "    print(colnames)"
      ]
    },
    {
      "cell_type": "markdown",
      "metadata": {
        "id": "P3UvVB5Oahgc"
      },
      "source": [
        "#### Close the archive to free resources\n"
      ]
    },
    {
      "cell_type": "code",
      "execution_count": 8,
      "metadata": {
        "colab": {
          "base_uri": "https://localhost:8080/",
          "height": 307
        },
        "id": "VevtWlmRajVo",
        "outputId": "57b4760f-7d08-4495-fd93-ae667d6edb6e"
      },
      "outputs": [],
      "source": [
        "dwca.close()\n"
      ]
    },
    {
      "cell_type": "code",
      "execution_count": 11,
      "metadata": {},
      "outputs": [
        {
          "data": {
            "text/html": [
              "<div>\n",
              "<style scoped>\n",
              "    .dataframe tbody tr th:only-of-type {\n",
              "        vertical-align: middle;\n",
              "    }\n",
              "\n",
              "    .dataframe tbody tr th {\n",
              "        vertical-align: top;\n",
              "    }\n",
              "\n",
              "    .dataframe thead th {\n",
              "        text-align: right;\n",
              "    }\n",
              "</style>\n",
              "<table border=\"1\" class=\"dataframe\">\n",
              "  <thead>\n",
              "    <tr style=\"text-align: right;\">\n",
              "      <th></th>\n",
              "      <th>id</th>\n",
              "      <th>abstract</th>\n",
              "      <th>accrualMethod</th>\n",
              "      <th>accrualPeriodicity</th>\n",
              "      <th>accrualPolicy</th>\n",
              "      <th>alternative</th>\n",
              "      <th>audience</th>\n",
              "      <th>available</th>\n",
              "      <th>bibliographicCitation</th>\n",
              "      <th>conformsTo</th>\n",
              "      <th>...</th>\n",
              "      <th>acceptedTaxonKey</th>\n",
              "      <th>kingdomKey</th>\n",
              "      <th>phylumKey</th>\n",
              "      <th>classKey</th>\n",
              "      <th>orderKey</th>\n",
              "      <th>familyKey</th>\n",
              "      <th>genusKey</th>\n",
              "      <th>subgenusKey</th>\n",
              "      <th>speciesKey</th>\n",
              "      <th>relativeOrganismQuantity</th>\n",
              "    </tr>\n",
              "  </thead>\n",
              "  <tbody>\n",
              "    <tr>\n",
              "      <th>count</th>\n",
              "      <td>8.409500e+04</td>\n",
              "      <td>0.0</td>\n",
              "      <td>0.0</td>\n",
              "      <td>0.0</td>\n",
              "      <td>0.0</td>\n",
              "      <td>0.0</td>\n",
              "      <td>0.0</td>\n",
              "      <td>0.0</td>\n",
              "      <td>0.0</td>\n",
              "      <td>0.0</td>\n",
              "      <td>...</td>\n",
              "      <td>8.409500e+04</td>\n",
              "      <td>84095.0</td>\n",
              "      <td>84095.0</td>\n",
              "      <td>8.409500e+04</td>\n",
              "      <td>8.409500e+04</td>\n",
              "      <td>8.409400e+04</td>\n",
              "      <td>8.401600e+04</td>\n",
              "      <td>0.0</td>\n",
              "      <td>8.190900e+04</td>\n",
              "      <td>0.0</td>\n",
              "    </tr>\n",
              "    <tr>\n",
              "      <th>mean</th>\n",
              "      <td>2.214488e+09</td>\n",
              "      <td>NaN</td>\n",
              "      <td>NaN</td>\n",
              "      <td>NaN</td>\n",
              "      <td>NaN</td>\n",
              "      <td>NaN</td>\n",
              "      <td>NaN</td>\n",
              "      <td>NaN</td>\n",
              "      <td>NaN</td>\n",
              "      <td>NaN</td>\n",
              "      <td>...</td>\n",
              "      <td>4.272101e+06</td>\n",
              "      <td>6.0</td>\n",
              "      <td>7707728.0</td>\n",
              "      <td>1.216576e+04</td>\n",
              "      <td>3.788900e+05</td>\n",
              "      <td>6.945661e+04</td>\n",
              "      <td>3.744964e+06</td>\n",
              "      <td>NaN</td>\n",
              "      <td>4.197946e+06</td>\n",
              "      <td>NaN</td>\n",
              "    </tr>\n",
              "    <tr>\n",
              "      <th>std</th>\n",
              "      <td>4.611772e+08</td>\n",
              "      <td>NaN</td>\n",
              "      <td>NaN</td>\n",
              "      <td>NaN</td>\n",
              "      <td>NaN</td>\n",
              "      <td>NaN</td>\n",
              "      <td>NaN</td>\n",
              "      <td>NaN</td>\n",
              "      <td>NaN</td>\n",
              "      <td>NaN</td>\n",
              "      <td>...</td>\n",
              "      <td>1.850369e+06</td>\n",
              "      <td>0.0</td>\n",
              "      <td>0.0</td>\n",
              "      <td>2.936377e+05</td>\n",
              "      <td>1.607552e+06</td>\n",
              "      <td>5.277301e+05</td>\n",
              "      <td>1.844436e+06</td>\n",
              "      <td>NaN</td>\n",
              "      <td>1.809612e+06</td>\n",
              "      <td>NaN</td>\n",
              "    </tr>\n",
              "    <tr>\n",
              "      <th>min</th>\n",
              "      <td>1.989713e+09</td>\n",
              "      <td>NaN</td>\n",
              "      <td>NaN</td>\n",
              "      <td>NaN</td>\n",
              "      <td>NaN</td>\n",
              "      <td>NaN</td>\n",
              "      <td>NaN</td>\n",
              "      <td>NaN</td>\n",
              "      <td>NaN</td>\n",
              "      <td>NaN</td>\n",
              "      <td>...</td>\n",
              "      <td>2.382000e+03</td>\n",
              "      <td>6.0</td>\n",
              "      <td>7707728.0</td>\n",
              "      <td>1.940000e+02</td>\n",
              "      <td>3.920000e+02</td>\n",
              "      <td>2.366000e+03</td>\n",
              "      <td>2.650108e+06</td>\n",
              "      <td>NaN</td>\n",
              "      <td>2.650247e+06</td>\n",
              "      <td>NaN</td>\n",
              "    </tr>\n",
              "    <tr>\n",
              "      <th>25%</th>\n",
              "      <td>1.998682e+09</td>\n",
              "      <td>NaN</td>\n",
              "      <td>NaN</td>\n",
              "      <td>NaN</td>\n",
              "      <td>NaN</td>\n",
              "      <td>NaN</td>\n",
              "      <td>NaN</td>\n",
              "      <td>NaN</td>\n",
              "      <td>NaN</td>\n",
              "      <td>NaN</td>\n",
              "      <td>...</td>\n",
              "      <td>3.013672e+06</td>\n",
              "      <td>6.0</td>\n",
              "      <td>7707728.0</td>\n",
              "      <td>2.200000e+02</td>\n",
              "      <td>6.400000e+02</td>\n",
              "      <td>3.925000e+03</td>\n",
              "      <td>2.960439e+06</td>\n",
              "      <td>NaN</td>\n",
              "      <td>3.013580e+06</td>\n",
              "      <td>NaN</td>\n",
              "    </tr>\n",
              "    <tr>\n",
              "      <th>50%</th>\n",
              "      <td>1.999077e+09</td>\n",
              "      <td>NaN</td>\n",
              "      <td>NaN</td>\n",
              "      <td>NaN</td>\n",
              "      <td>NaN</td>\n",
              "      <td>NaN</td>\n",
              "      <td>NaN</td>\n",
              "      <td>NaN</td>\n",
              "      <td>NaN</td>\n",
              "      <td>NaN</td>\n",
              "      <td>...</td>\n",
              "      <td>3.172326e+06</td>\n",
              "      <td>6.0</td>\n",
              "      <td>7707728.0</td>\n",
              "      <td>2.200000e+02</td>\n",
              "      <td>6.910000e+02</td>\n",
              "      <td>5.015000e+03</td>\n",
              "      <td>3.013395e+06</td>\n",
              "      <td>NaN</td>\n",
              "      <td>3.152047e+06</td>\n",
              "      <td>NaN</td>\n",
              "    </tr>\n",
              "    <tr>\n",
              "      <th>75%</th>\n",
              "      <td>2.012887e+09</td>\n",
              "      <td>NaN</td>\n",
              "      <td>NaN</td>\n",
              "      <td>NaN</td>\n",
              "      <td>NaN</td>\n",
              "      <td>NaN</td>\n",
              "      <td>NaN</td>\n",
              "      <td>NaN</td>\n",
              "      <td>NaN</td>\n",
              "      <td>NaN</td>\n",
              "      <td>...</td>\n",
              "      <td>5.354470e+06</td>\n",
              "      <td>6.0</td>\n",
              "      <td>7707728.0</td>\n",
              "      <td>2.200000e+02</td>\n",
              "      <td>1.351000e+03</td>\n",
              "      <td>6.677000e+03</td>\n",
              "      <td>3.172323e+06</td>\n",
              "      <td>NaN</td>\n",
              "      <td>5.334240e+06</td>\n",
              "      <td>NaN</td>\n",
              "    </tr>\n",
              "    <tr>\n",
              "      <th>max</th>\n",
              "      <td>3.880670e+09</td>\n",
              "      <td>NaN</td>\n",
              "      <td>NaN</td>\n",
              "      <td>NaN</td>\n",
              "      <td>NaN</td>\n",
              "      <td>NaN</td>\n",
              "      <td>NaN</td>\n",
              "      <td>NaN</td>\n",
              "      <td>NaN</td>\n",
              "      <td>NaN</td>\n",
              "      <td>...</td>\n",
              "      <td>1.140075e+07</td>\n",
              "      <td>6.0</td>\n",
              "      <td>7707728.0</td>\n",
              "      <td>7.228684e+06</td>\n",
              "      <td>7.561687e+06</td>\n",
              "      <td>1.041138e+07</td>\n",
              "      <td>1.140075e+07</td>\n",
              "      <td>NaN</td>\n",
              "      <td>1.137903e+07</td>\n",
              "      <td>NaN</td>\n",
              "    </tr>\n",
              "  </tbody>\n",
              "</table>\n",
              "<p>8 rows × 169 columns</p>\n",
              "</div>"
            ],
            "text/plain": [
              "                 id  abstract  accrualMethod  accrualPeriodicity  \\\n",
              "count  8.409500e+04       0.0            0.0                 0.0   \n",
              "mean   2.214488e+09       NaN            NaN                 NaN   \n",
              "std    4.611772e+08       NaN            NaN                 NaN   \n",
              "min    1.989713e+09       NaN            NaN                 NaN   \n",
              "25%    1.998682e+09       NaN            NaN                 NaN   \n",
              "50%    1.999077e+09       NaN            NaN                 NaN   \n",
              "75%    2.012887e+09       NaN            NaN                 NaN   \n",
              "max    3.880670e+09       NaN            NaN                 NaN   \n",
              "\n",
              "       accrualPolicy  alternative  audience  available  bibliographicCitation  \\\n",
              "count            0.0          0.0       0.0        0.0                    0.0   \n",
              "mean             NaN          NaN       NaN        NaN                    NaN   \n",
              "std              NaN          NaN       NaN        NaN                    NaN   \n",
              "min              NaN          NaN       NaN        NaN                    NaN   \n",
              "25%              NaN          NaN       NaN        NaN                    NaN   \n",
              "50%              NaN          NaN       NaN        NaN                    NaN   \n",
              "75%              NaN          NaN       NaN        NaN                    NaN   \n",
              "max              NaN          NaN       NaN        NaN                    NaN   \n",
              "\n",
              "       conformsTo  ...  acceptedTaxonKey  kingdomKey  phylumKey      classKey  \\\n",
              "count         0.0  ...      8.409500e+04     84095.0    84095.0  8.409500e+04   \n",
              "mean          NaN  ...      4.272101e+06         6.0  7707728.0  1.216576e+04   \n",
              "std           NaN  ...      1.850369e+06         0.0        0.0  2.936377e+05   \n",
              "min           NaN  ...      2.382000e+03         6.0  7707728.0  1.940000e+02   \n",
              "25%           NaN  ...      3.013672e+06         6.0  7707728.0  2.200000e+02   \n",
              "50%           NaN  ...      3.172326e+06         6.0  7707728.0  2.200000e+02   \n",
              "75%           NaN  ...      5.354470e+06         6.0  7707728.0  2.200000e+02   \n",
              "max           NaN  ...      1.140075e+07         6.0  7707728.0  7.228684e+06   \n",
              "\n",
              "           orderKey     familyKey      genusKey  subgenusKey    speciesKey  \\\n",
              "count  8.409500e+04  8.409400e+04  8.401600e+04          0.0  8.190900e+04   \n",
              "mean   3.788900e+05  6.945661e+04  3.744964e+06          NaN  4.197946e+06   \n",
              "std    1.607552e+06  5.277301e+05  1.844436e+06          NaN  1.809612e+06   \n",
              "min    3.920000e+02  2.366000e+03  2.650108e+06          NaN  2.650247e+06   \n",
              "25%    6.400000e+02  3.925000e+03  2.960439e+06          NaN  3.013580e+06   \n",
              "50%    6.910000e+02  5.015000e+03  3.013395e+06          NaN  3.152047e+06   \n",
              "75%    1.351000e+03  6.677000e+03  3.172323e+06          NaN  5.334240e+06   \n",
              "max    7.561687e+06  1.041138e+07  1.140075e+07          NaN  1.137903e+07   \n",
              "\n",
              "       relativeOrganismQuantity  \n",
              "count                       0.0  \n",
              "mean                        NaN  \n",
              "std                         NaN  \n",
              "min                         NaN  \n",
              "25%                         NaN  \n",
              "50%                         NaN  \n",
              "75%                         NaN  \n",
              "max                         NaN  \n",
              "\n",
              "[8 rows x 169 columns]"
            ]
          },
          "execution_count": 11,
          "metadata": {},
          "output_type": "execute_result"
        }
      ],
      "source": [
        "df.describe()"
      ]
    },
    {
      "cell_type": "code",
      "execution_count": 12,
      "metadata": {},
      "outputs": [
        {
          "data": {
            "text/plain": [
              "(84095, 258)"
            ]
          },
          "execution_count": 12,
          "metadata": {},
          "output_type": "execute_result"
        }
      ],
      "source": [
        "df.shape"
      ]
    },
    {
      "cell_type": "code",
      "execution_count": 13,
      "metadata": {},
      "outputs": [
        {
          "name": "stdout",
          "output_type": "stream",
          "text": [
            "<class 'pandas.core.frame.DataFrame'>\n",
            "RangeIndex: 84095 entries, 0 to 84094\n",
            "Columns: 258 entries, id to geodeticDatum\n",
            "dtypes: bool(2), float64(161), int64(8), object(87)\n",
            "memory usage: 164.4+ MB\n"
          ]
        }
      ],
      "source": [
        "df.info()"
      ]
    },
    {
      "cell_type": "markdown",
      "metadata": {},
      "source": [
        "## For CSV files"
      ]
    },
    {
      "cell_type": "markdown",
      "metadata": {},
      "source": [
        "### Extract CSV from zip file"
      ]
    },
    {
      "cell_type": "code",
      "execution_count": 9,
      "metadata": {},
      "outputs": [
        {
          "ename": "IndexError",
          "evalue": "list index out of range",
          "output_type": "error",
          "traceback": [
            "\u001b[0;31m---------------------------------------------------------------------------\u001b[0m",
            "\u001b[0;31mIndexError\u001b[0m                                Traceback (most recent call last)",
            "\u001b[1;32m/usr4/dl523/dong760/CS549_Herbarium_Project/ml-herbarium/scraping/dataset/DatasetScraping.ipynb Cell 19\u001b[0m in \u001b[0;36m<cell line: 5>\u001b[0;34m()\u001b[0m\n\u001b[1;32m      <a href='vscode-notebook-cell://ssh-remote%2Bscc1.bu.edu/usr4/dl523/dong760/CS549_Herbarium_Project/ml-herbarium/scraping/dataset/DatasetScraping.ipynb#X24sdnNjb2RlLXJlbW90ZQ%3D%3D?line=2'>3</a>\u001b[0m \u001b[39mwith\u001b[39;00m zipfile\u001b[39m.\u001b[39mZipFile(DATASET_PATH \u001b[39m+\u001b[39m DATASET_ARCHIVE, \u001b[39m\"\u001b[39m\u001b[39mr\u001b[39m\u001b[39m\"\u001b[39m) \u001b[39mas\u001b[39;00m zip_ref:\n\u001b[1;32m      <a href='vscode-notebook-cell://ssh-remote%2Bscc1.bu.edu/usr4/dl523/dong760/CS549_Herbarium_Project/ml-herbarium/scraping/dataset/DatasetScraping.ipynb#X24sdnNjb2RlLXJlbW90ZQ%3D%3D?line=3'>4</a>\u001b[0m     zip_ref\u001b[39m.\u001b[39mextractall(DATASET_PATH)\n\u001b[0;32m----> <a href='vscode-notebook-cell://ssh-remote%2Bscc1.bu.edu/usr4/dl523/dong760/CS549_Herbarium_Project/ml-herbarium/scraping/dataset/DatasetScraping.ipynb#X24sdnNjb2RlLXJlbW90ZQ%3D%3D?line=4'>5</a>\u001b[0m f \u001b[39m=\u001b[39m glob(os\u001b[39m.\u001b[39;49mpath\u001b[39m.\u001b[39;49mjoin(DATASET_PATH, \u001b[39m\"\u001b[39;49m\u001b[39m*-*.csv\u001b[39;49m\u001b[39m\"\u001b[39;49m))[\u001b[39m0\u001b[39;49m]\n\u001b[1;32m      <a href='vscode-notebook-cell://ssh-remote%2Bscc1.bu.edu/usr4/dl523/dong760/CS549_Herbarium_Project/ml-herbarium/scraping/dataset/DatasetScraping.ipynb#X24sdnNjb2RlLXJlbW90ZQ%3D%3D?line=5'>6</a>\u001b[0m os\u001b[39m.\u001b[39mrename(f, DATASET_PATH \u001b[39m+\u001b[39m DATASET_CSV)\n\u001b[1;32m      <a href='vscode-notebook-cell://ssh-remote%2Bscc1.bu.edu/usr4/dl523/dong760/CS549_Herbarium_Project/ml-herbarium/scraping/dataset/DatasetScraping.ipynb#X24sdnNjb2RlLXJlbW90ZQ%3D%3D?line=6'>7</a>\u001b[0m \u001b[39mprint\u001b[39m(\u001b[39m\"\u001b[39m\u001b[39mCSV file extracted\u001b[39m\u001b[39m\"\u001b[39m)\n",
            "\u001b[0;31mIndexError\u001b[0m: list index out of range"
          ]
        }
      ],
      "source": [
        "# Run this only if you don't have csv file, and need to extract from data.zip that you just downloaded\n",
        "if os.path.exists(DATASET_PATH + \"*.csv\"):\n",
        "    os.remove(DATASET_PATH + \"*.csv\")\n",
        "with zipfile.ZipFile(DATASET_PATH + DATASET_ARCHIVE, \"r\") as zip_ref:\n",
        "    zip_ref.extractall(DATASET_PATH)\n",
        "f = glob(os.path.join(DATASET_PATH, \"*-*.csv\"))[0]\n",
        "os.rename(f, DATASET_PATH + DATASET_CSV)\n",
        "print(\"CSV file extracted\")\n"
      ]
    },
    {
      "cell_type": "markdown",
      "metadata": {},
      "source": [
        "### Save CSV Rows to Pandas Dataframe"
      ]
    },
    {
      "cell_type": "code",
      "execution_count": 14,
      "metadata": {},
      "outputs": [
        {
          "name": "stderr",
          "output_type": "stream",
          "text": [
            "/scratch/ipykernel_66000/4273302753.py:1: DtypeWarning: Columns (2,14,16,17,19,21,24,25,26,32,33,34,36,37,38,39,40,41,43,45,46) have mixed types. Specify dtype option on import or set low_memory=False.\n",
            "  df = pandas.read_csv(DATASET_PATH + DATASET_CSV, sep=\"\\t\")\n"
          ]
        }
      ],
      "source": [
        "df = pandas.read_csv(DATASET_PATH + DATASET_CSV, sep=\"\\t\")\n",
        "DATASET_TYPE = \"csv\"\n"
      ]
    },
    {
      "cell_type": "markdown",
      "metadata": {},
      "source": [
        "## Print Pandas Column Names"
      ]
    },
    {
      "cell_type": "code",
      "execution_count": 15,
      "metadata": {},
      "outputs": [
        {
          "name": "stdout",
          "output_type": "stream",
          "text": [
            "['gbifID', 'datasetKey', 'occurrenceID', 'kingdom', 'phylum', 'class', 'order', 'family', 'genus', 'species', 'infraspecificEpithet', 'taxonRank', 'scientificName', 'verbatimScientificName', 'verbatimScientificNameAuthorship', 'countryCode', 'locality', 'stateProvince', 'occurrenceStatus', 'individualCount', 'publishingOrgKey', 'decimalLatitude', 'decimalLongitude', 'coordinateUncertaintyInMeters', 'coordinatePrecision', 'elevation', 'elevationAccuracy', 'depth', 'depthAccuracy', 'eventDate', 'day', 'month', 'year', 'taxonKey', 'speciesKey', 'basisOfRecord', 'institutionCode', 'collectionCode', 'catalogNumber', 'recordNumber', 'identifiedBy', 'dateIdentified', 'license', 'rightsHolder', 'recordedBy', 'typeStatus', 'establishmentMeans', 'lastInterpreted', 'mediaType', 'issue']\n"
          ]
        }
      ],
      "source": [
        "colnames = []\n",
        "for col in df.columns:\n",
        "    colnames.append(col)\n",
        "print(colnames)\n"
      ]
    },
    {
      "cell_type": "markdown",
      "metadata": {
        "id": "YStKKZKkjjyW"
      },
      "source": [
        "## Get Images"
      ]
    },
    {
      "cell_type": "markdown",
      "metadata": {},
      "source": [
        "### Export GBIF Ocurrence IDs"
      ]
    },
    {
      "cell_type": "code",
      "execution_count": 16,
      "metadata": {},
      "outputs": [
        {
          "data": {
            "text/plain": [
              "(7982741, 50)"
            ]
          },
          "execution_count": 16,
          "metadata": {},
          "output_type": "execute_result"
        }
      ],
      "source": [
        "df.shape"
      ]
    },
    {
      "cell_type": "code",
      "execution_count": 17,
      "metadata": {},
      "outputs": [
        {
          "name": "stdout",
          "output_type": "stream",
          "text": [
            "1198 IDs will be scraped.\n",
            "Successfully scraped 1198 IDs.\n"
          ]
        }
      ],
      "source": [
        "data = {}\n",
        "\n",
        "NUMBER_TO_SKIP = math.floor(df.shape[0] / (df.shape[0] * PERCENT_TO_SCRAPE))\n",
        "NUMBER_TO_SCRAPE = math.ceil(df.shape[0] / NUMBER_TO_SKIP)\n",
        "print(str(NUMBER_TO_SCRAPE) + \" IDs will be scraped.\")\n",
        "for i in range(1, df.shape[0], NUMBER_TO_SKIP):\n",
        "    if DATASET_TYPE == \"dwca\":\n",
        "        id = df.at[i, \"id\"]\n",
        "    elif DATASET_TYPE == \"csv\":\n",
        "        id = df.at[i, \"gbifID\"]\n",
        "    data[i] = {\"id\": str(id)}\n",
        "print(\"Successfully scraped \" + str(len(data)) + \" IDs.\")\n"
      ]
    },
    {
      "cell_type": "markdown",
      "metadata": {},
      "source": [
        "### Fetch Image URLs and Specimen Data from GBIF API"
      ]
    },
    {
      "cell_type": "code",
      "execution_count": 20,
      "metadata": {},
      "outputs": [
        {
          "ename": "NameError",
          "evalue": "name 'key' is not defined",
          "output_type": "error",
          "traceback": [
            "\u001b[0;31m---------------------------------------------------------------------------\u001b[0m",
            "\u001b[0;31mNameError\u001b[0m                                 Traceback (most recent call last)",
            "\u001b[1;32m/usr4/dl523/dong760/CS549_Herbarium_Project/ml-herbarium/scraping/dataset/DatasetScraping.ipynb Cell 32\u001b[0m in \u001b[0;36m<cell line: 1>\u001b[0;34m()\u001b[0m\n\u001b[0;32m----> <a href='vscode-notebook-cell://ssh-remote%2Bscc1.bu.edu/usr4/dl523/dong760/CS549_Herbarium_Project/ml-herbarium/scraping/dataset/DatasetScraping.ipynb#X53sdnNjb2RlLXJlbW90ZQ%3D%3D?line=0'>1</a>\u001b[0m rq \u001b[39m=\u001b[39m requests\u001b[39m.\u001b[39mget(\u001b[39m\"\u001b[39m\u001b[39mhttps://api.gbif.org/v1/occurrence/\u001b[39m\u001b[39m\"\u001b[39m \u001b[39m+\u001b[39m \u001b[39mstr\u001b[39m(data[key][\u001b[39m\"\u001b[39m\u001b[39mid\u001b[39m\u001b[39m\"\u001b[39m]))\n",
            "\u001b[0;31mNameError\u001b[0m: name 'key' is not defined"
          ]
        }
      ],
      "source": [
        "rq = requests.get(\"https://api.gbif.org/v1/occurrence/\" + str(data[key][\"id\"]))"
      ]
    },
    {
      "cell_type": "code",
      "execution_count": 19,
      "metadata": {},
      "outputs": [
        {
          "name": "stdout",
          "output_type": "stream",
          "text": [
            "Data will be fetched for 1198 occurrences.\n",
            "Starting multiprocessing...\n"
          ]
        },
        {
          "name": "stderr",
          "output_type": "stream",
          "text": [
            "  0%|          | 0/1198 [00:00<?, ?it/s]"
          ]
        },
        {
          "name": "stdout",
          "output_type": "stream",
          "text": [
            "Fetching data...\n"
          ]
        },
        {
          "name": "stderr",
          "output_type": "stream",
          "text": [
            "\n"
          ]
        },
        {
          "ename": "KeyError",
          "evalue": "'id'",
          "output_type": "error",
          "traceback": [
            "\u001b[0;31m---------------------------------------------------------------------------\u001b[0m",
            "\u001b[0;31mRemoteTraceback\u001b[0m                           Traceback (most recent call last)",
            "\u001b[0;31mRemoteTraceback\u001b[0m: \n\"\"\"\nTraceback (most recent call last):\n  File \"/share/pkg.7/python3/3.8.10/install/lib/python3.8/multiprocessing/pool.py\", line 125, in worker\n    result = (True, func(*args, **kwds))\n  File \"/scratch/ipykernel_66000/4116171735.py\", line 5, in scrape_occurrence\n    rq = requests.get(\"https://api.gbif.org/v1/occurrence/\" + str(data[key][\"id\"]))\nKeyError: 'id'\n\"\"\"",
            "\nThe above exception was the direct cause of the following exception:\n",
            "\u001b[0;31mKeyError\u001b[0m                                  Traceback (most recent call last)",
            "\u001b[1;32m/usr4/dl523/dong760/CS549_Herbarium_Project/ml-herbarium/scraping/dataset/DatasetScraping.ipynb Cell 32\u001b[0m in \u001b[0;36m<cell line: 19>\u001b[0;34m()\u001b[0m\n\u001b[1;32m     <a href='vscode-notebook-cell://ssh-remote%2Bscc1.bu.edu/usr4/dl523/dong760/CS549_Herbarium_Project/ml-herbarium/scraping/dataset/DatasetScraping.ipynb#X36sdnNjb2RlLXJlbW90ZQ%3D%3D?line=16'>17</a>\u001b[0m pool \u001b[39m=\u001b[39m mp\u001b[39m.\u001b[39mPool(NUM_CORES)\n\u001b[1;32m     <a href='vscode-notebook-cell://ssh-remote%2Bscc1.bu.edu/usr4/dl523/dong760/CS549_Herbarium_Project/ml-herbarium/scraping/dataset/DatasetScraping.ipynb#X36sdnNjb2RlLXJlbW90ZQ%3D%3D?line=17'>18</a>\u001b[0m \u001b[39mprint\u001b[39m(\u001b[39m\"\u001b[39m\u001b[39mFetching data...\u001b[39m\u001b[39m\"\u001b[39m)\n\u001b[0;32m---> <a href='vscode-notebook-cell://ssh-remote%2Bscc1.bu.edu/usr4/dl523/dong760/CS549_Herbarium_Project/ml-herbarium/scraping/dataset/DatasetScraping.ipynb#X36sdnNjb2RlLXJlbW90ZQ%3D%3D?line=18'>19</a>\u001b[0m \u001b[39mfor\u001b[39;00m item \u001b[39min\u001b[39;00m tqdm(pool\u001b[39m.\u001b[39mimap(scrape_occurrence, data), total\u001b[39m=\u001b[39m\u001b[39mlen\u001b[39m(data)):\n\u001b[1;32m     <a href='vscode-notebook-cell://ssh-remote%2Bscc1.bu.edu/usr4/dl523/dong760/CS549_Herbarium_Project/ml-herbarium/scraping/dataset/DatasetScraping.ipynb#X36sdnNjb2RlLXJlbW90ZQ%3D%3D?line=19'>20</a>\u001b[0m     data\u001b[39m.\u001b[39mupdate(item)\n\u001b[1;32m     <a href='vscode-notebook-cell://ssh-remote%2Bscc1.bu.edu/usr4/dl523/dong760/CS549_Herbarium_Project/ml-herbarium/scraping/dataset/DatasetScraping.ipynb#X36sdnNjb2RlLXJlbW90ZQ%3D%3D?line=20'>21</a>\u001b[0m pool\u001b[39m.\u001b[39mclose()\n",
            "File \u001b[0;32m/share/pkg.7/tensorflow/2.5.0/install/lib/SCC/../python3.8/site-packages/tqdm/std.py:1178\u001b[0m, in \u001b[0;36mtqdm.__iter__\u001b[0;34m(self)\u001b[0m\n\u001b[1;32m   1175\u001b[0m time \u001b[39m=\u001b[39m \u001b[39mself\u001b[39m\u001b[39m.\u001b[39m_time\n\u001b[1;32m   1177\u001b[0m \u001b[39mtry\u001b[39;00m:\n\u001b[0;32m-> 1178\u001b[0m     \u001b[39mfor\u001b[39;00m obj \u001b[39min\u001b[39;00m iterable:\n\u001b[1;32m   1179\u001b[0m         \u001b[39myield\u001b[39;00m obj\n\u001b[1;32m   1180\u001b[0m         \u001b[39m# Update and possibly print the progressbar.\u001b[39;00m\n\u001b[1;32m   1181\u001b[0m         \u001b[39m# Note: does not call self.update(1) for speed optimisation.\u001b[39;00m\n",
            "File \u001b[0;32m/share/pkg.7/python3/3.8.10/install/lib/python3.8/multiprocessing/pool.py:868\u001b[0m, in \u001b[0;36mIMapIterator.next\u001b[0;34m(self, timeout)\u001b[0m\n\u001b[1;32m    866\u001b[0m \u001b[39mif\u001b[39;00m success:\n\u001b[1;32m    867\u001b[0m     \u001b[39mreturn\u001b[39;00m value\n\u001b[0;32m--> 868\u001b[0m \u001b[39mraise\u001b[39;00m value\n",
            "\u001b[0;31mKeyError\u001b[0m: 'id'"
          ]
        }
      ],
      "source": [
        "print(\"Data will be fetched for\", len(data), \"occurrences.\")\n",
        "\n",
        "\n",
        "def scrape_occurrence(key):\n",
        "    rq = requests.get(\"https://api.gbif.org/v1/occurrence/\" + str(data[key][\"id\"]))\n",
        "    return_dict = {}\n",
        "    return_dict[key] = {}\n",
        "    return_dict[key][\"img_url\"] = json.loads(rq.content)[\"media\"][0][\"identifier\"]\n",
        "    return_dict[key][\"img_type\"] = json.loads(rq.content)[\"media\"][0][\"format\"]\n",
        "    return_dict[key][\"country\"] = json.loads(rq.content)[\"country\"]\n",
        "    return_dict[key][\"genus\"] = json.loads(rq.content)[\"genus\"]\n",
        "    return_dict[key][\"species\"] = json.loads(rq.content)[\"species\"]\n",
        "    return return_dict\n",
        "\n",
        "print(\"Starting multiprocessing...\")\n",
        "pool = mp.Pool(NUM_CORES)\n",
        "print(\"Fetching data...\")\n",
        "for item in tqdm(pool.imap(scrape_occurrence, data), total=len(data)):\n",
        "    data.update(item)\n",
        "pool.close()\n",
        "pool.join()\n",
        "\n",
        "print(\"\\nSuccessfully fetched data for\", len(data), \"occurrences.\")\n"
      ]
    },
    {
      "cell_type": "markdown",
      "metadata": {},
      "source": [
        "### Download Images"
      ]
    },
    {
      "cell_type": "code",
      "execution_count": 427,
      "metadata": {},
      "outputs": [
        {
          "name": "stdout",
          "output_type": "stream",
          "text": [
            "Starting multiprocessing...\n",
            "Downloading images...\n"
          ]
        },
        {
          "name": "stderr",
          "output_type": "stream",
          "text": [
            "100%|██████████| 1198/1198 [00:22<00:00, 54.02it/s]\n"
          ]
        }
      ],
      "source": [
        "def download_images(key):\n",
        "    img = requests.get(data[key][\"img_url\"], stream=True)\n",
        "    with open(\n",
        "        OUTPUT_PATH + str(key) + \".\" + data[1][\"img_type\"].split(\"/\", 1)[1], \"wb\"\n",
        "    ) as f:\n",
        "        shutil.copyfileobj(img.raw, f)\n",
        "\n",
        "\n",
        "if not os.path.exists(OUTPUT_PATH):\n",
        "    os.makedirs(OUTPUT_PATH)\n",
        "\n",
        "print(\"Starting multiprocessing...\")\n",
        "pool = mp.Pool(NUM_CORES)\n",
        "print(\"Downloading images...\")\n",
        "for _ in tqdm(pool.imap(download_images, data), total=len(data)):\n",
        "    pass\n",
        "pool.close()\n"
      ]
    },
    {
      "cell_type": "markdown",
      "metadata": {},
      "source": [
        "### Export Geograpy Data"
      ]
    },
    {
      "cell_type": "code",
      "execution_count": 428,
      "metadata": {},
      "outputs": [
        {
          "name": "stdout",
          "output_type": "stream",
          "text": [
            "\n",
            "Successfully wrote countries to file.\n"
          ]
        }
      ],
      "source": [
        "with open(OUTPUT_PATH + \"countries.txt\", \"w\") as f:\n",
        "    for idx in data:\n",
        "        f.write(data[idx][\"country\"] + \"\\n\")\n",
        "print(\"\\nSuccessfully wrote countries to file.\")\n"
      ]
    },
    {
      "cell_type": "markdown",
      "metadata": {},
      "source": [
        "### Export Taxon Data"
      ]
    },
    {
      "cell_type": "code",
      "execution_count": 429,
      "metadata": {},
      "outputs": [
        {
          "name": "stdout",
          "output_type": "stream",
          "text": [
            "\n",
            "Successfully wrote taxon to file.\n"
          ]
        }
      ],
      "source": [
        "with open(OUTPUT_PATH + \"taxon.txt\", \"w\") as f:\n",
        "    for idx in data:\n",
        "        f.write(data[idx][\"genus\"] + \" \" + data[idx][\"species\"] + \"\\n\")\n",
        "print(\"\\nSuccessfully wrote taxon to file.\")\n"
      ]
    }
  ],
  "metadata": {
    "colab": {
      "collapsed_sections": [],
      "name": "DatasetScraping.ipynb",
      "provenance": []
    },
    "kernelspec": {
      "display_name": "Python 3.8.10 ('.env': venv)",
      "language": "python",
      "name": "python3"
    },
    "language_info": {
      "codemirror_mode": {
        "name": "ipython",
        "version": 3
      },
      "file_extension": ".py",
      "mimetype": "text/x-python",
      "name": "python",
      "nbconvert_exporter": "python",
      "pygments_lexer": "ipython3",
      "version": "3.8.10"
    },
    "vscode": {
      "interpreter": {
        "hash": "14769a81ec23306709d2228f2f537195f973344c7e4c559f0a95ff45ddbc8f21"
      }
    }
  },
  "nbformat": 4,
  "nbformat_minor": 0
}
