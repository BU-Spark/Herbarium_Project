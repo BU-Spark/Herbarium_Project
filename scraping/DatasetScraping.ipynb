{
  "cells": [
    {
      "cell_type": "markdown",
      "metadata": {
        "id": "OZTvvxKTKvFx"
      },
      "source": [
        "# Dataset Scraping"
      ]
    },
    {
      "cell_type": "markdown",
      "metadata": {
        "id": "hCLIuKlvMZEF"
      },
      "source": [
        "## Imports"
      ]
    },
    {
      "cell_type": "code",
      "execution_count": null,
      "metadata": {
        "colab": {
          "base_uri": "https://localhost:8080/"
        },
        "id": "S5Se2NzPMmdJ",
        "outputId": "f0b9f644-4d21-4c62-fe3c-6bfb17b84964"
      },
      "outputs": [
        {
          "name": "stdout",
          "output_type": "stream",
          "text": [
            "Collecting python-dwca-reader\n",
            "  Downloading python_dwca_reader-0.15.0-py3-none-any.whl (37 kB)\n",
            "Installing collected packages: python-dwca-reader\n",
            "Successfully installed python-dwca-reader-0.15.0\n"
          ]
        }
      ],
      "source": [
        "! pip install python-dwca-reader"
      ]
    },
    {
      "cell_type": "code",
      "execution_count": null,
      "metadata": {
        "id": "AsJd5HlHNRUH"
      },
      "outputs": [],
      "source": [
        "from dwca.read import DwCAReader\n",
        "from dwca.darwincore.utils import qualname as qn\n",
        "import requests\n",
        "import shutil"
      ]
    },
    {
      "cell_type": "markdown",
      "metadata": {
        "id": "PUl1OcBR3Kfu"
      },
      "source": [
        "## Globals"
      ]
    },
    {
      "cell_type": "code",
      "execution_count": null,
      "metadata": {
        "id": "VULrSpbU3PZX"
      },
      "outputs": [],
      "source": [
        "NUMBER_TO_SCRAPE = 10\n",
        "DATASET_PATH = '/projectnb/sparkgrp/ml-herbarium-data/data.zip'\n",
        "OUTPUT_PATH = '/projectnb/sparkgrp/ml-herbarium-data/scraped-data/'"
      ]
    },
    {
      "cell_type": "markdown",
      "metadata": {
        "id": "NADoCYI32QMb"
      },
      "source": [
        "## Mount Google Drive\n",
        "**Ignore unless running on Google Colab**"
      ]
    },
    {
      "cell_type": "code",
      "execution_count": null,
      "metadata": {
        "colab": {
          "base_uri": "https://localhost:8080/"
        },
        "id": "O2tI8eeK2PXH",
        "outputId": "d4f9a080-d457-4eaf-a790-bd45fdfda295"
      },
      "outputs": [
        {
          "name": "stdout",
          "output_type": "stream",
          "text": [
            "Mounted at /content/drive\n"
          ]
        }
      ],
      "source": [
        "from google.colab import drive\n",
        "drive.mount('/content/drive') "
      ]
    },
    {
      "cell_type": "markdown",
      "metadata": {
        "id": "zM3ZY6mUK1fG"
      },
      "source": [
        "## Open DWCA File"
      ]
    },
    {
      "cell_type": "code",
      "execution_count": null,
      "metadata": {
        "id": "mUo2pWfBMUCq"
      },
      "outputs": [],
      "source": [
        "dwca = DwCAReader(DATASET_PATH)"
      ]
    },
    {
      "cell_type": "markdown",
      "metadata": {
        "id": "c-0PwbMjWVR8"
      },
      "source": [
        "## Test DWCA"
      ]
    },
    {
      "cell_type": "code",
      "execution_count": null,
      "metadata": {
        "colab": {
          "base_uri": "https://localhost:8080/"
        },
        "id": "AI63ypo6WUgd",
        "outputId": "a8d75915-f9b7-4166-afe7-2c46873e54f0"
      },
      "outputs": [
        {
          "name": "stdout",
          "output_type": "stream",
          "text": [
            "--\n",
            "Rowtype: http://rs.tdwg.org/dwc/terms/Occurrence\n",
            "Position: 0\n",
            "Source: Core file\n",
            "Row id: 3703067559\n",
            "Reference extension rows: Yes\n",
            "Reference source metadata: No\n",
            "Data: {'http://rs.tdwg.org/dwc/terms/geodeticDatum': 'WGS84', 'http://rs.gbif.org/terms/1.0/gbifID': '3703067559', 'http://purl.org/dc/terms/abstract': '', 'http://purl.org/dc/terms/accessRights': 'https://huh.harvard.edu/access-digital-reproductions-works-public-domain', 'http://purl.org/dc/terms/accrualMethod': '', 'http://purl.org/dc/terms/accrualPeriodicity': '', 'http://purl.org/dc/terms/accrualPolicy': '', 'http://purl.org/dc/terms/alternative': '', 'http://purl.org/dc/terms/audience': '', 'http://purl.org/dc/terms/available': '', 'http://purl.org/dc/terms/bibliographicCitation': '', 'http://purl.org/dc/terms/conformsTo': '', 'http://purl.org/dc/terms/contributor': '', 'http://purl.org/dc/terms/coverage': '', 'http://purl.org/dc/terms/created': '', 'http://purl.org/dc/terms/creator': '', 'http://purl.org/dc/terms/date': '', 'http://purl.org/dc/terms/dateAccepted': '', 'http://purl.org/dc/terms/dateCopyrighted': '', 'http://purl.org/dc/terms/dateSubmitted': '', 'http://purl.org/dc/terms/description': '', 'http://purl.org/dc/terms/educationLevel': '', 'http://purl.org/dc/terms/extent': '', 'http://purl.org/dc/terms/format': '', 'http://purl.org/dc/terms/hasFormat': '', 'http://purl.org/dc/terms/hasPart': '', 'http://purl.org/dc/terms/hasVersion': '', 'http://purl.org/dc/terms/identifier': 'f47b331a-4fbf-417d-b862-28676472f5cc', 'http://purl.org/dc/terms/instructionalMethod': '', 'http://purl.org/dc/terms/isFormatOf': '', 'http://purl.org/dc/terms/isPartOf': '', 'http://purl.org/dc/terms/isReferencedBy': '', 'http://purl.org/dc/terms/isReplacedBy': '', 'http://purl.org/dc/terms/isRequiredBy': '', 'http://purl.org/dc/terms/isVersionOf': '', 'http://purl.org/dc/terms/issued': '', 'http://purl.org/dc/terms/language': 'en', 'http://purl.org/dc/terms/license': 'CC_BY_4_0', 'http://purl.org/dc/terms/mediator': '', 'http://purl.org/dc/terms/medium': '', 'http://purl.org/dc/terms/modified': '2022-03-08T14:30:11Z', 'http://purl.org/dc/terms/provenance': '', 'http://purl.org/dc/terms/publisher': '', 'http://purl.org/dc/terms/references': 'http://data.huh.harvard.edu/f47b331a-4fbf-417d-b862-28676472f5cc/image', 'http://purl.org/dc/terms/relation': '', 'http://purl.org/dc/terms/replaces': '', 'http://purl.org/dc/terms/requires': '', 'http://purl.org/dc/terms/rights': '', 'http://purl.org/dc/terms/rightsHolder': 'President and Fellows of Harvard College', 'http://purl.org/dc/terms/source': '', 'http://purl.org/dc/terms/spatial': '', 'http://purl.org/dc/terms/subject': '', 'http://purl.org/dc/terms/tableOfContents': '', 'http://purl.org/dc/terms/temporal': '', 'http://purl.org/dc/terms/title': '', 'http://purl.org/dc/terms/type': 'http://purl.org/dc/dcmitype/PhysicalObject', 'http://purl.org/dc/terms/valid': '', 'http://rs.tdwg.org/dwc/terms/institutionID': 'urn:lsid:biocol.org:col:15406', 'http://rs.tdwg.org/dwc/terms/collectionID': 'urn:lsid:biocol.org:col:15406', 'http://rs.tdwg.org/dwc/terms/datasetID': '', 'http://rs.tdwg.org/dwc/terms/institutionCode': 'A', 'http://rs.tdwg.org/dwc/terms/collectionCode': 'A', 'http://rs.tdwg.org/dwc/terms/datasetName': 'Harvard University Herbaria: All Records', 'http://rs.tdwg.org/dwc/terms/ownerInstitutionCode': '', 'http://rs.tdwg.org/dwc/terms/basisOfRecord': 'PRESERVED_SPECIMEN', 'http://rs.tdwg.org/dwc/terms/informationWithheld': '', 'http://rs.tdwg.org/dwc/terms/dataGeneralizations': '', 'http://rs.tdwg.org/dwc/terms/dynamicProperties': '\"{\"\"huh_taxonomic_group\"\": \"\"Vascular\"\", \"\"huh_project_id\"\": 7, \"\"huh_project_name\"\": \"\"US and Canada - Mass Digitization\"\"}\"', 'http://rs.tdwg.org/dwc/terms/occurrenceID': 'f47b331a-4fbf-417d-b862-28676472f5cc', 'http://rs.tdwg.org/dwc/terms/catalogNumber': 'barcode-01782137', 'http://rs.tdwg.org/dwc/terms/recordNumber': '43813', 'http://rs.tdwg.org/dwc/terms/recordedBy': 'D. E. Boufford, M. J. Donoghue, Zelong Nie, P. W. Sweeney & Daigui Zhang', 'http://rs.tdwg.org/dwc/terms/recordedByID': '', 'http://rs.tdwg.org/dwc/terms/individualCount': '', 'http://rs.tdwg.org/dwc/terms/organismQuantity': '', 'http://rs.tdwg.org/dwc/terms/organismQuantityType': '', 'http://rs.tdwg.org/dwc/terms/sex': '', 'http://rs.tdwg.org/dwc/terms/lifeStage': '', 'http://rs.tdwg.org/dwc/terms/reproductiveCondition': 'NotDetermined', 'http://rs.tdwg.org/dwc/terms/behavior': '', 'http://rs.tdwg.org/dwc/terms/establishmentMeans': '', 'http://rs.tdwg.org/dwc/terms/degreeOfEstablishment': '', 'http://rs.tdwg.org/dwc/terms/pathway': '', 'http://rs.tdwg.org/dwc/terms/georeferenceVerificationStatus': '', 'http://rs.tdwg.org/dwc/terms/occurrenceStatus': 'PRESENT', 'http://rs.tdwg.org/dwc/terms/preparations': 'Sheet', 'http://rs.tdwg.org/dwc/terms/disposition': 'in collection', 'http://rs.tdwg.org/dwc/terms/associatedOccurrences': '', 'http://rs.tdwg.org/dwc/terms/associatedReferences': '', 'http://rs.tdwg.org/dwc/terms/associatedSequences': '', 'http://rs.tdwg.org/dwc/terms/associatedTaxa': '', 'http://rs.tdwg.org/dwc/terms/otherCatalogNumbers': '', 'http://rs.tdwg.org/dwc/terms/occurrenceRemarks': '', 'http://rs.tdwg.org/dwc/terms/organismID': '', 'http://rs.tdwg.org/dwc/terms/organismName': '', 'http://rs.tdwg.org/dwc/terms/organismScope': '', 'http://rs.tdwg.org/dwc/terms/associatedOrganisms': '', 'http://rs.tdwg.org/dwc/terms/previousIdentifications': '', 'http://rs.tdwg.org/dwc/terms/organismRemarks': '', 'http://rs.tdwg.org/dwc/terms/materialSampleID': '', 'http://rs.tdwg.org/dwc/terms/eventID': '', 'http://rs.tdwg.org/dwc/terms/parentEventID': '', 'http://rs.tdwg.org/dwc/terms/fieldNumber': '43813', 'http://rs.tdwg.org/dwc/terms/eventDate': '2014-08-16T00:00:00', 'http://rs.tdwg.org/dwc/terms/eventTime': '', 'http://rs.tdwg.org/dwc/terms/startDayOfYear': '', 'http://rs.tdwg.org/dwc/terms/endDayOfYear': '', 'http://rs.tdwg.org/dwc/terms/year': '2014', 'http://rs.tdwg.org/dwc/terms/month': '8', 'http://rs.tdwg.org/dwc/terms/day': '16', 'http://rs.tdwg.org/dwc/terms/verbatimEventDate': '', 'http://rs.tdwg.org/dwc/terms/habitat': '', 'http://rs.tdwg.org/dwc/terms/samplingProtocol': '', 'http://rs.tdwg.org/dwc/terms/sampleSizeValue': '', 'http://rs.tdwg.org/dwc/terms/sampleSizeUnit': '', 'http://rs.tdwg.org/dwc/terms/samplingEffort': '', 'http://rs.tdwg.org/dwc/terms/fieldNotes': '', 'http://rs.tdwg.org/dwc/terms/eventRemarks': '', 'http://rs.tdwg.org/dwc/terms/locationID': '', 'http://rs.tdwg.org/dwc/terms/higherGeographyID': '', 'http://rs.tdwg.org/dwc/terms/higherGeography': 'Asia;China;Hubei;Shennongjia;', 'http://rs.tdwg.org/dwc/terms/continent': 'ASIA', 'http://rs.tdwg.org/dwc/terms/waterBody': '', 'http://rs.tdwg.org/dwc/terms/islandGroup': '', 'http://rs.tdwg.org/dwc/terms/island': '', 'http://rs.tdwg.org/dwc/terms/countryCode': 'CN', 'http://rs.tdwg.org/dwc/terms/stateProvince': 'Hubei', 'http://rs.tdwg.org/dwc/terms/county': 'Shennongjia', 'http://rs.tdwg.org/dwc/terms/municipality': '', 'http://rs.tdwg.org/dwc/terms/locality': '[data not captured]', 'http://rs.tdwg.org/dwc/terms/verbatimLocality': '[data not captured]', 'http://rs.tdwg.org/dwc/terms/verbatimElevation': '', 'http://rs.tdwg.org/dwc/terms/verticalDatum': '', 'http://rs.tdwg.org/dwc/terms/verbatimDepth': '', 'http://rs.tdwg.org/dwc/terms/minimumDistanceAboveSurfaceInMeters': '', 'http://rs.tdwg.org/dwc/terms/maximumDistanceAboveSurfaceInMeters': '', 'http://rs.tdwg.org/dwc/terms/locationAccordingTo': '', 'http://rs.tdwg.org/dwc/terms/locationRemarks': '', 'http://rs.tdwg.org/dwc/terms/decimalLatitude': '', 'http://rs.tdwg.org/dwc/terms/decimalLongitude': '', 'http://rs.tdwg.org/dwc/terms/coordinateUncertaintyInMeters': '', 'http://rs.tdwg.org/dwc/terms/coordinatePrecision': '', 'http://rs.tdwg.org/dwc/terms/pointRadiusSpatialFit': '', 'http://rs.tdwg.org/dwc/terms/verbatimCoordinateSystem': '', 'http://rs.tdwg.org/dwc/terms/verbatimSRS': '', 'http://rs.tdwg.org/dwc/terms/footprintWKT': '', 'http://rs.tdwg.org/dwc/terms/footprintSRS': '', 'http://rs.tdwg.org/dwc/terms/footprintSpatialFit': '', 'http://rs.tdwg.org/dwc/terms/georeferencedBy': '', 'http://rs.tdwg.org/dwc/terms/georeferencedDate': '', 'http://rs.tdwg.org/dwc/terms/georeferenceProtocol': '', 'http://rs.tdwg.org/dwc/terms/georeferenceSources': '', 'http://rs.tdwg.org/dwc/terms/georeferenceRemarks': '', 'http://rs.tdwg.org/dwc/terms/geologicalContextID': '', 'http://rs.tdwg.org/dwc/terms/earliestEonOrLowestEonothem': '', 'http://rs.tdwg.org/dwc/terms/latestEonOrHighestEonothem': '', 'http://rs.tdwg.org/dwc/terms/earliestEraOrLowestErathem': '', 'http://rs.tdwg.org/dwc/terms/latestEraOrHighestErathem': '', 'http://rs.tdwg.org/dwc/terms/earliestPeriodOrLowestSystem': '', 'http://rs.tdwg.org/dwc/terms/latestPeriodOrHighestSystem': '', 'http://rs.tdwg.org/dwc/terms/earliestEpochOrLowestSeries': '', 'http://rs.tdwg.org/dwc/terms/latestEpochOrHighestSeries': '', 'http://rs.tdwg.org/dwc/terms/earliestAgeOrLowestStage': '', 'http://rs.tdwg.org/dwc/terms/latestAgeOrHighestStage': '', 'http://rs.tdwg.org/dwc/terms/lowestBiostratigraphicZone': '', 'http://rs.tdwg.org/dwc/terms/highestBiostratigraphicZone': '', 'http://rs.tdwg.org/dwc/terms/lithostratigraphicTerms': '', 'http://rs.tdwg.org/dwc/terms/group': '', 'http://rs.tdwg.org/dwc/terms/formation': '', 'http://rs.tdwg.org/dwc/terms/member': '', 'http://rs.tdwg.org/dwc/terms/bed': '', 'http://rs.tdwg.org/dwc/terms/identificationID': '', 'http://rs.tdwg.org/dwc/terms/verbatimIdentification': '', 'http://rs.tdwg.org/dwc/terms/identificationQualifier': '', 'http://rs.tdwg.org/dwc/terms/typeStatus': '', 'http://rs.tdwg.org/dwc/terms/identifiedBy': '', 'http://rs.tdwg.org/dwc/terms/identifiedByID': '', 'http://rs.tdwg.org/dwc/terms/dateIdentified': '', 'http://rs.tdwg.org/dwc/terms/identificationReferences': '', 'http://rs.tdwg.org/dwc/terms/identificationVerificationStatus': '', 'http://rs.tdwg.org/dwc/terms/identificationRemarks': '', 'http://rs.tdwg.org/dwc/terms/taxonID': '', 'http://rs.tdwg.org/dwc/terms/scientificNameID': '', 'http://rs.tdwg.org/dwc/terms/acceptedNameUsageID': '', 'http://rs.tdwg.org/dwc/terms/parentNameUsageID': '', 'http://rs.tdwg.org/dwc/terms/originalNameUsageID': '', 'http://rs.tdwg.org/dwc/terms/nameAccordingToID': '', 'http://rs.tdwg.org/dwc/terms/namePublishedInID': '', 'http://rs.tdwg.org/dwc/terms/taxonConceptID': '', 'http://rs.tdwg.org/dwc/terms/scientificName': 'Geranium rosthornii R.Knuth', 'http://rs.tdwg.org/dwc/terms/acceptedNameUsage': '', 'http://rs.tdwg.org/dwc/terms/parentNameUsage': '', 'http://rs.tdwg.org/dwc/terms/originalNameUsage': '', 'http://rs.tdwg.org/dwc/terms/nameAccordingTo': '', 'http://rs.tdwg.org/dwc/terms/namePublishedIn': '', 'http://rs.tdwg.org/dwc/terms/namePublishedInYear': '', 'http://rs.tdwg.org/dwc/terms/higherClassification': '', 'http://rs.tdwg.org/dwc/terms/kingdom': 'Plantae', 'http://rs.tdwg.org/dwc/terms/phylum': 'Tracheophyta', 'http://rs.tdwg.org/dwc/terms/class': 'Magnoliopsida', 'http://rs.tdwg.org/dwc/terms/order': 'Geraniales', 'http://rs.tdwg.org/dwc/terms/family': 'Geraniaceae', 'http://rs.tdwg.org/dwc/terms/subfamily': '', 'http://rs.tdwg.org/dwc/terms/genus': 'Geranium', 'http://rs.tdwg.org/dwc/terms/genericName': 'Geranium', 'http://rs.tdwg.org/dwc/terms/subgenus': '', 'http://rs.tdwg.org/dwc/terms/infragenericEpithet': '', 'http://rs.tdwg.org/dwc/terms/specificEpithet': 'rosthornii', 'http://rs.tdwg.org/dwc/terms/infraspecificEpithet': '', 'http://rs.tdwg.org/dwc/terms/cultivarEpithet': '', 'http://rs.tdwg.org/dwc/terms/taxonRank': 'SPECIES', 'http://rs.tdwg.org/dwc/terms/verbatimTaxonRank': '', 'http://rs.tdwg.org/dwc/terms/vernacularName': '', 'http://rs.tdwg.org/dwc/terms/nomenclaturalCode': '', 'http://rs.tdwg.org/dwc/terms/taxonomicStatus': 'ACCEPTED', 'http://rs.tdwg.org/dwc/terms/nomenclaturalStatus': '', 'http://rs.tdwg.org/dwc/terms/taxonRemarks': '', 'http://rs.gbif.org/terms/1.0/datasetKey': '861e6afe-f762-11e1-a439-00145eb45e9a', 'http://rs.gbif.org/terms/1.0/publishingCountry': 'US', 'http://rs.gbif.org/terms/1.0/lastInterpreted': '2022-03-12T23:42:01.748Z', 'http://rs.gbif.org/terms/1.0/elevation': '', 'http://rs.gbif.org/terms/1.0/elevationAccuracy': '', 'http://rs.gbif.org/terms/1.0/depth': '', 'http://rs.gbif.org/terms/1.0/depthAccuracy': '', 'http://rs.gbif.org/terms/1.0/distanceAboveSurface': '', 'http://rs.gbif.org/terms/1.0/distanceAboveSurfaceAccuracy': '', 'http://rs.gbif.org/terms/1.0/issue': 'COLLECTION_MATCH_FUZZY', 'http://rs.gbif.org/terms/1.0/mediaType': 'StillImage', 'http://rs.gbif.org/terms/1.0/hasCoordinate': 'false', 'http://rs.gbif.org/terms/1.0/hasGeospatialIssues': 'false', 'http://rs.gbif.org/terms/1.0/taxonKey': '2890175', 'http://rs.gbif.org/terms/1.0/acceptedTaxonKey': '2890175', 'http://rs.gbif.org/terms/1.0/kingdomKey': '6', 'http://rs.gbif.org/terms/1.0/phylumKey': '7707728', 'http://rs.gbif.org/terms/1.0/classKey': '220', 'http://rs.gbif.org/terms/1.0/orderKey': '624', 'http://rs.gbif.org/terms/1.0/familyKey': '4676', 'http://rs.gbif.org/terms/1.0/genusKey': '2889949', 'http://rs.gbif.org/terms/1.0/subgenusKey': '', 'http://rs.gbif.org/terms/1.0/speciesKey': '2890175', 'http://rs.gbif.org/terms/1.0/species': 'Geranium rosthornii', 'http://rs.gbif.org/terms/1.0/acceptedScientificName': 'Geranium rosthornii R.Knuth', 'http://rs.gbif.org/terms/1.0/verbatimScientificName': 'Geranium rosthornii R. Knuth', 'http://rs.gbif.org/terms/1.0/typifiedName': '', 'http://rs.gbif.org/terms/1.0/protocol': 'DWC_ARCHIVE', 'http://rs.gbif.org/terms/1.0/lastParsed': '2022-03-12T23:42:01.748Z', 'http://rs.gbif.org/terms/1.0/lastCrawled': '2022-03-12T23:13:50.062Z', 'http://rs.gbif.org/terms/1.0/repatriated': 'true', 'http://rs.gbif.org/terms/1.0/relativeOrganismQuantity': '', 'http://rs.gbif.org/terms/gadm/3.0/level0Gid': '', 'http://rs.gbif.org/terms/gadm/3.0/level0Name': '', 'http://rs.gbif.org/terms/gadm/3.0/level1Gid': '', 'http://rs.gbif.org/terms/gadm/3.0/level1Name': '', 'http://rs.gbif.org/terms/gadm/3.0/level2Gid': '', 'http://rs.gbif.org/terms/gadm/3.0/level2Name': '', 'http://rs.gbif.org/terms/gadm/3.0/level3Gid': '', 'http://rs.gbif.org/terms/gadm/3.0/level3Name': '', 'http://iucn.org/terms/iucnRedListCategory': 'NE'}\n",
            "--\n",
            "\n"
          ]
        }
      ],
      "source": [
        "print(dwca.get_corerow_by_position(0))"
      ]
    },
    {
      "cell_type": "markdown",
      "metadata": {
        "id": "f_fmenuIx0_I"
      },
      "source": [
        "## Save Rows to Variable"
      ]
    },
    {
      "cell_type": "code",
      "execution_count": null,
      "metadata": {
        "id": "J4XGVmeRx0_K"
      },
      "outputs": [],
      "source": [
        "rows = dwca.rows"
      ]
    },
    {
      "cell_type": "markdown",
      "metadata": {
        "id": "YStKKZKkjjyW"
      },
      "source": [
        "## Export Images to Google Drive"
      ]
    },
    {
      "cell_type": "code",
      "execution_count": null,
      "metadata": {
        "colab": {
          "base_uri": "https://localhost:8080/"
        },
        "id": "fx7wpaepjnNl",
        "outputId": "331e8750-f843-476f-8ae2-256f63cfce16"
      },
      "outputs": [
        {
          "name": "stdout",
          "output_type": "stream",
          "text": [
            "Image sucessfully Downloaded:  0.jpg\n",
            "No image in row: 1\n",
            "No image in row: 2\n",
            "Image sucessfully Downloaded:  3.jpg\n",
            "No image in row: 4\n",
            "No image in row: 5\n",
            "Image sucessfully Downloaded:  6.jpg\n",
            "No image in row: 7\n",
            "Image sucessfully Downloaded:  8.jpg\n",
            "No image in row: 9\n",
            "No image in row: 10\n",
            "No image in row: 11\n",
            "Image sucessfully Downloaded:  12.jpg\n",
            "No image in row: 13\n",
            "Image sucessfully Downloaded:  14.jpg\n",
            "Image sucessfully Downloaded:  15.jpg\n",
            "No image in row: 16\n",
            "No image in row: 17\n",
            "No image in row: 18\n",
            "No image in row: 19\n",
            "No image in row: 20\n",
            "Image sucessfully Downloaded:  21.jpg\n",
            "No image in row: 22\n",
            "Image sucessfully Downloaded:  23.jpg\n",
            "Image sucessfully Downloaded:  24.jpg\n"
          ]
        }
      ],
      "source": [
        "successIdxs = []\n",
        "i = 0\n",
        "while len(successIdxs) < NUMBER_TO_SCRAPE:\n",
        "  url = rows[i].data['http://purl.org/dc/terms/references']\n",
        "  if url != \"\":\n",
        "    img_data = requests.get(url, stream = True)\n",
        "    if img_data.status_code == 200:\n",
        "      img_data.raw.decode_content = True\n",
        "      fname = (str(i)+\".jpg\")\n",
        "      with open(fname,'wb') as f:\n",
        "        shutil.copyfileobj(img_data.raw, f)\n",
        "      !mv $fname $OUTPUT_PATH/$fname\n",
        "      successIdxs.append(i)\n",
        "      print('Image sucessfully Downloaded: ',fname)\n",
        "  else:\n",
        "      print('No image in row: '+str(i))\n",
        "  i+=1"
      ]
    },
    {
      "cell_type": "markdown",
      "metadata": {
        "id": "S605e3VsZeIg"
      },
      "source": [
        "## Iterate Through Location Data & Save to .txt"
      ]
    },
    {
      "cell_type": "code",
      "execution_count": null,
      "metadata": {
        "colab": {
          "base_uri": "https://localhost:8080/"
        },
        "id": "I4l3JeBUWpkK",
        "outputId": "102f6adf-c528-4573-a98e-797feebf0213"
      },
      "outputs": [
        {
          "name": "stdout",
          "output_type": "stream",
          "text": [
            "['China', 'China', 'China', 'China', 'China', 'China', 'China', 'China', 'China', 'China']\n"
          ]
        }
      ],
      "source": [
        "list_countries = [] \n",
        "\n",
        "for x in successIdxs:\n",
        "    #print(rows[x])\n",
        "    #print(rows[x].data)\n",
        "    #print(\"Location Data: \"+rows[x].data[\"http://rs.tdwg.org/dwc/terms/higherGeography\"])\n",
        "    list_countries.append(str(\"Location Data: \"+rows[x].data[\"http://rs.tdwg.org/dwc/terms/higherGeography\"]).split(\";\")[1])\n",
        "\n",
        "\n",
        "\"\"\"\n",
        "rows = dwca.rows\n",
        "#print(rows[0])\n",
        "#print(rows[0].data)\n",
        "str(\"Location Data: \"+rows[0].data[\"http://rs.tdwg.org/dwc/terms/higherGeography\"]).split(\";\")[1]\n",
        "\"\"\"\n",
        "\n",
        "print(list_countries)"
      ]
    },
    {
      "cell_type": "code",
      "execution_count": null,
      "metadata": {
        "id": "DGXqH1jcnVCm"
      },
      "outputs": [],
      "source": [
        "with open('listcountries.txt', 'w') as filehandle:\n",
        "    for listitem in list_countries:\n",
        "        filehandle.write('%s\\n' % listitem)\n",
        "    # !mv listcountries.txt $OUTPUT_PATH/_listcountries.txt\n"
      ]
    },
    {
      "cell_type": "markdown",
      "metadata": {
        "id": "P3UvVB5Oahgc"
      },
      "source": [
        "## Close the archive to free resources\n"
      ]
    },
    {
      "cell_type": "code",
      "execution_count": null,
      "metadata": {
        "colab": {
          "base_uri": "https://localhost:8080/",
          "height": 307
        },
        "id": "VevtWlmRajVo",
        "outputId": "57b4760f-7d08-4495-fd93-ae667d6edb6e"
      },
      "outputs": [
        {
          "ename": "FileNotFoundError",
          "evalue": "ignored",
          "output_type": "error",
          "traceback": [
            "\u001b[0;31m---------------------------------------------------------------------------\u001b[0m",
            "\u001b[0;31mFileNotFoundError\u001b[0m                         Traceback (most recent call last)",
            "\u001b[0;32m<ipython-input-43-feb89d453b91>\u001b[0m in \u001b[0;36m<module>\u001b[0;34m()\u001b[0m\n\u001b[0;32m----> 1\u001b[0;31m \u001b[0mdwca\u001b[0m\u001b[0;34m.\u001b[0m\u001b[0mclose\u001b[0m\u001b[0;34m(\u001b[0m\u001b[0;34m)\u001b[0m\u001b[0;34m\u001b[0m\u001b[0;34m\u001b[0m\u001b[0m\n\u001b[0m",
            "\u001b[0;32m/usr/local/lib/python3.7/dist-packages/dwca/read.py\u001b[0m in \u001b[0;36mclose\u001b[0;34m(self)\u001b[0m\n\u001b[1;32m    463\u001b[0m \u001b[0;34m\u001b[0m\u001b[0m\n\u001b[1;32m    464\u001b[0m         \u001b[0;32mif\u001b[0m \u001b[0mself\u001b[0m\u001b[0;34m.\u001b[0m\u001b[0m_directory_to_clean\u001b[0m\u001b[0;34m:\u001b[0m\u001b[0;34m\u001b[0m\u001b[0;34m\u001b[0m\u001b[0m\n\u001b[0;32m--> 465\u001b[0;31m             \u001b[0mrmtree\u001b[0m\u001b[0;34m(\u001b[0m\u001b[0mself\u001b[0m\u001b[0;34m.\u001b[0m\u001b[0m_directory_to_clean\u001b[0m\u001b[0;34m,\u001b[0m \u001b[0;32mFalse\u001b[0m\u001b[0;34m)\u001b[0m\u001b[0;34m\u001b[0m\u001b[0;34m\u001b[0m\u001b[0m\n\u001b[0m\u001b[1;32m    466\u001b[0m \u001b[0;34m\u001b[0m\u001b[0m\n\u001b[1;32m    467\u001b[0m     \u001b[0;32mdef\u001b[0m \u001b[0mcore_contains_term\u001b[0m\u001b[0;34m(\u001b[0m\u001b[0mself\u001b[0m\u001b[0;34m,\u001b[0m \u001b[0mterm_url\u001b[0m\u001b[0;34m:\u001b[0m \u001b[0mstr\u001b[0m\u001b[0;34m)\u001b[0m \u001b[0;34m->\u001b[0m \u001b[0mbool\u001b[0m\u001b[0;34m:\u001b[0m\u001b[0;34m\u001b[0m\u001b[0;34m\u001b[0m\u001b[0m\n",
            "\u001b[0;32m/usr/lib/python3.7/shutil.py\u001b[0m in \u001b[0;36mrmtree\u001b[0;34m(path, ignore_errors, onerror)\u001b[0m\n\u001b[1;32m    483\u001b[0m             \u001b[0morig_st\u001b[0m \u001b[0;34m=\u001b[0m \u001b[0mos\u001b[0m\u001b[0;34m.\u001b[0m\u001b[0mlstat\u001b[0m\u001b[0;34m(\u001b[0m\u001b[0mpath\u001b[0m\u001b[0;34m)\u001b[0m\u001b[0;34m\u001b[0m\u001b[0;34m\u001b[0m\u001b[0m\n\u001b[1;32m    484\u001b[0m         \u001b[0;32mexcept\u001b[0m \u001b[0mException\u001b[0m\u001b[0;34m:\u001b[0m\u001b[0;34m\u001b[0m\u001b[0;34m\u001b[0m\u001b[0m\n\u001b[0;32m--> 485\u001b[0;31m             \u001b[0monerror\u001b[0m\u001b[0;34m(\u001b[0m\u001b[0mos\u001b[0m\u001b[0;34m.\u001b[0m\u001b[0mlstat\u001b[0m\u001b[0;34m,\u001b[0m \u001b[0mpath\u001b[0m\u001b[0;34m,\u001b[0m \u001b[0msys\u001b[0m\u001b[0;34m.\u001b[0m\u001b[0mexc_info\u001b[0m\u001b[0;34m(\u001b[0m\u001b[0;34m)\u001b[0m\u001b[0;34m)\u001b[0m\u001b[0;34m\u001b[0m\u001b[0;34m\u001b[0m\u001b[0m\n\u001b[0m\u001b[1;32m    486\u001b[0m             \u001b[0;32mreturn\u001b[0m\u001b[0;34m\u001b[0m\u001b[0;34m\u001b[0m\u001b[0m\n\u001b[1;32m    487\u001b[0m         \u001b[0;32mtry\u001b[0m\u001b[0;34m:\u001b[0m\u001b[0;34m\u001b[0m\u001b[0;34m\u001b[0m\u001b[0m\n",
            "\u001b[0;32m/usr/lib/python3.7/shutil.py\u001b[0m in \u001b[0;36mrmtree\u001b[0;34m(path, ignore_errors, onerror)\u001b[0m\n\u001b[1;32m    481\u001b[0m         \u001b[0;31m# lstat()/open()/fstat() trick.\u001b[0m\u001b[0;34m\u001b[0m\u001b[0;34m\u001b[0m\u001b[0;34m\u001b[0m\u001b[0m\n\u001b[1;32m    482\u001b[0m         \u001b[0;32mtry\u001b[0m\u001b[0;34m:\u001b[0m\u001b[0;34m\u001b[0m\u001b[0;34m\u001b[0m\u001b[0m\n\u001b[0;32m--> 483\u001b[0;31m             \u001b[0morig_st\u001b[0m \u001b[0;34m=\u001b[0m \u001b[0mos\u001b[0m\u001b[0;34m.\u001b[0m\u001b[0mlstat\u001b[0m\u001b[0;34m(\u001b[0m\u001b[0mpath\u001b[0m\u001b[0;34m)\u001b[0m\u001b[0;34m\u001b[0m\u001b[0;34m\u001b[0m\u001b[0m\n\u001b[0m\u001b[1;32m    484\u001b[0m         \u001b[0;32mexcept\u001b[0m \u001b[0mException\u001b[0m\u001b[0;34m:\u001b[0m\u001b[0;34m\u001b[0m\u001b[0;34m\u001b[0m\u001b[0m\n\u001b[1;32m    485\u001b[0m             \u001b[0monerror\u001b[0m\u001b[0;34m(\u001b[0m\u001b[0mos\u001b[0m\u001b[0;34m.\u001b[0m\u001b[0mlstat\u001b[0m\u001b[0;34m,\u001b[0m \u001b[0mpath\u001b[0m\u001b[0;34m,\u001b[0m \u001b[0msys\u001b[0m\u001b[0;34m.\u001b[0m\u001b[0mexc_info\u001b[0m\u001b[0;34m(\u001b[0m\u001b[0;34m)\u001b[0m\u001b[0;34m)\u001b[0m\u001b[0;34m\u001b[0m\u001b[0;34m\u001b[0m\u001b[0m\n",
            "\u001b[0;31mFileNotFoundError\u001b[0m: [Errno 2] No such file or directory: '/tmp/tmpml27sgf5'"
          ]
        }
      ],
      "source": [
        "dwca.close()"
      ]
    }
  ],
  "metadata": {
    "colab": {
      "collapsed_sections": [],
      "name": "DatasetScraping.ipynb",
      "provenance": []
    },
    "kernelspec": {
      "display_name": "Python 3",
      "name": "python3"
    },
    "language_info": {
      "name": "python"
    }
  },
  "nbformat": 4,
  "nbformat_minor": 0
}
